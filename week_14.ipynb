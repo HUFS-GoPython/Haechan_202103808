{
 "cells": [
  {
   "cell_type": "markdown",
   "id": "dff45b91-e98a-4499-a745-a5f8ff744105",
   "metadata": {
    "tags": []
   },
   "source": [
    "## 함수 II\n",
    "- 중첩함수\n",
    "- 제너레이터\n",
    "- 재귀함수"
   ]
  },
  {
   "cell_type": "markdown",
   "id": "f8f74789-f561-4367-bec0-e7706e52f4a0",
   "metadata": {},
   "source": [
    "### 중첩함수\n",
    "- 함수를 포함한 함수\n",
    "- 캡슐화 목적\n",
    "    - 변수 범위 제한 가능\n",
    "    - 책임, 관리 명확해짐\n",
    "- 변수에 할당하여 사용 가능"
   ]
  },
  {
   "cell_type": "code",
   "execution_count": 5,
   "id": "c0b735e1-b137-4e28-bce8-f533e5ea3f5b",
   "metadata": {},
   "outputs": [],
   "source": [
    "def outer(a, b): #외부함수\n",
    "    def inner(c, d): #내부함수\n",
    "        return c + d\n",
    "    return inner(a, b)"
   ]
  },
  {
   "cell_type": "code",
   "execution_count": 6,
   "id": "d6e64b94-690f-4998-b912-f0c374e40f66",
   "metadata": {},
   "outputs": [
    {
     "data": {
      "text/plain": [
       "4"
      ]
     },
     "execution_count": 6,
     "metadata": {},
     "output_type": "execute_result"
    }
   ],
   "source": [
    "outer(2, 2)"
   ]
  },
  {
   "cell_type": "code",
   "execution_count": 7,
   "id": "749abacd-e9ea-406a-936b-54bc36e2b078",
   "metadata": {},
   "outputs": [
    {
     "ename": "NameError",
     "evalue": "name 'inner' is not defined",
     "output_type": "error",
     "traceback": [
      "\u001b[1;31m---------------------------------------------------------------------------\u001b[0m",
      "\u001b[1;31mNameError\u001b[0m                                 Traceback (most recent call last)",
      "\u001b[1;32mC:\\Users\\Public\\Documents\\ESTsoft\\CreatorTemp/ipykernel_12188/1182200571.py\u001b[0m in \u001b[0;36m<module>\u001b[1;34m\u001b[0m\n\u001b[1;32m----> 1\u001b[1;33m \u001b[0minner\u001b[0m\u001b[1;33m(\u001b[0m\u001b[1;36m2\u001b[0m\u001b[1;33m,\u001b[0m \u001b[1;36m2\u001b[0m\u001b[1;33m)\u001b[0m \u001b[1;31m# error => 선언한 적이 없다.\u001b[0m\u001b[1;33m\u001b[0m\u001b[1;33m\u001b[0m\u001b[0m\n\u001b[0m",
      "\u001b[1;31mNameError\u001b[0m: name 'inner' is not defined"
     ]
    }
   ],
   "source": [
    "inner(2, 2) # error => 선언한 적이 없다."
   ]
  },
  {
   "cell_type": "code",
   "execution_count": 8,
   "id": "e881eadb-2f3c-4e03-ad5f-b007525727bd",
   "metadata": {},
   "outputs": [],
   "source": [
    "def knights(saying):\n",
    "    def inner(quote):\n",
    "        return f'we are the knights who say: {quote}'\n",
    "    return inner(saying)"
   ]
  },
  {
   "cell_type": "code",
   "execution_count": 9,
   "id": "fd4b382d-f1ea-41aa-9684-9f6df3abd1d2",
   "metadata": {},
   "outputs": [
    {
     "data": {
      "text/plain": [
       "'we are the knights who say: Ni!'"
      ]
     },
     "execution_count": 9,
     "metadata": {},
     "output_type": "execute_result"
    }
   ],
   "source": [
    "knights('Ni!')"
   ]
  },
  {
   "cell_type": "markdown",
   "id": "fd7b50d9-e685-49fc-b250-9a543737d819",
   "metadata": {},
   "source": [
    "클로저\n",
    "- 자신을 둘러싼 scope (name space)의 상태값을 기억하는 함수\n",
    "- 메모리 효율적 사용 (함수 호출 시 꺼내 쓸 수 있음)\n",
    "- 조건\n",
    "    - 중첩함수여야 함\n",
    "    - 외부함수의 상태값 참조해야 함\n",
    "    - 외부함수가 내부함수를 반환해야 함"
   ]
  },
  {
   "cell_type": "code",
   "execution_count": 20,
   "id": "563e3966-1f5e-4ca9-9287-af80c30cbc3b",
   "metadata": {},
   "outputs": [],
   "source": [
    "def multiply(x): #클로저 (closure)\n",
    "    def inner(y):\n",
    "        return x * y\n",
    "    return inner #함수 실행되기 전"
   ]
  },
  {
   "cell_type": "code",
   "execution_count": 21,
   "id": "12dc5051-290c-44b8-a510-b2f7c20669c7",
   "metadata": {},
   "outputs": [
    {
     "data": {
      "text/plain": [
       "<function __main__.multiply(x)>"
      ]
     },
     "execution_count": 21,
     "metadata": {},
     "output_type": "execute_result"
    }
   ],
   "source": [
    "multiply"
   ]
  },
  {
   "cell_type": "code",
   "execution_count": 22,
   "id": "c83c5965-720b-4fcd-a812-14817c4b0b1f",
   "metadata": {},
   "outputs": [],
   "source": [
    "m5 = multiply(5) # x=5\n",
    "m6 = multiply(6) # x=6"
   ]
  },
  {
   "cell_type": "code",
   "execution_count": 23,
   "id": "9c47c327-4dd5-4149-a218-70d262a41ac6",
   "metadata": {},
   "outputs": [
    {
     "data": {
      "text/plain": [
       "(30, 54)"
      ]
     },
     "execution_count": 23,
     "metadata": {},
     "output_type": "execute_result"
    }
   ],
   "source": [
    "m5(6), m6(9)"
   ]
  },
  {
   "cell_type": "code",
   "execution_count": 24,
   "id": "cd259731-a3e2-488f-b019-074ed28b53dd",
   "metadata": {},
   "outputs": [],
   "source": [
    "del(multiply)"
   ]
  },
  {
   "cell_type": "code",
   "execution_count": 25,
   "id": "b4cd2a6c-1f97-4685-86bd-b0e3ca315e84",
   "metadata": {},
   "outputs": [
    {
     "ename": "NameError",
     "evalue": "name 'multiply' is not defined",
     "output_type": "error",
     "traceback": [
      "\u001b[1;31m---------------------------------------------------------------------------\u001b[0m",
      "\u001b[1;31mNameError\u001b[0m                                 Traceback (most recent call last)",
      "\u001b[1;32mC:\\Users\\Public\\Documents\\ESTsoft\\CreatorTemp/ipykernel_12188/330517852.py\u001b[0m in \u001b[0;36m<module>\u001b[1;34m\u001b[0m\n\u001b[1;32m----> 1\u001b[1;33m \u001b[0mmultiply\u001b[0m\u001b[1;33m\u001b[0m\u001b[1;33m\u001b[0m\u001b[0m\n\u001b[0m",
      "\u001b[1;31mNameError\u001b[0m: name 'multiply' is not defined"
     ]
    }
   ],
   "source": [
    "multiply"
   ]
  },
  {
   "cell_type": "code",
   "execution_count": 27,
   "id": "a44ffbd4-9e35-461e-b42b-6f8125c688fa",
   "metadata": {},
   "outputs": [
    {
     "data": {
      "text/plain": [
       "50"
      ]
     },
     "execution_count": 27,
     "metadata": {},
     "output_type": "execute_result"
    }
   ],
   "source": [
    "m5(10) # multiply가 삭제되어도 실행됨"
   ]
  },
  {
   "cell_type": "markdown",
   "id": "edd501aa-5166-4c1e-9c2b-53f84799a6fa",
   "metadata": {},
   "source": [
    "### 데코레이터\n",
    "- 메인 함수에 또다른 함수를 데코레이터로 선언하여 사용할 수 있음\n",
    "- `@`가 달린 함수의 기능이 모두 메인 함수로 들어감\n",
    "- 목적:\n",
    "    - 재사용, 가독성, 직관적"
   ]
  },
  {
   "cell_type": "code",
   "execution_count": 30,
   "id": "c731f3ed-6f73-44ba-91df-53a7794a42cb",
   "metadata": {},
   "outputs": [],
   "source": [
    "def document_it(func):\n",
    "    def new_func(*args, **kargs):\n",
    "        print('arguments: ', args)\n",
    "        print('key arguments: ', kargs)\n",
    "        return func(*args, **kargs)\n",
    "    return new_func\n",
    "\n",
    "@document_it\n",
    "def add(a, b):\n",
    "    return a + b\n",
    "\n",
    "@document_it\n",
    "def subtract(a, b):\n",
    "    return a - b"
   ]
  },
  {
   "cell_type": "code",
   "execution_count": 31,
   "id": "6b2625e9-e1e0-41a5-ade5-d8e6d27c035f",
   "metadata": {},
   "outputs": [
    {
     "name": "stdout",
     "output_type": "stream",
     "text": [
      "arguments:  (1, 3)\n",
      "key arguments:  {}\n"
     ]
    },
    {
     "data": {
      "text/plain": [
       "4"
      ]
     },
     "execution_count": 31,
     "metadata": {},
     "output_type": "execute_result"
    }
   ],
   "source": [
    "add(1, 3)"
   ]
  },
  {
   "cell_type": "code",
   "execution_count": 32,
   "id": "8c156521-1e34-4d74-a226-46cf3edb4057",
   "metadata": {},
   "outputs": [],
   "source": [
    "# add에 활용할 중첩함수 만들기\n",
    "# 결과값의 제곱 값을 반환하는 클로저 함수 만들기\n",
    "\n",
    "def square(func):\n",
    "    def new_func(*args):\n",
    "        result = func(*args)\n",
    "        return result * result\n",
    "    return new_func\n",
    "\n",
    "@square\n",
    "def add(a, b):\n",
    "    return a + b"
   ]
  },
  {
   "cell_type": "code",
   "execution_count": 33,
   "id": "1cdc643c-17b6-4709-8d25-5471d0f4c182",
   "metadata": {},
   "outputs": [
    {
     "data": {
      "text/plain": [
       "49"
      ]
     },
     "execution_count": 33,
     "metadata": {},
     "output_type": "execute_result"
    }
   ],
   "source": [
    "add(3, 4) # 7*7"
   ]
  },
  {
   "cell_type": "markdown",
   "id": "e929af66-2bcc-4abc-b3f8-095e3a030a40",
   "metadata": {},
   "source": [
    "#### scope: global, local, nonlocal\n",
    "- 내부함수는 외부함수의 인자를 \"참조\"(읽기)만 할 수 있음\n",
    "    - 계산 등 불가\n",
    "    - nonlocal 예약어를 활용하여 해결"
   ]
  },
  {
   "cell_type": "code",
   "execution_count": 37,
   "id": "d0a12e1a-d25e-4f09-95ce-c57600155bf3",
   "metadata": {},
   "outputs": [],
   "source": [
    "# 전역 (global)\n",
    "def square(func):\n",
    "    # 지역 (local)\n",
    "    def new_func(*args):\n",
    "        # 지역 내의 지역(?)\n",
    "        result = func(*args)\n",
    "        return result * result\n",
    "    return new_func"
   ]
  },
  {
   "cell_type": "code",
   "execution_count": 38,
   "id": "15b224d3-3204-4219-9b3c-870a22bcdde9",
   "metadata": {},
   "outputs": [
    {
     "data": {
      "text/plain": [
       "10"
      ]
     },
     "execution_count": 38,
     "metadata": {},
     "output_type": "execute_result"
    }
   ],
   "source": [
    "z = 3\n",
    "def outer(x):\n",
    "    y = 4\n",
    "    def inner():\n",
    "        x = 1000\n",
    "        return x\n",
    "    return x\n",
    "\n",
    "outer(10)\n",
    "# inner을 타지 않았으므로 그대로 10"
   ]
  },
  {
   "cell_type": "code",
   "execution_count": 39,
   "id": "2fd0f988-f970-4f4a-b37d-c69c45b9f751",
   "metadata": {},
   "outputs": [
    {
     "data": {
      "text/plain": [
       "1000"
      ]
     },
     "execution_count": 39,
     "metadata": {},
     "output_type": "execute_result"
    }
   ],
   "source": [
    "z = 3\n",
    "def outer(x): # x값 참조\n",
    "    y = 4\n",
    "    def inner():\n",
    "        x = 1000\n",
    "        return x\n",
    "    return inner()\n",
    "\n",
    "outer(10)\n",
    "# inner을 탔으므로 무엇을 넣든 1000"
   ]
  },
  {
   "cell_type": "code",
   "execution_count": 42,
   "id": "ae562610-d124-442d-aee7-3b69bbed4f13",
   "metadata": {},
   "outputs": [
    {
     "data": {
      "text/plain": [
       "11"
      ]
     },
     "execution_count": 42,
     "metadata": {},
     "output_type": "execute_result"
    }
   ],
   "source": [
    "z = 3\n",
    "def outer(x):\n",
    "    y = 4\n",
    "    def inner():\n",
    "        nonlocal x\n",
    "        x += 1\n",
    "        return x\n",
    "    return inner()\n",
    "\n",
    "outer(10)"
   ]
  },
  {
   "cell_type": "code",
   "execution_count": 44,
   "id": "524ed67b-fd89-4eb5-90ba-3cfb6530edf4",
   "metadata": {},
   "outputs": [],
   "source": [
    "# 좋지 않은 함수의 예\n",
    "def my_func(nums:list): # 가변인자를 넣었는데, 리턴 없이도 리턴 얻음\n",
    "    nums.append(sum(nums))\n",
    "\n",
    "a = [1, 2, 3]\n",
    "my_func(a)"
   ]
  },
  {
   "cell_type": "code",
   "execution_count": 47,
   "id": "f2795fb3-2ba2-40c0-9b94-b14f8813ecbe",
   "metadata": {},
   "outputs": [
    {
     "data": {
      "text/plain": [
       "[1, 2, 3, 6]"
      ]
     },
     "execution_count": 47,
     "metadata": {},
     "output_type": "execute_result"
    }
   ],
   "source": [
    "a"
   ]
  },
  {
   "cell_type": "code",
   "execution_count": 49,
   "id": "d74dd001-90a1-43f9-9b5c-6b48708e4f1f",
   "metadata": {},
   "outputs": [
    {
     "data": {
      "text/plain": [
       "[1, 2, 3, 6, 12, 24, 48, 96, 192]"
      ]
     },
     "execution_count": 49,
     "metadata": {},
     "output_type": "execute_result"
    }
   ],
   "source": [
    "my_func(a)\n",
    "my_func(a)\n",
    "my_func(a)\n",
    "a"
   ]
  },
  {
   "cell_type": "markdown",
   "id": "4d762467-030a-42c9-86a6-bd2ad4b2cad4",
   "metadata": {
    "jp-MarkdownHeadingCollapsed": true,
    "tags": []
   },
   "source": [
    "### 실습\n",
    "1. 함수\n",
    "    - 차 속도, 제한 속도를 비교해서 True / False\n",
    "2. 데코레이터 함수\n",
    "    - 만약 제한 속도를 초과했다면 얼마나 초과했는지 프린트하는 함수\n",
    "    - example) 100, 80 --> \"20 km/h 초과\""
   ]
  },
  {
   "cell_type": "code",
   "execution_count": 50,
   "id": "4fa24f51-ff45-42a5-96cc-49e15041a6e8",
   "metadata": {},
   "outputs": [
    {
     "data": {
      "text/plain": [
       "'초과 속도: 20 km/h'"
      ]
     },
     "execution_count": 50,
     "metadata": {},
     "output_type": "execute_result"
    }
   ],
   "source": [
    "def calc_speed(func):\n",
    "    def inner(speed, limit):\n",
    "        if func(speed, limit):\n",
    "            return f'초과 속도: {speed - limit} km/h'\n",
    "        else:\n",
    "            return f'정상 속도'\n",
    "    return inner\n",
    "\n",
    "@calc_speed\n",
    "def is_speeding(speed, limit):\n",
    "    return speed > limit\n",
    "\n",
    "is_speeding(100, 80)"
   ]
  },
  {
   "cell_type": "markdown",
   "id": "a542f609-7bb6-434f-8636-a2454559ec44",
   "metadata": {},
   "source": [
    "### 제너레이터\n",
    "- return (X) / yield (O)\n",
    "- 순회의 리턴값을 하나씩 변환\n",
    "- 시퀀스를 생성하는 객체\n",
    "- 메모리 효율성 증대\n",
    "    - 한번 사용되고 메모리에서 사라짐\n",
    "- 함수를 for문으로 돌려줘야 함"
   ]
  },
  {
   "cell_type": "code",
   "execution_count": 60,
   "id": "fd885531-5260-41e1-a73d-1fb6ccea9e5b",
   "metadata": {},
   "outputs": [
    {
     "name": "stdout",
     "output_type": "stream",
     "text": [
      "0\n",
      "1\n",
      "2\n",
      "3\n",
      "4\n"
     ]
    }
   ],
   "source": [
    "def example():\n",
    "    for i in range(5):\n",
    "        yield i\n",
    "\n",
    "for i in example():\n",
    "    print(i)"
   ]
  },
  {
   "cell_type": "code",
   "execution_count": 76,
   "id": "c227bea1-f53c-4d34-bd04-c7732a5e32e7",
   "metadata": {},
   "outputs": [],
   "source": [
    "names = 'Kevin Michael Juliette Laura'.split()\n",
    "\n",
    "def printing(name_list:list):\n",
    "    for name in name_list:\n",
    "        yield name\n",
    "\n",
    "name_list = printing(names)"
   ]
  },
  {
   "cell_type": "code",
   "execution_count": 77,
   "id": "220bcfcd-15a5-43c3-a824-a065d17a9d40",
   "metadata": {},
   "outputs": [
    {
     "name": "stdout",
     "output_type": "stream",
     "text": [
      "Kevin\n",
      "Michael\n",
      "Juliette\n",
      "Laura\n",
      "Kevin\n",
      "Michael\n",
      "Juliette\n",
      "Laura\n"
     ]
    }
   ],
   "source": [
    "for i in printing(names):\n",
    "    print(i)\n",
    "\n",
    "for i in printing(names):\n",
    "    print(i)"
   ]
  },
  {
   "cell_type": "code",
   "execution_count": 78,
   "id": "db76dd92-8eb3-4bb1-8c1b-359f1938a3da",
   "metadata": {},
   "outputs": [
    {
     "name": "stdout",
     "output_type": "stream",
     "text": [
      "Kevin\n",
      "Michael\n",
      "Juliette\n",
      "Laura\n"
     ]
    }
   ],
   "source": [
    "for i in name_list:\n",
    "    print(i)\n",
    "\n",
    "for i in name_list:\n",
    "    print(i) #두 번째는 출력 X"
   ]
  },
  {
   "cell_type": "markdown",
   "id": "35137625-eda5-4a95-aa6a-f4a71c785ded",
   "metadata": {
    "jp-MarkdownHeadingCollapsed": true,
    "tags": []
   },
   "source": [
    "#### 실습\n",
    "- range 함수 구현하기"
   ]
  },
  {
   "cell_type": "code",
   "execution_count": 81,
   "id": "9062b6be-a51f-4ad5-9b00-55f9f97fb252",
   "metadata": {},
   "outputs": [
    {
     "name": "stdout",
     "output_type": "stream",
     "text": [
      "1\n",
      "3\n",
      "5\n",
      "7\n",
      "9\n"
     ]
    }
   ],
   "source": [
    "# 내 답안\n",
    "def my_range(start, end, step):\n",
    "    temp_num = start\n",
    "    while temp_num < end:\n",
    "        yield temp_num\n",
    "        temp_num += step\n",
    "\n",
    "ranger = my_range(1, 10, 2)\n",
    "for i in ranger:\n",
    "    print(i)"
   ]
  },
  {
   "cell_type": "code",
   "execution_count": 83,
   "id": "ec971307-a60a-40e6-89be-ffda47379c29",
   "metadata": {},
   "outputs": [
    {
     "name": "stdout",
     "output_type": "stream",
     "text": [
      "1\n",
      "3\n",
      "5\n",
      "7\n",
      "9\n"
     ]
    }
   ],
   "source": [
    "# 모법 답안\n",
    "def my_range(start, end, step=1):\n",
    "    while start < end:\n",
    "        yield start\n",
    "        start += step\n",
    "\n",
    "ranger = my_range(1, 10, 2)\n",
    "for i in ranger:\n",
    "    print(i)"
   ]
  },
  {
   "cell_type": "markdown",
   "id": "cd8311e3-63e6-4d9f-abda-7ce2d38ec8dd",
   "metadata": {
    "tags": []
   },
   "source": [
    "### 재귀함수\n",
    "- 자기 자신을 호출하는 함수\n",
    "- 모든 요소의 차원을 단일화시킬 때 사용\n",
    "- 재귀가 너무 깊어지면 run time error 발생 주의"
   ]
  },
  {
   "cell_type": "code",
   "execution_count": 86,
   "id": "08fde750-0ad9-4326-832b-02ea2625985e",
   "metadata": {},
   "outputs": [],
   "source": [
    "def flatten(sent):\n",
    "    for word in sent:\n",
    "        if isinstance(word, list): #리스트가 맞다면\n",
    "            for sub_word in flatten(word):\n",
    "                yield sub_word\n",
    "        else:\n",
    "            yield word\n",
    "\n",
    "a = [1, 2, [2, 3, 4], [[[1, 2]]]]"
   ]
  },
  {
   "cell_type": "code",
   "execution_count": 87,
   "id": "0d18f793-99d2-473a-8e26-063fdb186e9d",
   "metadata": {},
   "outputs": [
    {
     "name": "stdout",
     "output_type": "stream",
     "text": [
      "1\n",
      "2\n",
      "2\n",
      "3\n",
      "4\n",
      "1\n",
      "2\n"
     ]
    }
   ],
   "source": [
    "for i in flatten(a):\n",
    "    print(i)"
   ]
  },
  {
   "cell_type": "code",
   "execution_count": 90,
   "id": "50de74e4-266d-4479-aa0b-0b76d40b021a",
   "metadata": {},
   "outputs": [],
   "source": [
    "def flatten(sent):\n",
    "    for word in sent:\n",
    "        if isinstance(word, list):\n",
    "            yield from flatten(word) # 파이썬 3.3부터 가능\n",
    "        else:\n",
    "            yield word"
   ]
  },
  {
   "cell_type": "code",
   "execution_count": 91,
   "id": "77ca091d-370b-47c5-bb41-c85c4928ac0e",
   "metadata": {},
   "outputs": [
    {
     "data": {
      "text/plain": [
       "False"
      ]
     },
     "execution_count": 91,
     "metadata": {},
     "output_type": "execute_result"
    }
   ],
   "source": [
    "isinstance('word', int)"
   ]
  },
  {
   "cell_type": "markdown",
   "id": "bafe8d75-8121-4b3f-b815-c9482dbea3bf",
   "metadata": {},
   "source": [
    "## 예외 처리 | exception handling\n",
    "- 프로그램 동작 중 예외가 발생했을 때 대처하기 위함\n",
    "- 사용자에게 예외를 알리고, 원하는 조치를 설정함\n",
    "- 프로그램이 정상적으로 종료가 될 수 있음\n",
    "- 가장 흔한 에러 종류\n",
    "    - `ZeroDivisionError`: 0으로 나누었을 때\n",
    "    - `IndexError`: 입력한 index가 범위 밖일 때\n",
    "    - `ValueError`: 형 변환이 불가능할 때\n",
    "    - `NameError`: 정의되지 않은 변수를 불러올 때\n",
    "- 예외가 발생할 수도 있는 코드 블럭을 try문에 넣음\n",
    "    - 전체를 넣으면 오류 시 전체가 끝나버림"
   ]
  },
  {
   "cell_type": "code",
   "execution_count": 92,
   "id": "bfdf3f91-9275-4373-8535-e8bac7c6759f",
   "metadata": {},
   "outputs": [
    {
     "name": "stdout",
     "output_type": "stream",
     "text": [
      "0으로 나눌 수 없음\n"
     ]
    }
   ],
   "source": [
    "try:\n",
    "    # 예외가 발생할 수도 있는 코드 블럭\n",
    "    5/0\n",
    "except ZeroDivisionError:\n",
    "    # 에외 시 실행할 것\n",
    "    print('0으로 나눌 수 없음')"
   ]
  },
  {
   "cell_type": "code",
   "execution_count": 95,
   "id": "6132e4b6-85cc-4835-bc6b-6fabce4bdcf7",
   "metadata": {},
   "outputs": [
    {
     "name": "stdout",
     "output_type": "stream",
     "text": [
      "0으로 나눌 수 없음\n"
     ]
    }
   ],
   "source": [
    "# 전체를 try문에 넣기\n",
    "try:\n",
    "    for i in range(10):\n",
    "        print(10 / i)\n",
    "except ZeroDivisionError:\n",
    "    print('0으로 나눌 수 없음')"
   ]
  },
  {
   "cell_type": "code",
   "execution_count": 96,
   "id": "005d8443-899f-4cf7-83eb-094eb794ce74",
   "metadata": {},
   "outputs": [
    {
     "name": "stdout",
     "output_type": "stream",
     "text": [
      "0으로 나눌 수 없음\n",
      "10.0\n",
      "5.0\n",
      "3.3333333333333335\n",
      "2.5\n",
      "2.0\n",
      "1.6666666666666667\n",
      "1.4285714285714286\n",
      "1.25\n",
      "1.1111111111111112\n"
     ]
    }
   ],
   "source": [
    "# 예외가 발생할 수도 있는 코드 블럭만 넣기\n",
    "for i in range(10):\n",
    "    try:\n",
    "        print(10 / i)\n",
    "    except ZeroDivisionError:\n",
    "        print('0으로 나눌 수 없음')"
   ]
  },
  {
   "cell_type": "code",
   "execution_count": 99,
   "id": "429a2315-6477-4fe9-ab4d-1e8ac445db9e",
   "metadata": {},
   "outputs": [
    {
     "name": "stdin",
     "output_type": "stream",
     "text": [
      "인덱스를 입력하세요>>  0\n"
     ]
    },
    {
     "name": "stdout",
     "output_type": "stream",
     "text": [
      "h\n"
     ]
    },
    {
     "name": "stdin",
     "output_type": "stream",
     "text": [
      "인덱스를 입력하세요>>  10\n"
     ]
    },
    {
     "name": "stdout",
     "output_type": "stream",
     "text": [
      "string index out of range\n"
     ]
    },
    {
     "name": "stdin",
     "output_type": "stream",
     "text": [
      "인덱스를 입력하세요>>  x\n"
     ]
    },
    {
     "name": "stdout",
     "output_type": "stream",
     "text": [
      "invalid literal for int() with base 10: 'x'\n"
     ]
    },
    {
     "name": "stdin",
     "output_type": "stream",
     "text": [
      "인덱스를 입력하세요>>  q\n"
     ]
    }
   ],
   "source": [
    "word = 'hello'\n",
    "while True:\n",
    "    index = input('인덱스를 입력하세요>> ')\n",
    "    if index == 'q':\n",
    "        break\n",
    "    try:\n",
    "        index = int(index) # ValueError, IndexError\n",
    "        print(word[index])\n",
    "    # 단순히 에러의 모습을 보고 싶을 때 사용하는 방법\n",
    "    except ValueError as e1:\n",
    "        print(e1)\n",
    "    except IndexError as e2:\n",
    "        print(e2)"
   ]
  },
  {
   "cell_type": "markdown",
   "id": "cbcb0a9f-fd04-48a7-9a27-b88e6b31bc2c",
   "metadata": {},
   "source": [
    "### 예외 일으키기\n",
    "- 프로그램을 강제 종료시키기 위해 사용함\n",
    "- raise, assert\n",
    "    - `raise <예외타입>(<메세지>)`\n",
    "    - `assert <참인 조건>, <False일 경우 메세지>`\n",
    "        - AssertionError로 발생"
   ]
  },
  {
   "cell_type": "code",
   "execution_count": 100,
   "id": "4edb182f-18ee-4908-bfb5-9f95b8621eda",
   "metadata": {},
   "outputs": [
    {
     "name": "stdin",
     "output_type": "stream",
     "text": [
      "숫자>>  2\n"
     ]
    },
    {
     "name": "stdout",
     "output_type": "stream",
     "text": [
      "7\n"
     ]
    },
    {
     "name": "stdin",
     "output_type": "stream",
     "text": [
      "숫자>>  ㅇ\n"
     ]
    },
    {
     "ename": "ValueError",
     "evalue": "숫자가 아닙니다!",
     "output_type": "error",
     "traceback": [
      "\u001b[1;31m---------------------------------------------------------------------------\u001b[0m",
      "\u001b[1;31mValueError\u001b[0m                                Traceback (most recent call last)",
      "\u001b[1;32mC:\\Users\\Public\\Documents\\ESTsoft\\CreatorTemp/ipykernel_12188/1475971809.py\u001b[0m in \u001b[0;36m<module>\u001b[1;34m\u001b[0m\n\u001b[0;32m      2\u001b[0m     \u001b[0mnum\u001b[0m \u001b[1;33m=\u001b[0m \u001b[0minput\u001b[0m\u001b[1;33m(\u001b[0m\u001b[1;34m'숫자>> '\u001b[0m\u001b[1;33m)\u001b[0m\u001b[1;33m\u001b[0m\u001b[1;33m\u001b[0m\u001b[0m\n\u001b[0;32m      3\u001b[0m     \u001b[1;32mif\u001b[0m \u001b[1;32mnot\u001b[0m \u001b[0mnum\u001b[0m\u001b[1;33m.\u001b[0m\u001b[0misdigit\u001b[0m\u001b[1;33m(\u001b[0m\u001b[1;33m)\u001b[0m\u001b[1;33m:\u001b[0m\u001b[1;33m\u001b[0m\u001b[1;33m\u001b[0m\u001b[0m\n\u001b[1;32m----> 4\u001b[1;33m         \u001b[1;32mraise\u001b[0m \u001b[0mValueError\u001b[0m\u001b[1;33m(\u001b[0m\u001b[1;34m'숫자가 아닙니다!'\u001b[0m\u001b[1;33m)\u001b[0m\u001b[1;33m\u001b[0m\u001b[1;33m\u001b[0m\u001b[0m\n\u001b[0m\u001b[0;32m      5\u001b[0m     \u001b[1;32melse\u001b[0m\u001b[1;33m:\u001b[0m\u001b[1;33m\u001b[0m\u001b[1;33m\u001b[0m\u001b[0m\n\u001b[0;32m      6\u001b[0m         \u001b[0mprint\u001b[0m\u001b[1;33m(\u001b[0m\u001b[0mint\u001b[0m\u001b[1;33m(\u001b[0m\u001b[0mnum\u001b[0m\u001b[1;33m)\u001b[0m \u001b[1;33m+\u001b[0m \u001b[1;36m5\u001b[0m\u001b[1;33m)\u001b[0m\u001b[1;33m\u001b[0m\u001b[1;33m\u001b[0m\u001b[0m\n",
      "\u001b[1;31mValueError\u001b[0m: 숫자가 아닙니다!"
     ]
    }
   ],
   "source": [
    "while True:\n",
    "    num = input('숫자>> ')\n",
    "    if not num.isdigit():\n",
    "        raise ValueError('숫자가 아닙니다!')\n",
    "    else:\n",
    "        print(int(num) + 5)"
   ]
  },
  {
   "cell_type": "code",
   "execution_count": 101,
   "id": "f233ecd2-3c94-4af2-b0fd-c367e6798b66",
   "metadata": {},
   "outputs": [
    {
     "ename": "AssertionError",
     "evalue": "정수 아님",
     "output_type": "error",
     "traceback": [
      "\u001b[1;31m---------------------------------------------------------------------------\u001b[0m",
      "\u001b[1;31mAssertionError\u001b[0m                            Traceback (most recent call last)",
      "\u001b[1;32mC:\\Users\\Public\\Documents\\ESTsoft\\CreatorTemp/ipykernel_12188/2294291567.py\u001b[0m in \u001b[0;36m<module>\u001b[1;34m\u001b[0m\n\u001b[0;32m      3\u001b[0m     \u001b[1;32mreturn\u001b[0m \u001b[0mbin\u001b[0m\u001b[1;33m(\u001b[0m\u001b[0mnum\u001b[0m\u001b[1;33m)\u001b[0m\u001b[1;33m\u001b[0m\u001b[1;33m\u001b[0m\u001b[0m\n\u001b[0;32m      4\u001b[0m \u001b[1;33m\u001b[0m\u001b[0m\n\u001b[1;32m----> 5\u001b[1;33m \u001b[0mget_binary\u001b[0m\u001b[1;33m(\u001b[0m\u001b[1;34m'10'\u001b[0m\u001b[1;33m)\u001b[0m\u001b[1;33m\u001b[0m\u001b[1;33m\u001b[0m\u001b[0m\n\u001b[0m",
      "\u001b[1;32mC:\\Users\\Public\\Documents\\ESTsoft\\CreatorTemp/ipykernel_12188/2294291567.py\u001b[0m in \u001b[0;36mget_binary\u001b[1;34m(num)\u001b[0m\n\u001b[0;32m      1\u001b[0m \u001b[1;32mdef\u001b[0m \u001b[0mget_binary\u001b[0m\u001b[1;33m(\u001b[0m\u001b[0mnum\u001b[0m\u001b[1;33m)\u001b[0m\u001b[1;33m:\u001b[0m\u001b[1;33m\u001b[0m\u001b[1;33m\u001b[0m\u001b[0m\n\u001b[1;32m----> 2\u001b[1;33m     \u001b[1;32massert\u001b[0m \u001b[0misinstance\u001b[0m\u001b[1;33m(\u001b[0m\u001b[0mnum\u001b[0m\u001b[1;33m,\u001b[0m \u001b[0mint\u001b[0m\u001b[1;33m)\u001b[0m\u001b[1;33m,\u001b[0m \u001b[1;34m'정수 아님'\u001b[0m\u001b[1;33m\u001b[0m\u001b[1;33m\u001b[0m\u001b[0m\n\u001b[0m\u001b[0;32m      3\u001b[0m     \u001b[1;32mreturn\u001b[0m \u001b[0mbin\u001b[0m\u001b[1;33m(\u001b[0m\u001b[0mnum\u001b[0m\u001b[1;33m)\u001b[0m\u001b[1;33m\u001b[0m\u001b[1;33m\u001b[0m\u001b[0m\n\u001b[0;32m      4\u001b[0m \u001b[1;33m\u001b[0m\u001b[0m\n\u001b[0;32m      5\u001b[0m \u001b[0mget_binary\u001b[0m\u001b[1;33m(\u001b[0m\u001b[1;34m'10'\u001b[0m\u001b[1;33m)\u001b[0m\u001b[1;33m\u001b[0m\u001b[1;33m\u001b[0m\u001b[0m\n",
      "\u001b[1;31mAssertionError\u001b[0m: 정수 아님"
     ]
    }
   ],
   "source": [
    "def get_binary(num):\n",
    "    assert isinstance(num, int), '정수 아님'\n",
    "    return bin(num)\n",
    "\n",
    "get_binary('10')"
   ]
  },
  {
   "cell_type": "markdown",
   "id": "ed558138-443e-4044-be44-2444a82fb38e",
   "metadata": {},
   "source": [
    "#### 사용자 정의 예외 타입\n",
    "- class 선언, Exception 클래스를 상속 받는다."
   ]
  },
  {
   "cell_type": "code",
   "execution_count": 102,
   "id": "cf90e3a9-a7bd-417f-a39c-b04ba318075e",
   "metadata": {},
   "outputs": [],
   "source": [
    "class MyException(Exception):\n",
    "    pass"
   ]
  },
  {
   "cell_type": "code",
   "execution_count": 106,
   "id": "12926809-aacb-4b27-afeb-0990e9f524e9",
   "metadata": {},
   "outputs": [],
   "source": [
    "cities = 'dublin newyork seoul TOKYO'.split()"
   ]
  },
  {
   "cell_type": "code",
   "execution_count": 107,
   "id": "add1f2c2-aeb1-4379-bacc-8c59619e5229",
   "metadata": {},
   "outputs": [
    {
     "name": "stdout",
     "output_type": "stream",
     "text": [
      "dublin\n",
      "newyork\n",
      "seoul\n"
     ]
    },
    {
     "ename": "MyException",
     "evalue": "대문자 안됨",
     "output_type": "error",
     "traceback": [
      "\u001b[1;31m---------------------------------------------------------------------------\u001b[0m",
      "\u001b[1;31mMyException\u001b[0m                               Traceback (most recent call last)",
      "\u001b[1;32mC:\\Users\\Public\\Documents\\ESTsoft\\CreatorTemp/ipykernel_12188/438556915.py\u001b[0m in \u001b[0;36m<module>\u001b[1;34m\u001b[0m\n\u001b[0;32m      2\u001b[0m \u001b[1;32mfor\u001b[0m \u001b[0mcity\u001b[0m \u001b[1;32min\u001b[0m \u001b[0mcities\u001b[0m\u001b[1;33m:\u001b[0m\u001b[1;33m\u001b[0m\u001b[1;33m\u001b[0m\u001b[0m\n\u001b[0;32m      3\u001b[0m     \u001b[1;32mif\u001b[0m \u001b[0mcity\u001b[0m\u001b[1;33m.\u001b[0m\u001b[0misupper\u001b[0m\u001b[1;33m(\u001b[0m\u001b[1;33m)\u001b[0m\u001b[1;33m:\u001b[0m\u001b[1;33m\u001b[0m\u001b[1;33m\u001b[0m\u001b[0m\n\u001b[1;32m----> 4\u001b[1;33m         \u001b[1;32mraise\u001b[0m \u001b[0mMyException\u001b[0m\u001b[1;33m(\u001b[0m\u001b[1;34m'대문자 안됨'\u001b[0m\u001b[1;33m)\u001b[0m\u001b[1;33m\u001b[0m\u001b[1;33m\u001b[0m\u001b[0m\n\u001b[0m\u001b[0;32m      5\u001b[0m     \u001b[1;32melse\u001b[0m\u001b[1;33m:\u001b[0m\u001b[1;33m\u001b[0m\u001b[1;33m\u001b[0m\u001b[0m\n\u001b[0;32m      6\u001b[0m         \u001b[0mprint\u001b[0m\u001b[1;33m(\u001b[0m\u001b[0mcity\u001b[0m\u001b[1;33m)\u001b[0m\u001b[1;33m\u001b[0m\u001b[1;33m\u001b[0m\u001b[0m\n",
      "\u001b[1;31mMyException\u001b[0m: 대문자 안됨"
     ]
    }
   ],
   "source": [
    "# 예외에 대해 메세지를 따로 정해주고 싶을 때 방법\n",
    "for city in cities:\n",
    "    if city.isupper():\n",
    "        raise MyException('대문자 안됨')\n",
    "    else:\n",
    "        print(city)"
   ]
  },
  {
   "cell_type": "code",
   "execution_count": 108,
   "id": "8b16b567-615c-4c7b-969c-eaa9e00db307",
   "metadata": {},
   "outputs": [
    {
     "name": "stdout",
     "output_type": "stream",
     "text": [
      "dublin\n",
      "newyork\n",
      "seoul\n"
     ]
    },
    {
     "ename": "UppercaseException",
     "evalue": "대문자 안된다구",
     "output_type": "error",
     "traceback": [
      "\u001b[1;31m---------------------------------------------------------------------------\u001b[0m",
      "\u001b[1;31mUppercaseException\u001b[0m                        Traceback (most recent call last)",
      "\u001b[1;32mC:\\Users\\Public\\Documents\\ESTsoft\\CreatorTemp/ipykernel_12188/2108044471.py\u001b[0m in \u001b[0;36m<module>\u001b[1;34m\u001b[0m\n\u001b[0;32m      8\u001b[0m     \u001b[1;32mif\u001b[0m \u001b[0mcity\u001b[0m\u001b[1;33m.\u001b[0m\u001b[0misupper\u001b[0m\u001b[1;33m(\u001b[0m\u001b[1;33m)\u001b[0m\u001b[1;33m:\u001b[0m\u001b[1;33m\u001b[0m\u001b[1;33m\u001b[0m\u001b[0m\n\u001b[0;32m      9\u001b[0m         \u001b[1;31m# raise MyException('대문자 안됨')\u001b[0m\u001b[1;33m\u001b[0m\u001b[1;33m\u001b[0m\u001b[0m\n\u001b[1;32m---> 10\u001b[1;33m         \u001b[1;32mraise\u001b[0m \u001b[0mUppercaseException\u001b[0m\u001b[1;33m\u001b[0m\u001b[1;33m\u001b[0m\u001b[0m\n\u001b[0m\u001b[0;32m     11\u001b[0m     \u001b[1;32melse\u001b[0m\u001b[1;33m:\u001b[0m\u001b[1;33m\u001b[0m\u001b[1;33m\u001b[0m\u001b[0m\n\u001b[0;32m     12\u001b[0m         \u001b[0mprint\u001b[0m\u001b[1;33m(\u001b[0m\u001b[0mcity\u001b[0m\u001b[1;33m)\u001b[0m\u001b[1;33m\u001b[0m\u001b[1;33m\u001b[0m\u001b[0m\n",
      "\u001b[1;31mUppercaseException\u001b[0m: 대문자 안된다구"
     ]
    }
   ],
   "source": [
    "# 메세지를 아예 고정하고 싶을 때\n",
    "\n",
    "class UppercaseException(Exception):\n",
    "    def __init__(self):\n",
    "        super().__init__('대문자 안된다구')\n",
    "\n",
    "for city in cities:\n",
    "    if city.isupper():\n",
    "        # raise MyException('대문자 안됨')\n",
    "        raise UppercaseException\n",
    "    else:\n",
    "        print(city)"
   ]
  }
 ],
 "metadata": {
  "kernelspec": {
   "display_name": "Python 3 (ipykernel)",
   "language": "python",
   "name": "python3"
  },
  "language_info": {
   "codemirror_mode": {
    "name": "ipython",
    "version": 3
   },
   "file_extension": ".py",
   "mimetype": "text/x-python",
   "name": "python",
   "nbconvert_exporter": "python",
   "pygments_lexer": "ipython3",
   "version": "3.9.7"
  }
 },
 "nbformat": 4,
 "nbformat_minor": 5
}
