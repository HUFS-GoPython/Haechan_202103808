{
 "cells": [
  {
   "cell_type": "markdown",
   "id": "ea75bbbc-0805-4641-919c-c207906df0e0",
   "metadata": {},
   "source": [
    "## 프로그래밍이란?\n",
    "- programming: 프로그래밍 언어를 사용하여 프로그램을 개발하는 것.\n",
    "- program: 일련의 작업을 자동화하는 것.\n",
    "- python: 프로그래밍 언어 중 하나. 인간이 컴퓨터에게 작업을 명령하기 위해 사용하는 컴퓨터가 이해할 수 있는 언어"
   ]
  },
  {
   "cell_type": "markdown",
   "id": "a879c62b-70e4-4d49-9a75-8ded85dadf25",
   "metadata": {
    "tags": []
   },
   "source": [
    "## Ch2. Data: Types, Values, Variables, and Names"
   ]
  },
  {
   "cell_type": "code",
   "execution_count": 1,
   "id": "226469a4-efb8-4226-9e13-f422d1447de5",
   "metadata": {},
   "outputs": [],
   "source": [
    "a = 2"
   ]
  },
  {
   "cell_type": "markdown",
   "id": "c9cae1a0-7eb8-4843-ad25-933fb674ac87",
   "metadata": {},
   "source": [
    "- (markdown = m+)\n",
    "\n",
    "- 변수 \\ variable (i.e. a): 측정 값을 저장하는 공간\n",
    "- 값 \\ value: 2\n",
    "- 자료형 \\ type: 2가 어떤 타입인가? 데이터의 형태. integer (int 타입)\n",
    "- 할당하다 \\ assign: 2를 a에 넣는 과정\n",
    "    - a가 2다??? a == 2 (equal)"
   ]
  },
  {
   "cell_type": "code",
   "execution_count": 2,
   "id": "45d88ffc-c54d-49f8-8cc8-7b7471d15190",
   "metadata": {},
   "outputs": [
    {
     "data": {
      "text/plain": [
       "2"
      ]
     },
     "execution_count": 2,
     "metadata": {},
     "output_type": "execute_result"
    }
   ],
   "source": [
    "a"
   ]
  },
  {
   "cell_type": "code",
   "execution_count": 3,
   "id": "c630bf98-82aa-4468-9a08-07ad7edf360e",
   "metadata": {},
   "outputs": [
    {
     "data": {
      "text/plain": [
       "True"
      ]
     },
     "execution_count": 3,
     "metadata": {},
     "output_type": "execute_result"
    }
   ],
   "source": [
    "a == 2"
   ]
  },
  {
   "cell_type": "markdown",
   "id": "944d0458-ff12-4756-a656-0fa62a39d8c1",
   "metadata": {
    "tags": []
   },
   "source": [
    "### 변수의 타입\n",
    "- boolean \\ 불리언: True, False (`bool`)\n",
    "- integer \\ 정수: 1, 2, 3, 4, ... (`int`)\n",
    "- floating point number \\ 부동소수점: 1.0, 2.0, 0.45, ... (`float`)\n",
    "- string \\ 문자열: \"apple\", 'apple' (`str`)"
   ]
  },
  {
   "cell_type": "code",
   "execution_count": 4,
   "id": "c8ce7fbb-3117-4dbf-8755-4e535b9d42f6",
   "metadata": {},
   "outputs": [
    {
     "data": {
      "text/plain": [
       "4"
      ]
     },
     "execution_count": 4,
     "metadata": {},
     "output_type": "execute_result"
    }
   ],
   "source": [
    "num = 4\n",
    "4"
   ]
  },
  {
   "cell_type": "code",
   "execution_count": 5,
   "id": "ca85aa06-a230-41b8-8c7c-8de7acb34991",
   "metadata": {},
   "outputs": [
    {
     "name": "stdout",
     "output_type": "stream",
     "text": [
      "4\n"
     ]
    }
   ],
   "source": [
    "print(num)"
   ]
  },
  {
   "cell_type": "code",
   "execution_count": 6,
   "id": "02de883d-8d8d-4da5-83e8-80b6e30d01a5",
   "metadata": {},
   "outputs": [
    {
     "data": {
      "text/plain": [
       "int"
      ]
     },
     "execution_count": 6,
     "metadata": {},
     "output_type": "execute_result"
    }
   ],
   "source": [
    "type(num)"
   ]
  },
  {
   "cell_type": "code",
   "execution_count": 7,
   "id": "90df9630-8f18-4761-8627-eadcb91ea201",
   "metadata": {},
   "outputs": [
    {
     "data": {
      "text/plain": [
       "float"
      ]
     },
     "execution_count": 7,
     "metadata": {},
     "output_type": "execute_result"
    }
   ],
   "source": [
    "type(1.0)"
   ]
  },
  {
   "cell_type": "code",
   "execution_count": 8,
   "id": "76506723-3ebd-44ba-8dbd-480d1b9eb04b",
   "metadata": {},
   "outputs": [
    {
     "data": {
      "text/plain": [
       "bool"
      ]
     },
     "execution_count": 8,
     "metadata": {},
     "output_type": "execute_result"
    }
   ],
   "source": [
    "type(a==2)"
   ]
  },
  {
   "cell_type": "code",
   "execution_count": 10,
   "id": "d8198609-b3c3-4ee7-addc-e1c7a1b1972f",
   "metadata": {},
   "outputs": [
    {
     "name": "stdout",
     "output_type": "stream",
     "text": [
      "my name\n"
     ]
    }
   ],
   "source": [
    "name = 'my name'\n",
    "print(name)"
   ]
  },
  {
   "cell_type": "code",
   "execution_count": 11,
   "id": "ac0f07dc-03af-4b19-b2bc-01d325f3594b",
   "metadata": {},
   "outputs": [
    {
     "data": {
      "text/plain": [
       "str"
      ]
     },
     "execution_count": 11,
     "metadata": {},
     "output_type": "execute_result"
    }
   ],
   "source": [
    "type(name)"
   ]
  },
  {
   "cell_type": "code",
   "execution_count": 12,
   "id": "737a5398-73df-4618-a836-8d2be0a5bbbf",
   "metadata": {},
   "outputs": [
    {
     "ename": "NameError",
     "evalue": "name 'my_name' is not defined",
     "output_type": "error",
     "traceback": [
      "\u001b[1;31m---------------------------------------------------------------------------\u001b[0m",
      "\u001b[1;31mNameError\u001b[0m                                 Traceback (most recent call last)",
      "\u001b[1;32mC:\\Users\\Public\\Documents\\ESTsoft\\CreatorTemp/ipykernel_3332/2541959205.py\u001b[0m in \u001b[0;36m<module>\u001b[1;34m\u001b[0m\n\u001b[1;32m----> 1\u001b[1;33m \u001b[0mmy_name\u001b[0m \u001b[1;31m# 변수명으로 인식, 없는 변수 -> 에러\u001b[0m\u001b[1;33m\u001b[0m\u001b[1;33m\u001b[0m\u001b[0m\n\u001b[0m",
      "\u001b[1;31mNameError\u001b[0m: name 'my_name' is not defined"
     ]
    }
   ],
   "source": [
    "my_name # 변수명으로 인식, 없는 변수 -> 에러"
   ]
  },
  {
   "cell_type": "code",
   "execution_count": 15,
   "id": "b548e972-c31f-4858-9073-7672e220571d",
   "metadata": {},
   "outputs": [
    {
     "name": "stdout",
     "output_type": "stream",
     "text": [
      "I'm Sam.\n",
      "I'm Sam.\n"
     ]
    }
   ],
   "source": [
    "# single quote 안에 single quote를 문자로 인식하는 방법\n",
    "#'I'm Sam.'\n",
    "\n",
    "#1. \\ 사용\n",
    "print('I\\'m Sam.')\n",
    "\n",
    "#2. \"\" 사용\n",
    "print(\"I'm Sam.\")"
   ]
  },
  {
   "cell_type": "markdown",
   "id": "7e9f8e3a-1c20-42eb-aa8b-9ec11c143736",
   "metadata": {},
   "source": [
    "### 변수명 정하기\n",
    "- 소문자, 대문자, 숫자, 언더바(_) 사용한다.\n",
    "    - 예: `name`, `my_name`, `NAME`, `Name`, `name3`\n",
    "    - 불가능한 예: `my-name`, `3name`\n",
    "- 변수명으로 사용할 수 없는 케이스\n",
    "    1. 숫자로 시작할 수 없다.\n",
    "    2. 예약어는 사용할 수 없다."
   ]
  },
  {
   "cell_type": "code",
   "execution_count": 16,
   "id": "65b32b3d-b67f-4bc5-80cb-5b62251410f2",
   "metadata": {},
   "outputs": [
    {
     "data": {
      "text/plain": [
       "'lee'"
      ]
     },
     "execution_count": 16,
     "metadata": {},
     "output_type": "execute_result"
    }
   ],
   "source": [
    "name = 'lee'\n",
    "name"
   ]
  },
  {
   "cell_type": "code",
   "execution_count": 17,
   "id": "838ea3d5-7a24-4cf7-a840-bd919b988721",
   "metadata": {},
   "outputs": [
    {
     "ename": "SyntaxError",
     "evalue": "invalid syntax (CreatorTemp/ipykernel_3332/2942085305.py, line 1)",
     "output_type": "error",
     "traceback": [
      "\u001b[1;36m  File \u001b[1;32m\"C:\\Users\\Public\\Documents\\ESTsoft\\CreatorTemp/ipykernel_3332/2942085305.py\"\u001b[1;36m, line \u001b[1;32m1\u001b[0m\n\u001b[1;33m    3name = 'kim'\u001b[0m\n\u001b[1;37m     ^\u001b[0m\n\u001b[1;31mSyntaxError\u001b[0m\u001b[1;31m:\u001b[0m invalid syntax\n"
     ]
    }
   ],
   "source": [
    "3name = 'kim' # 숫자는 변수명 맨앞에 올 수 없다."
   ]
  },
  {
   "cell_type": "code",
   "execution_count": 24,
   "id": "0baea07f-8cfa-4fe9-8b06-fc5ae139aafd",
   "metadata": {},
   "outputs": [
    {
     "ename": "SyntaxError",
     "evalue": "invalid syntax (CreatorTemp/ipykernel_3332/3702995781.py, line 1)",
     "output_type": "error",
     "traceback": [
      "\u001b[1;36m  File \u001b[1;32m\"C:\\Users\\Public\\Documents\\ESTsoft\\CreatorTemp/ipykernel_3332/3702995781.py\"\u001b[1;36m, line \u001b[1;32m1\u001b[0m\n\u001b[1;33m    def = 'Hwang' # 예약어는 변수명으로 사용할 수 없다.\u001b[0m\n\u001b[1;37m        ^\u001b[0m\n\u001b[1;31mSyntaxError\u001b[0m\u001b[1;31m:\u001b[0m invalid syntax\n"
     ]
    }
   ],
   "source": [
    "def = 'Hwang' # 예약어는 변수명으로 사용할 수 없다."
   ]
  },
  {
   "cell_type": "markdown",
   "id": "ea8c3075-cd42-48c8-8faa-33bd36d67cb1",
   "metadata": {},
   "source": [
    "- 주의할 점 (특별한 용도가 있어서 일반적으로 사용하지 않는 변수명 타입\n",
    "    1. 언더바로 시작하는 변수명\n",
    "        예: _name\n",
    "    2. 언더바가 2개 있는 변수명\n",
    "        예: _name_\n",
    "    3. 대문자로 시작하는 변수명\n",
    "        예: Car\n",
    "    4. 전체가 대문자인 변수명\n",
    "        예: CAR"
   ]
  },
  {
   "cell_type": "code",
   "execution_count": 19,
   "id": "b24d0f2d-5fe5-4ae2-bd55-989b33aec48e",
   "metadata": {},
   "outputs": [],
   "source": [
    "# number != Number\n",
    "word1 = 'number'\n",
    "word2 = 'Number'"
   ]
  },
  {
   "cell_type": "code",
   "execution_count": 20,
   "id": "1963fc2a-6baf-4afe-a785-3165477c55d3",
   "metadata": {},
   "outputs": [
    {
     "data": {
      "text/plain": [
       "False"
      ]
     },
     "execution_count": 20,
     "metadata": {},
     "output_type": "execute_result"
    }
   ],
   "source": [
    "word1 == word2 #대소문자 구분한다."
   ]
  },
  {
   "cell_type": "code",
   "execution_count": 23,
   "id": "4644aff8-c5b5-45c0-a1ba-d9560553d400",
   "metadata": {},
   "outputs": [
    {
     "data": {
      "text/plain": [
       "True"
      ]
     },
     "execution_count": 23,
     "metadata": {},
     "output_type": "execute_result"
    }
   ],
   "source": [
    "word1 != word2"
   ]
  },
  {
   "cell_type": "markdown",
   "id": "3111a114-eb86-43b7-8f6e-d4a8d4e77599",
   "metadata": {},
   "source": [
    "### 할당하기\n",
    "- 수학에서는 =가 양변이 같음을 의미하는데, 프로그램에서는 할당을 의미한다.\n",
    "    예: `name = 'lee'`\n",
    "    - lee라는 값을 name에 넣는 것.\n",
    "- 오른쪽에 있는 모든 것은 값을 가져야 한다. (\"초기화\")\n",
    "- 변수 타입은 따로 지정하지 않는다."
   ]
  },
  {
   "cell_type": "code",
   "execution_count": 25,
   "id": "346ce037-91ec-4d74-80db-7581e00a699b",
   "metadata": {},
   "outputs": [],
   "source": [
    "car = 'hyundai'"
   ]
  },
  {
   "cell_type": "code",
   "execution_count": 27,
   "id": "45931285-2abf-4052-81c8-21d9a2114314",
   "metadata": {},
   "outputs": [],
   "source": [
    "kia = 'kia'\n",
    "truck = kia # 없는 값이기 때문에"
   ]
  },
  {
   "cell_type": "code",
   "execution_count": 28,
   "id": "480755bc-7242-487f-8109-d5e639027528",
   "metadata": {},
   "outputs": [
    {
     "name": "stdout",
     "output_type": "stream",
     "text": [
      "2 12\n"
     ]
    }
   ],
   "source": [
    "x = 2\n",
    "y = x + 10 # name 'x' is not defined\n",
    "print(x, y)"
   ]
  },
  {
   "cell_type": "code",
   "execution_count": 29,
   "id": "bf25e89a-0f74-43da-b6e9-fdcd3480576f",
   "metadata": {},
   "outputs": [
    {
     "data": {
      "text/plain": [
       "str"
      ]
     },
     "execution_count": 29,
     "metadata": {},
     "output_type": "execute_result"
    }
   ],
   "source": [
    "type(car) # str"
   ]
  },
  {
   "cell_type": "code",
   "execution_count": null,
   "id": "1ce6c6d2-28ed-4414-802b-d66623974db7",
   "metadata": {},
   "outputs": [],
   "source": []
  }
 ],
 "metadata": {
  "kernelspec": {
   "display_name": "Python 3 (ipykernel)",
   "language": "python",
   "name": "python3"
  },
  "language_info": {
   "codemirror_mode": {
    "name": "ipython",
    "version": 3
   },
   "file_extension": ".py",
   "mimetype": "text/x-python",
   "name": "python",
   "nbconvert_exporter": "python",
   "pygments_lexer": "ipython3",
   "version": "3.9.7"
  }
 },
 "nbformat": 4,
 "nbformat_minor": 5
}
