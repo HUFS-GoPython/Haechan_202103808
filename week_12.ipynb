{
 "cells": [
  {
   "cell_type": "markdown",
   "id": "1e7858e0-e3fe-4a77-b857-cb6915b65cdf",
   "metadata": {},
   "source": [
    "## 함수 II"
   ]
  },
  {
   "cell_type": "markdown",
   "id": "e3ed0655-e50b-45f1-9661-5796a61ad589",
   "metadata": {},
   "source": [
    "### asterisk (stars)\n",
    "- `*`\n",
    "- `**`"
   ]
  },
  {
   "cell_type": "code",
   "execution_count": 1,
   "id": "61382f4c-96f5-4b59-b320-24a5b163bbd4",
   "metadata": {},
   "outputs": [
    {
     "name": "stdout",
     "output_type": "stream",
     "text": [
      "hey\n"
     ]
    }
   ],
   "source": [
    "def print_arg1(args):\n",
    "    print(args)\n",
    "\n",
    "print_arg1('hey')"
   ]
  },
  {
   "cell_type": "markdown",
   "id": "99febc99-d81c-4f39-b9d6-fd45745b9901",
   "metadata": {},
   "source": [
    "#### `*`\n",
    "- `*args`\n",
    "    - 인자를 튜플로 묶어서 활용할 수 있게 해줌\n",
    "    - 인자에 여러 개가 들어갈 수 있음\n",
    "- `print(*<tuple>)`\n",
    "    - 튜플 언패킹함\n",
    "        - 하나로 묶인 것을 각각으로\n",
    "    - 출력 형태에서 `()`, `,` 제거\n",
    "        - print(`a`) => `('1', '2')`\n",
    "        - print(`*a`) => `1 2`\n",
    "    - 튜플을 인자로"
   ]
  },
  {
   "cell_type": "code",
   "execution_count": 2,
   "id": "276177ca-0b3d-489d-832f-99ff3efa2150",
   "metadata": {},
   "outputs": [
    {
     "name": "stdout",
     "output_type": "stream",
     "text": [
      "('hey', 'hello', 'hi')\n"
     ]
    }
   ],
   "source": [
    "def print_arg2(*args):\n",
    "    # 인자를 튜플로 묶어서 활용하는 역할\n",
    "    print(args)\n",
    "\n",
    "print_arg2('hey', 'hello', 'hi')"
   ]
  },
  {
   "cell_type": "code",
   "execution_count": 3,
   "id": "47c6ff3e-8dbe-4253-a0eb-8bbcf4074df2",
   "metadata": {},
   "outputs": [
    {
     "name": "stdout",
     "output_type": "stream",
     "text": [
      "hey hello hi\n"
     ]
    }
   ],
   "source": [
    "def print_arg3(*args):\n",
    "    # 인자를 튜플로 묶어서 활용하는 역할\n",
    "    print(*args) # 언패킹 (튜플 -> 인자)\n",
    "\n",
    "print_arg3('hey', 'hello', 'hi')"
   ]
  },
  {
   "cell_type": "code",
   "execution_count": 4,
   "id": "73de3507-c2d8-4f35-98d6-524b25f4c898",
   "metadata": {},
   "outputs": [
    {
     "name": "stdout",
     "output_type": "stream",
     "text": [
      "obligatory book\n",
      "1 2 3 4\n"
     ]
    }
   ],
   "source": [
    "def print_arg4(name, *args):\n",
    "    print('obligatory', name)\n",
    "    print(*args)\n",
    "\n",
    "print_arg4('book', 1, 2, 3, 4)"
   ]
  },
  {
   "cell_type": "markdown",
   "id": "28882613-e063-41ef-9fa6-fcac5539522e",
   "metadata": {},
   "source": [
    "##### 외부에서 사용하기\n",
    "- `컬렉션 자료형` 언패킹 출력 시\n",
    "- `zip()`\n",
    "    - `행렬`이나 `테이블`에서 자주 사용\n",
    "- `키워드 전용 인수` 선언\n",
    "    - 별 뒤에 오는 매개변수들은 반드시 키워드 인수로 들어오도록 설정하는 역할\n",
    "    - kargs와 혼선을 빚지 않기 위해"
   ]
  },
  {
   "cell_type": "code",
   "execution_count": 7,
   "id": "79a89a07-7410-478d-afe4-d41ed190b1f9",
   "metadata": {},
   "outputs": [
    {
     "name": "stdout",
     "output_type": "stream",
     "text": [
      "[0, 1, 2, 3, 4]\n",
      "0 1 2 3 4\n"
     ]
    }
   ],
   "source": [
    "nums = list(range(5))\n",
    "print(nums)\n",
    "print(*nums)"
   ]
  },
  {
   "cell_type": "code",
   "execution_count": 10,
   "id": "9497b5cb-0cde-4fb5-b4b7-e800142b074f",
   "metadata": {},
   "outputs": [
    {
     "name": "stdout",
     "output_type": "stream",
     "text": [
      "no *\n",
      "[1, 2]\n",
      "[3, 4]\n",
      "[5, 6]\n",
      "\n",
      "use *\n",
      "(1, 3, 5)\n",
      "(2, 4, 6)\n"
     ]
    }
   ],
   "source": [
    "a = [\n",
    "    [1, 2],\n",
    "    [3, 4],\n",
    "    [5, 6]\n",
    "]\n",
    "\n",
    "# 1, 2 / 3, 4 / 5, 6 (행 순회)\n",
    "print('no *')\n",
    "for row in a:\n",
    "    print(row)\n",
    "\n",
    "# 1, 3, 5 / 2, 4, 6 (열 순회)\n",
    "print('\\nuse *')\n",
    "for row in zip(*a):\n",
    "    print(row)"
   ]
  },
  {
   "cell_type": "code",
   "execution_count": 16,
   "id": "806c0f85-b62e-45de-bc2c-6f514486e4c9",
   "metadata": {},
   "outputs": [],
   "source": [
    "def print_data(data, *, start, end): # * 뒤에 있는 start, end -> start=0\n",
    "    for value in data[start:end]:\n",
    "        print(value)"
   ]
  },
  {
   "cell_type": "code",
   "execution_count": 17,
   "id": "88e69d77-9e8c-48eb-af10-412d8f9ba571",
   "metadata": {},
   "outputs": [
    {
     "ename": "TypeError",
     "evalue": "print_data() missing 2 required keyword-only arguments: 'start' and 'end'",
     "output_type": "error",
     "traceback": [
      "\u001b[1;31m---------------------------------------------------------------------------\u001b[0m",
      "\u001b[1;31mTypeError\u001b[0m                                 Traceback (most recent call last)",
      "\u001b[1;32mC:\\Users\\Public\\Documents\\ESTsoft\\CreatorTemp/ipykernel_17336/3807711137.py\u001b[0m in \u001b[0;36m<module>\u001b[1;34m\u001b[0m\n\u001b[1;32m----> 1\u001b[1;33m \u001b[0mprint_data\u001b[0m\u001b[1;33m(\u001b[0m\u001b[0mnums\u001b[0m\u001b[1;33m)\u001b[0m\u001b[1;33m\u001b[0m\u001b[1;33m\u001b[0m\u001b[0m\n\u001b[0m",
      "\u001b[1;31mTypeError\u001b[0m: print_data() missing 2 required keyword-only arguments: 'start' and 'end'"
     ]
    }
   ],
   "source": [
    "print_data(nums)"
   ]
  },
  {
   "cell_type": "code",
   "execution_count": 18,
   "id": "7568d2b9-011c-40ab-b892-f3ee99fdfdd4",
   "metadata": {},
   "outputs": [
    {
     "ename": "TypeError",
     "evalue": "print_data() takes 1 positional argument but 3 were given",
     "output_type": "error",
     "traceback": [
      "\u001b[1;31m---------------------------------------------------------------------------\u001b[0m",
      "\u001b[1;31mTypeError\u001b[0m                                 Traceback (most recent call last)",
      "\u001b[1;32mC:\\Users\\Public\\Documents\\ESTsoft\\CreatorTemp/ipykernel_17336/3141930086.py\u001b[0m in \u001b[0;36m<module>\u001b[1;34m\u001b[0m\n\u001b[1;32m----> 1\u001b[1;33m \u001b[0mprint_data\u001b[0m\u001b[1;33m(\u001b[0m\u001b[0mnums\u001b[0m\u001b[1;33m,\u001b[0m \u001b[1;36m1\u001b[0m\u001b[1;33m,\u001b[0m \u001b[1;36m3\u001b[0m\u001b[1;33m)\u001b[0m\u001b[1;33m\u001b[0m\u001b[1;33m\u001b[0m\u001b[0m\n\u001b[0m",
      "\u001b[1;31mTypeError\u001b[0m: print_data() takes 1 positional argument but 3 were given"
     ]
    }
   ],
   "source": [
    "print_data(nums, 1, 3)"
   ]
  },
  {
   "cell_type": "code",
   "execution_count": 19,
   "id": "01e8955d-9de7-4889-a893-a6324e8ba4f7",
   "metadata": {},
   "outputs": [
    {
     "name": "stdout",
     "output_type": "stream",
     "text": [
      "1\n",
      "2\n"
     ]
    }
   ],
   "source": [
    "#Error 해결\n",
    "print_data(nums, start=1, end=3)"
   ]
  },
  {
   "cell_type": "markdown",
   "id": "90c7d3e8-fcd7-49a5-b15d-e82336c4643b",
   "metadata": {},
   "source": [
    "#### `**`\n",
    "- 언패킹 기능은 없음\n",
    "    - `print(**<dict>)` 불가능\n",
    "- `**kargs`\n",
    "    - 변수를 딕셔너리로 묶음"
   ]
  },
  {
   "cell_type": "code",
   "execution_count": 26,
   "id": "a04a2c0e-08fd-4e64-9dac-1b83ac8e014d",
   "metadata": {},
   "outputs": [
    {
     "name": "stdout",
     "output_type": "stream",
     "text": [
      "{'wine': 'merlot', 'dessert': 'cake'}\n",
      "merlot is semi-sweet\n"
     ]
    }
   ],
   "source": [
    "def print_kargs(**kargs): # 변수를 딕셔너리로 묶는 기능\n",
    "    print(kargs)\n",
    "    print(kargs['wine'], 'is semi-sweet')\n",
    "\n",
    "print_kargs(wine='merlot', dessert='cake')"
   ]
  },
  {
   "cell_type": "code",
   "execution_count": 27,
   "id": "74e3d01f-d813-431b-bc91-1f26e5181a3f",
   "metadata": {},
   "outputs": [
    {
     "name": "stdout",
     "output_type": "stream",
     "text": [
      "{'wine': 'merlot', 'dessert': 'scone'}\n",
      "merlot is semi-sweet\n",
      "{'wine': 'cabernet', 'dessert': 'scone'}\n",
      "cabernet is semi-sweet\n",
      "{'wine': 'crianza', 'dessert': 'scone'}\n",
      "crianza is semi-sweet\n"
     ]
    }
   ],
   "source": [
    "wine_list = 'merlot cabernet crianza'.split()\n",
    "for wine in wine_list:\n",
    "    print_kargs(wine=wine, dessert='scone')"
   ]
  },
  {
   "cell_type": "code",
   "execution_count": 28,
   "id": "66bfc7f4-3d50-420e-b898-4ca3f0d6a61e",
   "metadata": {},
   "outputs": [
    {
     "name": "stdout",
     "output_type": "stream",
     "text": [
      "15\n",
      "{'first': 1, 'second': 2}\n"
     ]
    }
   ],
   "source": [
    "def print_both(one, two, *args, **kargs): # 위치인수 > args > kargs\n",
    "    print(one + two + sum(args))\n",
    "    print(kargs)\n",
    "\n",
    "print_both(1, 2, 3, 4, 5, first=1, second=2)"
   ]
  },
  {
   "cell_type": "markdown",
   "id": "c319dc70-a2a2-4651-a66b-88e4ec8fa842",
   "metadata": {},
   "source": [
    "##### `**`는 외부에서 딕셔너리 결합할 때 사용 (3.5 이상)"
   ]
  },
  {
   "cell_type": "code",
   "execution_count": 29,
   "id": "c9180a7a-89f2-4451-9efa-ba896253f4e8",
   "metadata": {},
   "outputs": [
    {
     "data": {
      "text/plain": [
       "{1: 'a', 2: 'c', 3: 'd'}"
      ]
     },
     "execution_count": 29,
     "metadata": {},
     "output_type": "execute_result"
    }
   ],
   "source": [
    "x = {1: 'a', 2: 'b'}\n",
    "y = {2: 'c', 3: 'd'}\n",
    "z = {**x, **y}\n",
    "z"
   ]
  },
  {
   "cell_type": "markdown",
   "id": "02c861e0-909b-46f1-affc-1816c60823c0",
   "metadata": {},
   "source": [
    "### 일급객체\n",
    "- first class object / first class citizen\n",
    "- (파이썬) `함수도 객체`\n",
    "- 일급 객체의 성격\n",
    "    - 함수의 인자로 전달 가능\n",
    "    - 반환값이 될 수 있음\n",
    "    - 수정, 할당될 수 있음"
   ]
  },
  {
   "cell_type": "code",
   "execution_count": 30,
   "id": "bfe19067-e318-4f9f-80df-3e58e1a2464e",
   "metadata": {},
   "outputs": [
    {
     "name": "stdout",
     "output_type": "stream",
     "text": [
      "43\n"
     ]
    }
   ],
   "source": [
    "def answer():\n",
    "    print(43)\n",
    "\n",
    "def run_something(func): ## 파이썬에서만. 함수가 객체이므로\n",
    "    func()\n",
    "\n",
    "run_something(answer)"
   ]
  },
  {
   "cell_type": "code",
   "execution_count": 34,
   "id": "8d7fd5c6-ea27-4d01-a920-5b6bd74b1862",
   "metadata": {},
   "outputs": [
    {
     "name": "stdout",
     "output_type": "stream",
     "text": [
      "43\n"
     ]
    }
   ],
   "source": [
    "def run_anything(func):\n",
    "    return func\n",
    "\n",
    "run_anything(answer)() #return을 사용했으므로 () 추가"
   ]
  },
  {
   "cell_type": "code",
   "execution_count": 35,
   "id": "157f1af6-01cc-4ea5-9b7f-a1c01995237d",
   "metadata": {},
   "outputs": [
    {
     "data": {
      "text/plain": [
       "13"
      ]
     },
     "execution_count": 35,
     "metadata": {},
     "output_type": "execute_result"
    }
   ],
   "source": [
    "def sum_args(*args):\n",
    "    return sum(args)\n",
    "\n",
    "def run_with_positional_args(func, *args):\n",
    "    return func(*args)\n",
    "\n",
    "run_with_positional_args(sum_args, 1, 3, 4, 5)"
   ]
  },
  {
   "cell_type": "markdown",
   "id": "a03bc353-7047-4990-86a6-b75064fd949d",
   "metadata": {},
   "source": [
    "### 가변 인자, 불변 인자\n",
    "- `가변 인자`일 때, `초기화`하지 않으면 변수 내용이 변할 수 있음"
   ]
  },
  {
   "cell_type": "code",
   "execution_count": 37,
   "id": "29d6164f-b2f3-4e06-9807-7e83cadd315a",
   "metadata": {},
   "outputs": [],
   "source": [
    "def func(num_list):\n",
    "    # 변할 수 있음을 문서화할 것. 혹은 다른 방법 찾아볼 것\n",
    "    sum_num = sum(num_list)\n",
    "    num_list.append(sum_num)\n",
    "\n",
    "a = [1, 3, 5]\n",
    "func(a)"
   ]
  },
  {
   "cell_type": "code",
   "execution_count": 38,
   "id": "ba5c55a2-298e-4fe9-9086-515e62c7da9d",
   "metadata": {},
   "outputs": [
    {
     "data": {
      "text/plain": [
       "[1, 3, 5, 9]"
      ]
     },
     "execution_count": 38,
     "metadata": {},
     "output_type": "execute_result"
    }
   ],
   "source": [
    "a"
   ]
  },
  {
   "cell_type": "code",
   "execution_count": 39,
   "id": "f707548f-c820-488f-b5b6-af880d5e30a8",
   "metadata": {},
   "outputs": [],
   "source": [
    "func(a)"
   ]
  },
  {
   "cell_type": "code",
   "execution_count": 40,
   "id": "1f4c0547-9b0f-4e85-8b93-1b34d91218f8",
   "metadata": {},
   "outputs": [
    {
     "data": {
      "text/plain": [
       "[1, 3, 5, 9, 18]"
      ]
     },
     "execution_count": 40,
     "metadata": {},
     "output_type": "execute_result"
    }
   ],
   "source": [
    "a"
   ]
  },
  {
   "cell_type": "markdown",
   "id": "549d0139-088e-4bdc-b9ed-9a7ff3795234",
   "metadata": {},
   "source": [
    "### 익명함수 (람다)\n",
    "- `lambda`\n",
    "- 함수인데 `이름이 없음` (def, return)\n",
    "- `단순한 함수`를 사용할 때\n",
    "- 단, 잦은 사용은 권장하지 않는다. => `직관적이지 않고` `재활용 불가`.\n",
    "- `lambda x: <x를 요리할 코드>`"
   ]
  },
  {
   "cell_type": "code",
   "execution_count": 41,
   "id": "2e7f89d6-43eb-496a-b2c8-b262dc370de7",
   "metadata": {},
   "outputs": [
    {
     "data": {
      "text/plain": [
       "<function __main__.<lambda>(x)>"
      ]
     },
     "execution_count": 41,
     "metadata": {},
     "output_type": "execute_result"
    }
   ],
   "source": [
    "lambda x: x.lower()"
   ]
  },
  {
   "cell_type": "code",
   "execution_count": 43,
   "id": "aacd6651-7fd6-4393-93f8-8164fef2e0f5",
   "metadata": {},
   "outputs": [
    {
     "data": {
      "text/plain": [
       "'ok'"
      ]
     },
     "execution_count": 43,
     "metadata": {},
     "output_type": "execute_result"
    }
   ],
   "source": [
    "def f(x):\n",
    "    return x.lower()\n",
    "\n",
    "f2 = lambda x: x.lower()\n",
    "f2('OK')"
   ]
  },
  {
   "cell_type": "code",
   "execution_count": 44,
   "id": "88a7cff4-c0d6-43b9-99c9-fbc78861dd63",
   "metadata": {},
   "outputs": [
    {
     "data": {
      "text/plain": [
       "'ok'"
      ]
     },
     "execution_count": 44,
     "metadata": {},
     "output_type": "execute_result"
    }
   ],
   "source": [
    "(lambda x: x.lower())('OK')"
   ]
  },
  {
   "cell_type": "code",
   "execution_count": 45,
   "id": "6a9eb78d-087c-4a29-9835-ae185deab997",
   "metadata": {},
   "outputs": [
    {
     "data": {
      "text/plain": [
       "10"
      ]
     },
     "execution_count": 45,
     "metadata": {},
     "output_type": "execute_result"
    }
   ],
   "source": [
    "f3 = lambda x, y: x + y\n",
    "f3(5, 5)"
   ]
  },
  {
   "cell_type": "code",
   "execution_count": 46,
   "id": "13c8cde0-d60d-46b7-9a56-c7207755d48b",
   "metadata": {},
   "outputs": [],
   "source": [
    "# abc -> Abc!\n",
    "f4 = lambda x: x.title() + '!'"
   ]
  },
  {
   "cell_type": "code",
   "execution_count": 47,
   "id": "1bd258c1-ceed-42bb-9821-42cd8740506e",
   "metadata": {},
   "outputs": [
    {
     "data": {
      "text/plain": [
       "'Abc!'"
      ]
     },
     "execution_count": 47,
     "metadata": {},
     "output_type": "execute_result"
    }
   ],
   "source": [
    "f4('abc')"
   ]
  }
 ],
 "metadata": {
  "kernelspec": {
   "display_name": "Python 3 (ipykernel)",
   "language": "python",
   "name": "python3"
  },
  "language_info": {
   "codemirror_mode": {
    "name": "ipython",
    "version": 3
   },
   "file_extension": ".py",
   "mimetype": "text/x-python",
   "name": "python",
   "nbconvert_exporter": "python",
   "pygments_lexer": "ipython3",
   "version": "3.9.7"
  }
 },
 "nbformat": 4,
 "nbformat_minor": 5
}
