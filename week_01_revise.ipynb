{
 "cells": [
  {
   "cell_type": "markdown",
   "id": "6c432520-01f0-461e-baea-1ac69ad43329",
   "metadata": {},
   "source": [
    "### 프로그래밍\n",
    "\n",
    "- 일련의 작업을 `자동화`하는 것을 `프로그램`이라고 함\n",
    "- 그러한 `프로그램을 개발하는 일`이 `프로그래밍`임"
   ]
  },
  {
   "cell_type": "markdown",
   "id": "58a233ab-0260-42f8-ac67-a295163aa0aa",
   "metadata": {
    "tags": []
   },
   "source": [
    "### Ch2. 데이터: 타입(Types), 값(Values), 변수(Variables), 이름(Names)"
   ]
  },
  {
   "cell_type": "code",
   "execution_count": 1,
   "id": "163eec4f-e7d8-4ed9-9f26-61abb614a299",
   "metadata": {},
   "outputs": [
    {
     "data": {
      "text/plain": [
       "False"
      ]
     },
     "execution_count": 1,
     "metadata": {},
     "output_type": "execute_result"
    }
   ],
   "source": [
    "# `(변수) = (값)`의 형태로 변수에 값을 할당함\n",
    "a = 2\n",
    "\n",
    "# 등호를 두 번 사용하면 `값이 같다`는 것을 나타냄\n",
    "# 이 경우 `True`, `False`로 논리값이 출력됨\n",
    "a == 2\n",
    "a == 3"
   ]
  },
  {
   "cell_type": "markdown",
   "id": "ecc61d75-20b2-4434-a414-97d43bb45225",
   "metadata": {},
   "source": [
    "#### 변수의 타입\n",
    "- boolean (`bool`) \\ 논리 값 \\ True, False\n",
    "- integer (`int`) \\ 정수 \\ 1, 2, 3, ...\n",
    "- floating point number (`float`) \\ 부동소수점 \\ 1.2, 3.5, ...\n",
    "- string (`str`) \\ 문자열 \\ \"apple\", \"파이썬\", ..."
   ]
  },
  {
   "cell_type": "code",
   "execution_count": 8,
   "id": "1e941eda-77f8-4b7e-83cd-801c823d3b60",
   "metadata": {},
   "outputs": [
    {
     "name": "stdout",
     "output_type": "stream",
     "text": [
      "True\n"
     ]
    },
    {
     "data": {
      "text/plain": [
       "bool"
      ]
     },
     "execution_count": 8,
     "metadata": {},
     "output_type": "execute_result"
    }
   ],
   "source": [
    "# boolean\n",
    "print(a == 2)\n",
    "type(a == 2)"
   ]
  },
  {
   "cell_type": "code",
   "execution_count": 6,
   "id": "dc171899-b5a9-4e21-a0dd-fb42cc983ce4",
   "metadata": {},
   "outputs": [
    {
     "name": "stdout",
     "output_type": "stream",
     "text": [
      "4\n"
     ]
    },
    {
     "data": {
      "text/plain": [
       "int"
      ]
     },
     "execution_count": 6,
     "metadata": {},
     "output_type": "execute_result"
    }
   ],
   "source": [
    "# integer\n",
    "num_int = int(4)\n",
    "print(num_int)\n",
    "type(num_int)"
   ]
  },
  {
   "cell_type": "code",
   "execution_count": 7,
   "id": "0300c74d-c53f-4fe5-b02a-b35f81f3b428",
   "metadata": {},
   "outputs": [
    {
     "name": "stdout",
     "output_type": "stream",
     "text": [
      "4.5\n"
     ]
    },
    {
     "data": {
      "text/plain": [
       "float"
      ]
     },
     "execution_count": 7,
     "metadata": {},
     "output_type": "execute_result"
    }
   ],
   "source": [
    "# floating point number\n",
    "num_float = float(4.5)\n",
    "print(num_float)\n",
    "type(num_float)"
   ]
  },
  {
   "cell_type": "code",
   "execution_count": 9,
   "id": "53970ced-88cb-4cbf-bb22-8ea3d9cf5ea0",
   "metadata": {},
   "outputs": [
    {
     "name": "stdout",
     "output_type": "stream",
     "text": [
      "황해찬\n"
     ]
    },
    {
     "data": {
      "text/plain": [
       "str"
      ]
     },
     "execution_count": 9,
     "metadata": {},
     "output_type": "execute_result"
    }
   ],
   "source": [
    "# string\n",
    "name = \"황해찬\"\n",
    "print(name)\n",
    "type(name)"
   ]
  },
  {
   "cell_type": "code",
   "execution_count": 10,
   "id": "fbc1a8ec-11b1-42c6-ae0e-cadd6183c526",
   "metadata": {},
   "outputs": [
    {
     "name": "stdout",
     "output_type": "stream",
     "text": [
      "I'm Haechan.\n",
      "I'm Haechan.\n"
     ]
    }
   ],
   "source": [
    "# 문자열에서 single quote를 문자로 인식하는 방법\n",
    "\n",
    "#1. `'` 앞에 `\\` 사용\n",
    "print('I\\'m Haechan.')\n",
    "\n",
    "#2. 양쪽 바깥에 `\"` 사용\n",
    "print(\"I'm Haechan.\")"
   ]
  },
  {
   "cell_type": "markdown",
   "id": "a4c61b3a-fbcd-4238-b9f4-5e82406b76e5",
   "metadata": {},
   "source": [
    "#### 변수명 정하기\n",
    "\n",
    "- 소문자, 대문자, 숫자, 언더바를 사용한다.\n",
    "    - 예: `name`, `NAME`, `name3`, `my_name`\n",
    "    - 불가능한 예: `my-name`, `3name`\n",
    "\n",
    "- 변수명으로 사용할 수 없는 경우\n",
    "    - `숫자로 시작`하는 경우\n",
    "    - `예약어`를 사용하는 경우 (def 등)\n",
    "    \n",
    "* 특별한 용도가 있어서 일반적으로 사용하지 않는 변수명\n",
    "    - 언더바로 시작하는 변수명: `_name`\n",
    "    - 언더바가 2개 있는 변수명: `name__`\n",
    "    - 대문자로 시작하는 변수명: `Car`\n",
    "    - 전체가 대문자인 변수명: `CAR`"
   ]
  }
 ],
 "metadata": {
  "kernelspec": {
   "display_name": "Python 3 (ipykernel)",
   "language": "python",
   "name": "python3"
  },
  "language_info": {
   "codemirror_mode": {
    "name": "ipython",
    "version": 3
   },
   "file_extension": ".py",
   "mimetype": "text/x-python",
   "name": "python",
   "nbconvert_exporter": "python",
   "pygments_lexer": "ipython3",
   "version": "3.9.7"
  }
 },
 "nbformat": 4,
 "nbformat_minor": 5
}
