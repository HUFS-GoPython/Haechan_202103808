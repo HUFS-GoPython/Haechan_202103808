{
 "cells": [
  {
   "cell_type": "code",
   "execution_count": 1,
   "id": "2d515510-219f-4db5-9247-600ab441acf9",
   "metadata": {
    "collapsed": true,
    "jupyter": {
     "outputs_hidden": true
    },
    "tags": []
   },
   "outputs": [
    {
     "name": "stdout",
     "output_type": "stream",
     "text": [
      "*** Introductory Examples for the NLTK Book ***\n",
      "Loading text1, ..., text9 and sent1, ..., sent9\n",
      "Type the name of the text or sentence to view it.\n",
      "Type: 'texts()' or 'sents()' to list the materials.\n",
      "text1: Moby Dick by Herman Melville 1851\n",
      "text2: Sense and Sensibility by Jane Austen 1811\n",
      "text3: The Book of Genesis\n",
      "text4: Inaugural Address Corpus\n",
      "text5: Chat Corpus\n",
      "text6: Monty Python and the Holy Grail\n",
      "text7: Wall Street Journal\n",
      "text8: Personals Corpus\n",
      "text9: The Man Who Was Thursday by G . K . Chesterton 1908\n"
     ]
    },
    {
     "data": {
      "text/plain": [
       "True"
      ]
     },
     "execution_count": 1,
     "metadata": {},
     "output_type": "execute_result"
    }
   ],
   "source": [
    "import nltk\n",
    "from nltk.book import *\n",
    "nltk.download('book', quiet=True)"
   ]
  },
  {
   "cell_type": "markdown",
   "id": "4e617a65-83f9-41ca-a85d-6f27f604c180",
   "metadata": {
    "jp-MarkdownHeadingCollapsed": true,
    "tags": []
   },
   "source": [
    "## print formatting\n",
    "- 1. f string\n",
    "    - f, F 둘 다 사용 가능\n",
    "    - f'{var}'\n",
    "- 2. format\n",
    "    - '{}'.format(var)\n",
    "- 3. %\n",
    "    - '%type'%var\n",
    "- 4. print('', a, '', b)\n",
    "\n",
    "- 4번은 지양하기"
   ]
  },
  {
   "cell_type": "code",
   "execution_count": 14,
   "id": "0ca441ba-59d1-4fc9-a034-532ba59756d7",
   "metadata": {},
   "outputs": [
    {
     "name": "stdout",
     "output_type": "stream",
     "text": [
      "My name is Hae-chan.\n",
      "My name is Hae-chan.\n",
      "My name is Hae-chan.\n",
      "My name is Hae-chan .\n"
     ]
    }
   ],
   "source": [
    "name = 'Hae-chan'\n",
    "\n",
    "# 1\n",
    "print(f'My name is {name}.')\n",
    "\n",
    "# 2\n",
    "print('My name is {}.'.format(name))\n",
    "\n",
    "# 3\n",
    "print('My name is %s.'%name)\n",
    "\n",
    "# 4\n",
    "print('My name is', name, '.')"
   ]
  },
  {
   "cell_type": "code",
   "execution_count": 25,
   "id": "78aa4292-28a0-4c7d-b287-02b32f52f43e",
   "metadata": {},
   "outputs": [
    {
     "name": "stdout",
     "output_type": "stream",
     "text": [
      "세계 기록은 0.4입니다.\n",
      "세계 기록은 0.35입니다.\n",
      "세계 기록은 0.352입니다.\n"
     ]
    }
   ],
   "source": [
    "world_record = 0.351684\n",
    "\n",
    "print('세계 기록은 {:.1f}입니다.'.format(world_record))\n",
    "print('세계 기록은 {:.2f}입니다.'.format(world_record))\n",
    "print('세계 기록은 {:.3f}입니다.'.format(world_record))"
   ]
  },
  {
   "cell_type": "markdown",
   "id": "2c9fb6a5-b22b-478e-8ac9-4d0e65e05f25",
   "metadata": {
    "tags": []
   },
   "source": [
    "## 반복문\n",
    "- for\n",
    "- while"
   ]
  },
  {
   "cell_type": "markdown",
   "id": "abd59e52-88cb-49e8-ac80-325f271b998f",
   "metadata": {},
   "source": [
    "### while\n",
    "- 어떤 조건이 만족할 때까지 블록 수행\n",
    "- 해당 조건이 거짓이면 수행을 멈춘다\n",
    "    - 언제 빠져나오는지 정확히 알아야 한다.\n",
    "- for + if 형태"
   ]
  },
  {
   "cell_type": "markdown",
   "id": "3b7f918c-eae6-46e0-a9a8-f9a81b5d2133",
   "metadata": {},
   "source": [
    "#### for vs. while\n",
    "- for loop: 반복 횟수 정확히 알고, 반복 횟수 변하지 않을 때\n",
    "    - 예: 전체 학생 성적 산출\n",
    "- while loop: 반복 횟수 정확하지 않고, 어떤 조건을 만족시킬 때 프로그램 종료하고 싶다면 사용\n",
    "    - 예: 가위바위보로 이기면 종료"
   ]
  },
  {
   "cell_type": "code",
   "execution_count": 3,
   "id": "18b0927a-dc29-4ce7-973b-ebdffc47cb10",
   "metadata": {
    "collapsed": true,
    "jupyter": {
     "outputs_hidden": true
    },
    "tags": []
   },
   "outputs": [
    {
     "name": "stdout",
     "output_type": "stream",
     "text": [
      "0\n",
      "1\n",
      "2\n",
      "3\n",
      "4\n",
      "5\n",
      "6\n",
      "7\n",
      "8\n",
      "9\n",
      "0\n",
      "1\n",
      "2\n",
      "3\n",
      "4\n",
      "5\n",
      "6\n",
      "7\n",
      "8\n",
      "9\n"
     ]
    }
   ],
   "source": [
    "for i in range(10):\n",
    "    print(i)\n",
    "\n",
    "# while로 변환\n",
    "j = 0\n",
    "while j < 10:\n",
    "    print(j)\n",
    "    j += 1"
   ]
  },
  {
   "cell_type": "markdown",
   "id": "d7ed009a-a75e-4979-84c1-ad6f938a994e",
   "metadata": {},
   "source": [
    "### 반복문의 제어\n",
    "- 의도치 않게 코드를 종료시킬 수 있기 때문에 되도록 사용하지 않는다.\n",
    "\n",
    "- break\n",
    "    - 논리적으로 반복을 종료시키는 방법. break 시점을 잘 알아야 함.\n",
    "- else\n",
    "    - 어떤 조건이 '완전히' 끝났을 때 한번 더 실행하는 블록. break로 끝난 것과 구분할 수 있다. 들여쓰기는 for문, while문과 병렬로 한다.\n",
    "- continue\n",
    "    - 특정 조건을 건너뛰고 다음 조건을 수행한다."
   ]
  },
  {
   "cell_type": "code",
   "execution_count": 5,
   "id": "c5aba56e-3250-40f6-bef7-736fa34b8b99",
   "metadata": {},
   "outputs": [
    {
     "name": "stdout",
     "output_type": "stream",
     "text": [
      "0\n",
      "1\n",
      "2\n",
      "3\n",
      "4\n"
     ]
    }
   ],
   "source": [
    "for i in range(10):\n",
    "    if i == 5:\n",
    "        break\n",
    "    print(i)\n",
    "else:\n",
    "    print(\"ended\")"
   ]
  },
  {
   "cell_type": "code",
   "execution_count": 6,
   "id": "64135638-61f5-4716-ab15-d669473cd9fa",
   "metadata": {},
   "outputs": [
    {
     "name": "stdout",
     "output_type": "stream",
     "text": [
      "0\n",
      "1\n",
      "2\n",
      "3\n",
      "4\n"
     ]
    }
   ],
   "source": [
    "j = 0\n",
    "while j < 5:\n",
    "    print(j)\n",
    "    if j == 4: break\n",
    "    j += 1\n",
    "else: print(\"\")"
   ]
  },
  {
   "cell_type": "markdown",
   "id": "5757f1eb-0c8d-4a13-8192-f6b1faaef1e9",
   "metadata": {},
   "source": [
    "### 반복문 실습 - 구구단\n",
    "- 1. for, while 선택한 뒤, n단을 입력 받아서 n단을 출력한다.\n",
    "    - 출력:\n",
    "        - == 3단 ==\n",
    "        - 3 x 1 = 3\n",
    "        - 3 x 2 = 6\n",
    "        - ...\n",
    "        - 3 x 9 = 27\n",
    "- 2. 1~n단까지 출력한다.\n",
    "- 3. 시작단, 끝단을 둘다 입력 받는다.\n",
    "    - 예: 4-7단\n",
    "    - 시작단이 끝단보다 작을 때 처리를 고민해볼 것.\n",
    "- 4. 프로그램으로 만든다.\n",
    "    - 1) n단 2) 1-n단 3) n-m단\n",
    "    - 3번 -> n, m -> ...\n",
    "    - 메뉴에 없는 선택 처리"
   ]
  },
  {
   "cell_type": "markdown",
   "id": "22087aa2-9a97-4902-9f59-34fc075f913e",
   "metadata": {},
   "source": [
    "1번"
   ]
  },
  {
   "cell_type": "code",
   "execution_count": 15,
   "id": "110ca717-1b74-4562-85cf-d4ebaa80827f",
   "metadata": {
    "collapsed": true,
    "jupyter": {
     "outputs_hidden": true
    },
    "tags": []
   },
   "outputs": [
    {
     "name": "stdin",
     "output_type": "stream",
     "text": [
      "출력할 단을 입력하세요:  3\n"
     ]
    },
    {
     "name": "stdout",
     "output_type": "stream",
     "text": [
      "==3단==\n",
      "3 x 1 = 3\n",
      "3 x 2 = 6\n",
      "3 x 3 = 9\n",
      "3 x 4 = 12\n",
      "3 x 5 = 15\n",
      "3 x 6 = 18\n",
      "3 x 7 = 21\n",
      "3 x 8 = 24\n",
      "3 x 9 = 27\n"
     ]
    }
   ],
   "source": [
    "number = int(input('출력할 단을 입력하세요: '))\n",
    "\n",
    "print(f'=={number}단==')\n",
    "for i in range(1, 10):\n",
    "    print(f'{number} x {i} = {number * i}')"
   ]
  },
  {
   "cell_type": "markdown",
   "id": "c3ce010d-6783-42ee-bdae-312a96e01ec9",
   "metadata": {},
   "source": [
    "2번"
   ]
  },
  {
   "cell_type": "code",
   "execution_count": 10,
   "id": "8676aca4-f79b-4652-9e4c-d6c48fd1f5cc",
   "metadata": {
    "collapsed": true,
    "jupyter": {
     "outputs_hidden": true
    },
    "tags": []
   },
   "outputs": [
    {
     "name": "stdin",
     "output_type": "stream",
     "text": [
      "끝단을 입력하세요:  3\n"
     ]
    },
    {
     "name": "stdout",
     "output_type": "stream",
     "text": [
      "==1단==\n",
      "1 x 1 = 1\n",
      "1 x 2 = 2\n",
      "1 x 3 = 3\n",
      "1 x 4 = 4\n",
      "1 x 5 = 5\n",
      "1 x 6 = 6\n",
      "1 x 7 = 7\n",
      "1 x 8 = 8\n",
      "1 x 9 = 9\n",
      "==2단==\n",
      "2 x 1 = 2\n",
      "2 x 2 = 4\n",
      "2 x 3 = 6\n",
      "2 x 4 = 8\n",
      "2 x 5 = 10\n",
      "2 x 6 = 12\n",
      "2 x 7 = 14\n",
      "2 x 8 = 16\n",
      "2 x 9 = 18\n",
      "==3단==\n",
      "3 x 1 = 3\n",
      "3 x 2 = 6\n",
      "3 x 3 = 9\n",
      "3 x 4 = 12\n",
      "3 x 5 = 15\n",
      "3 x 6 = 18\n",
      "3 x 7 = 21\n",
      "3 x 8 = 24\n",
      "3 x 9 = 27\n"
     ]
    }
   ],
   "source": [
    "number = int(input('끝단을 입력하세요: '))\n",
    "\n",
    "for i in range(1, number+1):\n",
    "    print(f'=={i}단==')\n",
    "    for j in range(1, 10):\n",
    "        print(f'{i} x {j} = {i * j}')"
   ]
  },
  {
   "cell_type": "markdown",
   "id": "8e418f9e-bb59-47a8-abb2-b193838fecab",
   "metadata": {},
   "source": [
    "3번"
   ]
  },
  {
   "cell_type": "code",
   "execution_count": 9,
   "id": "0eef3b52-d930-4afc-a799-c9496effee32",
   "metadata": {
    "collapsed": true,
    "jupyter": {
     "outputs_hidden": true
    },
    "tags": []
   },
   "outputs": [
    {
     "name": "stdin",
     "output_type": "stream",
     "text": [
      "시작단을 입력하세요:  5\n",
      "끝단을 입력하세요:  7\n"
     ]
    },
    {
     "name": "stdout",
     "output_type": "stream",
     "text": [
      "==5단==\n",
      "5 x 1 = 5\n",
      "5 x 2 = 10\n",
      "5 x 3 = 15\n",
      "5 x 4 = 20\n",
      "5 x 5 = 25\n",
      "5 x 6 = 30\n",
      "5 x 7 = 35\n",
      "5 x 8 = 40\n",
      "5 x 9 = 45\n",
      "==6단==\n",
      "6 x 1 = 6\n",
      "6 x 2 = 12\n",
      "6 x 3 = 18\n",
      "6 x 4 = 24\n",
      "6 x 5 = 30\n",
      "6 x 6 = 36\n",
      "6 x 7 = 42\n",
      "6 x 8 = 48\n",
      "6 x 9 = 54\n",
      "==7단==\n",
      "7 x 1 = 7\n",
      "7 x 2 = 14\n",
      "7 x 3 = 21\n",
      "7 x 4 = 28\n",
      "7 x 5 = 35\n",
      "7 x 6 = 42\n",
      "7 x 7 = 49\n",
      "7 x 8 = 56\n",
      "7 x 9 = 63\n"
     ]
    }
   ],
   "source": [
    "first_number = int(input('시작단을 입력하세요: '))\n",
    "last_number = int(input('끝단을 입력하세요: '))\n",
    "\n",
    "while True:\n",
    "    if first_number <= last_number:\n",
    "        for i in range(first_number, last_number+1):\n",
    "            print(f'=={i}단==')\n",
    "            for j in range(1, 10):\n",
    "                print(f'{i} x {j} = {i * j}')\n",
    "        break\n",
    "    else:\n",
    "        for i in range(first_number, last_number-1, -1):\n",
    "            print(f'=={i}단==')\n",
    "            for j in range(1, 10):\n",
    "                    print(f'{i} x {j} = {i * j}')\n",
    "        break"
   ]
  },
  {
   "cell_type": "markdown",
   "id": "ce11614a-41a6-4d83-ad9d-a88c623657c7",
   "metadata": {},
   "source": [
    "4번: 프로그램"
   ]
  },
  {
   "cell_type": "code",
   "execution_count": 11,
   "id": "d507b977-c07f-4545-91fb-755ca26fec7a",
   "metadata": {
    "collapsed": true,
    "jupyter": {
     "outputs_hidden": true
    },
    "tags": []
   },
   "outputs": [
    {
     "name": "stdin",
     "output_type": "stream",
     "text": [
      "\n",
      "===구구단 출력기===\n",
      "\n",
      "1) 특정 단 출력\n",
      "2) 1단부터 특정 단까지 출력\n",
      "3) 특정 단부터 특정 단까지 출력\n",
      "4) 구구단 출력기 종료하기\n",
      "\n",
      "항목의 번호를 입력해주세요: 5\n"
     ]
    },
    {
     "name": "stdout",
     "output_type": "stream",
     "text": [
      "\n",
      "없는 항목입니다. 항목에 해당하는 숫자를 입력하십시오.\n"
     ]
    },
    {
     "name": "stdin",
     "output_type": "stream",
     "text": [
      "\n",
      "===구구단 출력기===\n",
      "\n",
      "1) 특정 단 출력\n",
      "2) 1단부터 특정 단까지 출력\n",
      "3) 특정 단부터 특정 단까지 출력\n",
      "4) 구구단 출력기 종료하기\n",
      "\n",
      "항목의 번호를 입력해주세요: 6\n"
     ]
    },
    {
     "name": "stdout",
     "output_type": "stream",
     "text": [
      "\n",
      "없는 항목입니다. 항목에 해당하는 숫자를 입력하십시오.\n"
     ]
    },
    {
     "name": "stdin",
     "output_type": "stream",
     "text": [
      "\n",
      "===구구단 출력기===\n",
      "\n",
      "1) 특정 단 출력\n",
      "2) 1단부터 특정 단까지 출력\n",
      "3) 특정 단부터 특정 단까지 출력\n",
      "4) 구구단 출력기 종료하기\n",
      "\n",
      "항목의 번호를 입력해주세요: 4\n"
     ]
    },
    {
     "name": "stdout",
     "output_type": "stream",
     "text": [
      "\n",
      "프로그램을 종료합니다.\n"
     ]
    }
   ],
   "source": [
    "while True:\n",
    "    choice = input(\"\"\"\\n===구구단 출력기===\n",
    "\n",
    "1) 특정 단 출력\n",
    "2) 1단부터 특정 단까지 출력\n",
    "3) 특정 단부터 특정 단까지 출력\n",
    "4) 구구단 출력기 종료하기\n",
    "\n",
    "항목의 번호를 입력해주세요:\"\"\")\n",
    "\n",
    "    if choice == '1':\n",
    "        number = int(input('출력할 단을 입력하세요: '))\n",
    "        print(f'\\n=={number}단==')\n",
    "        for i in range(1, 10):\n",
    "            print(f'{number} x {i} = {number * i}')\n",
    "\n",
    "    elif choice == '2':\n",
    "        number = int(input('끝단을 입력하세요: '))\n",
    "        for i in range(1, number+1):\n",
    "            print(f'\\n=={i}단==')\n",
    "            for j in range(1, 10):\n",
    "                print(f'{i} x {j} = {i * j}')\n",
    "\n",
    "    elif choice == '3':\n",
    "        first_number = int(input('시작단을 입력하세요: '))\n",
    "        last_number = int(input('끝단을 입력하세요: '))\n",
    "        while True:\n",
    "            if first_number <= last_number:\n",
    "                for i in range(first_number, last_number+1):\n",
    "                    print(f'\\n=={i}단==')\n",
    "                    for j in range(1, 10):\n",
    "                        print(f'{i} x {j} = {i * j}')\n",
    "                break\n",
    "            else:\n",
    "                for i in range(first_number, last_number-1, -1):\n",
    "                    print(f'=={i}단==')\n",
    "                    for j in range(1, 10):\n",
    "                            print(f'{i} x {j} = {i * j}')\n",
    "                break\n",
    "    \n",
    "    elif choice == '4':\n",
    "        print('\\n프로그램을 종료합니다.')\n",
    "        break\n",
    "    \n",
    "    else: print('\\n없는 항목입니다. 항목에 해당하는 숫자를 입력하십시오.')"
   ]
  },
  {
   "cell_type": "markdown",
   "id": "46eadabc-d0f3-4d89-af56-1314cd28d15a",
   "metadata": {
    "tags": []
   },
   "source": [
    "## NLTK: Corpus\n",
    "- 다양한 종류의 코퍼스\n",
    "- 더 다양한 언어 분석 가능\n",
    "- 종류\n",
    "    - `gutenberg`\n",
    "        - 저작권이 만료된 문학 작품들\n",
    "    - `brown`\n",
    "        - 카테고리가 있음\n",
    "    - `inaugural`\n",
    "- 함수\n",
    "    - `words()`\n",
    "    - `sents()`\n",
    "    - `fileids()`\n",
    "        - 작품 찾기\n",
    "    - `raw()`"
   ]
  },
  {
   "cell_type": "code",
   "execution_count": 27,
   "id": "2bf1bd12-9918-4626-a8e3-04f87bf47eb6",
   "metadata": {},
   "outputs": [
    {
     "data": {
      "text/plain": [
       "['[', 'Emma', 'by', 'Jane', 'Austen', '1816', ']', ...]"
      ]
     },
     "execution_count": 27,
     "metadata": {},
     "output_type": "execute_result"
    }
   ],
   "source": [
    "gutenberg.words()"
   ]
  },
  {
   "cell_type": "code",
   "execution_count": 30,
   "id": "691dec7d-f2a4-458f-8e1b-469509074245",
   "metadata": {},
   "outputs": [
    {
     "data": {
      "text/plain": [
       "[['[', 'Emma', 'by', 'Jane', 'Austen', '1816', ']'], ['VOLUME', 'I'], ...]"
      ]
     },
     "execution_count": 30,
     "metadata": {},
     "output_type": "execute_result"
    }
   ],
   "source": [
    "gutenberg.sents()"
   ]
  },
  {
   "cell_type": "code",
   "execution_count": 31,
   "id": "033783e6-a39f-458d-8439-82e9ce15cc74",
   "metadata": {
    "collapsed": true,
    "jupyter": {
     "outputs_hidden": true
    },
    "tags": []
   },
   "outputs": [
    {
     "data": {
      "text/plain": [
       "['austen-emma.txt',\n",
       " 'austen-persuasion.txt',\n",
       " 'austen-sense.txt',\n",
       " 'bible-kjv.txt',\n",
       " 'blake-poems.txt',\n",
       " 'bryant-stories.txt',\n",
       " 'burgess-busterbrown.txt',\n",
       " 'carroll-alice.txt',\n",
       " 'chesterton-ball.txt',\n",
       " 'chesterton-brown.txt',\n",
       " 'chesterton-thursday.txt',\n",
       " 'edgeworth-parents.txt',\n",
       " 'melville-moby_dick.txt',\n",
       " 'milton-paradise.txt',\n",
       " 'shakespeare-caesar.txt',\n",
       " 'shakespeare-hamlet.txt',\n",
       " 'shakespeare-macbeth.txt',\n",
       " 'whitman-leaves.txt']"
      ]
     },
     "execution_count": 31,
     "metadata": {},
     "output_type": "execute_result"
    }
   ],
   "source": [
    "gutenberg.fileids()"
   ]
  },
  {
   "cell_type": "code",
   "execution_count": 34,
   "id": "f26bb53c-5c6e-4b6c-8970-6f9efe4877ce",
   "metadata": {
    "tags": []
   },
   "outputs": [
    {
     "data": {
      "text/plain": [
       "'[Emma by Jane Austen 1816]\\n\\nVOLUME I\\n\\nCHAPTER I\\n\\n\\nEmma Woodhouse, handsome, clever, and rich, with a'"
      ]
     },
     "execution_count": 34,
     "metadata": {},
     "output_type": "execute_result"
    }
   ],
   "source": [
    "gutenberg.raw()[:100]"
   ]
  },
  {
   "cell_type": "markdown",
   "id": "42792c0c-da7f-419b-b248-c6868a4a8ef5",
   "metadata": {},
   "source": [
    "### gutenberg"
   ]
  },
  {
   "cell_type": "code",
   "execution_count": 43,
   "id": "7fb6583d-f9d7-4441-98cf-ba50dea08294",
   "metadata": {
    "tags": []
   },
   "outputs": [
    {
     "data": {
      "text/plain": [
       "True"
      ]
     },
     "execution_count": 43,
     "metadata": {},
     "output_type": "execute_result"
    }
   ],
   "source": [
    "import nltk\n",
    "from nltk.corpus import gutenberg\n",
    "nltk.download('gutenberg', quiet=True)"
   ]
  },
  {
   "cell_type": "markdown",
   "id": "7d12008d-5ef4-4e6f-87a8-906e9f0a625f",
   "metadata": {},
   "source": [
    "#### 연습문제\n",
    "- gutenberg의 각 파일을 돌아가면서 글자 수, 단어 수, 문장 수를 출력합니다.\n",
    "- austen-emma | 글자 수 = 12개, 단어 수 = 14개, 문장 수 = 15개 ..."
   ]
  },
  {
   "cell_type": "code",
   "execution_count": 42,
   "id": "96d6eca8-0b3e-4db0-a939-0611f19bd3cf",
   "metadata": {
    "collapsed": true,
    "jupyter": {
     "outputs_hidden": true
    },
    "tags": []
   },
   "outputs": [
    {
     "name": "stdout",
     "output_type": "stream",
     "text": [
      "austen-emma | 글자 수 = 887071개, 단어 수 = 192427개, 문장 수 = 7752개\n",
      "austen-persuasion | 글자 수 = 466292개, 단어 수 = 98171개, 문장 수 = 3747개\n",
      "austen-sense | 글자 수 = 673022개, 단어 수 = 141576개, 문장 수 = 4999개\n",
      "bible-kjv | 글자 수 = 4332554개, 단어 수 = 1010654개, 문장 수 = 30103개\n",
      "blake-poems | 글자 수 = 38153개, 단어 수 = 8354개, 문장 수 = 438개\n",
      "bryant-stories | 글자 수 = 249439개, 단어 수 = 55563개, 문장 수 = 2863개\n",
      "burgess-busterbrown | 글자 수 = 84663개, 단어 수 = 18963개, 문장 수 = 1054개\n",
      "carroll-alice | 글자 수 = 144395개, 단어 수 = 34110개, 문장 수 = 1703개\n",
      "chesterton-ball | 글자 수 = 457450개, 단어 수 = 96996개, 문장 수 = 4779개\n",
      "chesterton-brown | 글자 수 = 406629개, 단어 수 = 86063개, 문장 수 = 3806개\n",
      "chesterton-thursday | 글자 수 = 320525개, 단어 수 = 69213개, 문장 수 = 3742개\n",
      "edgeworth-parents | 글자 수 = 935158개, 단어 수 = 210663개, 문장 수 = 10230개\n",
      "melville-moby_dick | 글자 수 = 1242990개, 단어 수 = 260819개, 문장 수 = 10059개\n",
      "milton-paradise | 글자 수 = 468220개, 단어 수 = 96825개, 문장 수 = 1851개\n",
      "shakespeare-caesar | 글자 수 = 112310개, 단어 수 = 25833개, 문장 수 = 2163개\n",
      "shakespeare-hamlet | 글자 수 = 162881개, 단어 수 = 37360개, 문장 수 = 3106개\n",
      "shakespeare-macbeth | 글자 수 = 100351개, 단어 수 = 23140개, 문장 수 = 1907개\n",
      "whitman-leaves | 글자 수 = 711215개, 단어 수 = 154883개, 문장 수 = 4250개\n"
     ]
    }
   ],
   "source": [
    "for text in gutenberg.fileids():\n",
    "    length_text = len(gutenberg.raw(f'{text}'))\n",
    "    words_text = len(gutenberg.words(f'{text}'))\n",
    "    sents_text = len(gutenberg.sents(f'{text}'))\n",
    "    print(f'{text[:-4]} |\\\n",
    " 글자 수 = {length_text}개, 단어 수 = {words_text}개, 문장 수 = {sents_text}개')"
   ]
  },
  {
   "cell_type": "markdown",
   "id": "67f94075-bcf3-4804-80ff-115a8b1bbef6",
   "metadata": {},
   "source": [
    "### brown\n",
    "- categories()"
   ]
  },
  {
   "cell_type": "code",
   "execution_count": 44,
   "id": "e87fd7c6-1c99-43d6-b681-e76620ed34a3",
   "metadata": {},
   "outputs": [
    {
     "data": {
      "text/plain": [
       "True"
      ]
     },
     "execution_count": 44,
     "metadata": {},
     "output_type": "execute_result"
    }
   ],
   "source": [
    "import nltk\n",
    "from nltk.corpus import brown\n",
    "nltk.download('brown', quiet=True)"
   ]
  },
  {
   "cell_type": "code",
   "execution_count": 46,
   "id": "e015a7bd-03be-484b-9a1a-157bbc937c4e",
   "metadata": {
    "tags": []
   },
   "outputs": [
    {
     "data": {
      "text/plain": [
       "['adventure',\n",
       " 'belles_lettres',\n",
       " 'editorial',\n",
       " 'fiction',\n",
       " 'government',\n",
       " 'hobbies',\n",
       " 'humor',\n",
       " 'learned',\n",
       " 'lore',\n",
       " 'mystery',\n",
       " 'news',\n",
       " 'religion',\n",
       " 'reviews',\n",
       " 'romance',\n",
       " 'science_fiction']"
      ]
     },
     "execution_count": 46,
     "metadata": {},
     "output_type": "execute_result"
    }
   ],
   "source": [
    "brown.categories()"
   ]
  },
  {
   "cell_type": "code",
   "execution_count": 62,
   "id": "88adf7eb-c5ab-49f6-9e39-47b7c5de0c06",
   "metadata": {},
   "outputs": [
    {
     "data": {
      "text/plain": [
       "['It', 'was', 'among', 'these', 'that', 'Hinkle', ...]"
      ]
     },
     "execution_count": 62,
     "metadata": {},
     "output_type": "execute_result"
    }
   ],
   "source": [
    "humor = brown.words(categories='humor')\n",
    "humor"
   ]
  },
  {
   "cell_type": "markdown",
   "id": "d1232310-8a8a-44f6-a002-3e487381962e",
   "metadata": {},
   "source": [
    "Modal verbs의 쓰임을 알아보기"
   ]
  },
  {
   "cell_type": "code",
   "execution_count": 63,
   "id": "cf15c434-7e17-46a3-a1d0-0911a720e808",
   "metadata": {},
   "outputs": [
    {
     "name": "stdout",
     "output_type": "stream",
     "text": [
      "can 17\n",
      "could 33\n",
      "may 8\n",
      "might 8\n",
      "will 13\n",
      "would 56\n"
     ]
    }
   ],
   "source": [
    "modals = ['can', 'could', 'may', 'might', 'will', 'would']\n",
    "\n",
    "fdist_brown = nltk.FreqDist([w.lower() for w in humor])\n",
    "\n",
    "for verb in modals:\n",
    "    print(verb, fdist_brown[verb])"
   ]
  },
  {
   "cell_type": "markdown",
   "id": "ea1e21d8-ab51-4294-b51b-fe747f98dd66",
   "metadata": {
    "jp-MarkdownHeadingCollapsed": true,
    "tags": []
   },
   "source": [
    "### conditional frequency distribution (CFD)\n",
    "- 조건이 붙은 fidst"
   ]
  },
  {
   "cell_type": "code",
   "execution_count": 51,
   "id": "3d89b9e6-2805-4629-8e05-fa480fac315e",
   "metadata": {
    "tags": []
   },
   "outputs": [],
   "source": [
    "# 장르에 따른 fdist 만들기\n",
    "cfd = nltk.ConditionalFreqDist(\n",
    "    (genre, word.lower())\n",
    "    for genre in brown.categories() \n",
    "    for word in brown.words(categories=genre)\n",
    ")"
   ]
  },
  {
   "cell_type": "code",
   "execution_count": 56,
   "id": "e477679a-4fe3-4d6f-b502-137942fc30f1",
   "metadata": {},
   "outputs": [
    {
     "name": "stdout",
     "output_type": "stream",
     "text": [
      "<FreqDist with 8289 samples and 69342 outcomes>\n",
      "3780\n",
      "[('.', 4057), ('the', 3780), (',', 3488), ('and', 1706), ('a', 1432), ('of', 1327), ('to', 1322), ('he', 1283), ('``', 998), (\"''\", 995)]\n"
     ]
    }
   ],
   "source": [
    "print(cfd['adventure'])\n",
    "print(cfd['adventure']['the'])\n",
    "print(cfd['adventure'].most_common(10))"
   ]
  },
  {
   "cell_type": "markdown",
   "id": "8815bba2-8bc7-403f-a01f-8615d6aa1476",
   "metadata": {
    "jp-MarkdownHeadingCollapsed": true,
    "tags": []
   },
   "source": [
    "### tabulate\n",
    "- conditions과 samples에 따른 fdist를 표로 만들어 주는 함수"
   ]
  },
  {
   "cell_type": "code",
   "execution_count": 57,
   "id": "d29569ad-2def-4ace-b3a7-70eef56c0b1a",
   "metadata": {
    "tags": []
   },
   "outputs": [
    {
     "name": "stdout",
     "output_type": "stream",
     "text": [
      "                 can could   may might  will would \n",
      "     adventure    48   154     7    59    51   194 \n",
      "belles_lettres   249   216   221   113   246   397 \n",
      "     editorial   124    57    79    39   235   185 \n",
      "None\n"
     ]
    }
   ],
   "source": [
    "modals = ['can', 'could', 'may', 'might', 'will', 'would']\n",
    "\n",
    "print(cfd.tabulate(conditions=brown.categories()[:3], samples=modals))"
   ]
  }
 ],
 "metadata": {
  "kernelspec": {
   "display_name": "Python 3 (ipykernel)",
   "language": "python",
   "name": "python3"
  },
  "language_info": {
   "codemirror_mode": {
    "name": "ipython",
    "version": 3
   },
   "file_extension": ".py",
   "mimetype": "text/x-python",
   "name": "python",
   "nbconvert_exporter": "python",
   "pygments_lexer": "ipython3",
   "version": "3.9.7"
  }
 },
 "nbformat": 4,
 "nbformat_minor": 5
}
