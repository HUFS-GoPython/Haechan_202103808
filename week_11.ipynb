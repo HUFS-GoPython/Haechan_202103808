{
 "cells": [
  {
   "cell_type": "markdown",
   "id": "232fb21f-57d2-479f-a72a-68d49fe676bc",
   "metadata": {
    "tags": []
   },
   "source": [
    "## 상속 | inheritance\n",
    "- 이전 클래스의 내용을 추가, 변경해야 할 경우\n",
    "- 코드 재사용에 유용함\n",
    "- parent class: 상속하는 class\n",
    "    - a.k.a. super / base class\n",
    "    - general\n",
    "- child class: 상속받는 class\n",
    "    - a.k.a. sub / derived class\n",
    "    - specific\n",
    "- 자식 class가 너무 부모 class와 관계가 깊으면 안됨\n",
    "- 상속 관계\n",
    "    - is-a- 관계\n",
    "        - 포함 관계\n",
    "    - has-a- 관계\n",
    "        - 서로 다른 객체를 변수로 이은 관계\n",
    "        - is-a- 관계보다 독립적\n",
    "- e.g. Car is-a-Vehicle\n",
    "    - 부모 class: Vehicle\n",
    "    - 자식 class: Car"
   ]
  },
  {
   "cell_type": "code",
   "execution_count": 2,
   "id": "1e8ec5ea-4e1d-49ab-88da-bdeee45ce37f",
   "metadata": {},
   "outputs": [],
   "source": [
    "# 부모 class\n",
    "class Vehicle:\n",
    "    def __init__(self, speed):\n",
    "        self.speed = speed\n",
    "    \n",
    "    def go(self):\n",
    "        print(f'{self.speed}의 속력으로 달린다.')"
   ]
  },
  {
   "cell_type": "code",
   "execution_count": 3,
   "id": "cbbbed0d-cb40-4caf-a9cf-0a61c090241b",
   "metadata": {},
   "outputs": [],
   "source": [
    "# 자식 class\n",
    "class Car(Vehicle):\n",
    "    pass"
   ]
  },
  {
   "cell_type": "code",
   "execution_count": 5,
   "id": "ba73ee08-d74b-43a5-88c8-21aad868478f",
   "metadata": {},
   "outputs": [],
   "source": [
    "car = Car('15km/h')"
   ]
  },
  {
   "cell_type": "code",
   "execution_count": 6,
   "id": "fcf03b00-49ac-4cb9-bac1-38158d98b7a6",
   "metadata": {},
   "outputs": [
    {
     "name": "stdout",
     "output_type": "stream",
     "text": [
      "15km/h의 속력으로 달린다.\n"
     ]
    }
   ],
   "source": [
    "car.go()"
   ]
  },
  {
   "cell_type": "markdown",
   "id": "5d98167a-80aa-4610-9fdb-f78e04ecbc8a",
   "metadata": {},
   "source": [
    "### 추가, 변경"
   ]
  },
  {
   "cell_type": "markdown",
   "id": "13f0d012-6914-42d1-9726-d5c37760d3c7",
   "metadata": {},
   "source": [
    "#### 변수 (속성)\n",
    "- 부모 class에는 `super().__init__()`으로 접근\n",
    "- 부모 class의 속성을 선택적으로 받아 올 수 있음"
   ]
  },
  {
   "cell_type": "code",
   "execution_count": 11,
   "id": "7af3133c-f952-4193-b9bb-29281503d4b1",
   "metadata": {},
   "outputs": [],
   "source": [
    "class Car(Vehicle):\n",
    "    def __init__(self, speed, brand):\n",
    "        # 부모에게서 받아온 속성\n",
    "        super().__init__(speed)\n",
    "        # 자식 class에서 추가한 속성\n",
    "        self.brand = brand"
   ]
  },
  {
   "cell_type": "code",
   "execution_count": 12,
   "id": "035eec1d-6d6f-477e-907c-36b3becc0842",
   "metadata": {},
   "outputs": [],
   "source": [
    "car2 = Car('14km/h', 'Kia')"
   ]
  },
  {
   "cell_type": "code",
   "execution_count": 13,
   "id": "1af9a1b8-18fc-48de-893e-3b255752834b",
   "metadata": {},
   "outputs": [
    {
     "data": {
      "text/plain": [
       "'14km/h'"
      ]
     },
     "execution_count": 13,
     "metadata": {},
     "output_type": "execute_result"
    }
   ],
   "source": [
    "car2.speed"
   ]
  },
  {
   "cell_type": "markdown",
   "id": "6124af24-327a-45e5-823d-2b93c8775a72",
   "metadata": {},
   "source": [
    "#### 메소드 변경\n",
    "- 오버라이드 (override): 재정의\n",
    "- 부모의 함수를 지정하는 방식과 똑같이 하면 됨\n",
    "- `super().<def>`로 부모의 메소드를 가져올 수 있음"
   ]
  },
  {
   "cell_type": "code",
   "execution_count": 14,
   "id": "d0c1c92d-40fe-4f19-b4d6-5b7ac824655c",
   "metadata": {},
   "outputs": [
    {
     "name": "stdout",
     "output_type": "stream",
     "text": [
      "14km/h의 속력으로 달린다.\n"
     ]
    }
   ],
   "source": [
    "# 부모 class의 go()\n",
    "car2.go()"
   ]
  },
  {
   "cell_type": "code",
   "execution_count": 22,
   "id": "7e9620a9-5cef-431d-bb7c-50585273968f",
   "metadata": {},
   "outputs": [],
   "source": [
    "class Car(Vehicle):\n",
    "    def __init__(self, speed, brand):\n",
    "        super().__init__(speed)\n",
    "        self.brand = brand\n",
    "    \n",
    "    # 수정\n",
    "    def go(self):\n",
    "        print(f'차종은 {self.brand}')\n",
    "    \n",
    "    # 추가\n",
    "    def stop(self):\n",
    "        print('차가 멈춘다.')"
   ]
  },
  {
   "cell_type": "code",
   "execution_count": 23,
   "id": "849510cf-1ec5-45a4-9ece-f96045d259e2",
   "metadata": {},
   "outputs": [
    {
     "name": "stdout",
     "output_type": "stream",
     "text": [
      "차종은 Nissan\n",
      "차가 멈춘다.\n"
     ]
    }
   ],
   "source": [
    "# 자식 class의 go()\n",
    "car3 = Car('15km/h', 'Nissan')\n",
    "car3.go()\n",
    "car3.stop()"
   ]
  },
  {
   "cell_type": "code",
   "execution_count": 24,
   "id": "3ae41ffa-c370-47d3-92a6-7796683af898",
   "metadata": {},
   "outputs": [],
   "source": [
    "# 부모의 go()와 자식의 go() 함께 적용\n",
    "class Car(Vehicle):\n",
    "    def __init__(self, speed, brand):\n",
    "        super().__init__(speed)\n",
    "        self.brand = brand\n",
    "    \n",
    "    def go(self):\n",
    "        super().go() # 부모의 go()\n",
    "        print(f'차종은 {self.brand}') # 자식의 go()\n",
    "    \n",
    "    def stop(self):\n",
    "        print('차가 멈춘다.')"
   ]
  },
  {
   "cell_type": "code",
   "execution_count": 25,
   "id": "57420310-93b4-46f1-83aa-2088d01046bd",
   "metadata": {},
   "outputs": [
    {
     "name": "stdout",
     "output_type": "stream",
     "text": [
      "15km/h의 속력으로 달린다.\n",
      "차종은 Nissan\n",
      "차가 멈춘다.\n"
     ]
    }
   ],
   "source": [
    "# 자식 class의 go()\n",
    "car3 = Car('15km/h', 'Nissan')\n",
    "car3.go()\n",
    "car3.stop()"
   ]
  },
  {
   "cell_type": "markdown",
   "id": "1e666bb1-cf08-4c64-9e2a-7060a8f94f09",
   "metadata": {},
   "source": [
    "### 실습\n",
    "- 부모 class: Person\n",
    "    - 속성: `<name>`\n",
    "- 자식 class:\n",
    "    - Doctor\n",
    "        - 속성: `Dr. <name>`\n",
    "    - Male\n",
    "        - 속성: `Mr. <name>`\n",
    "    - Female\n",
    "        - 속성: `Mrs. <name>`"
   ]
  },
  {
   "cell_type": "markdown",
   "id": "da3ce6fe-d6f6-4f81-9200-33f2ef27ceb1",
   "metadata": {},
   "source": [
    "#### 내 답"
   ]
  },
  {
   "cell_type": "code",
   "execution_count": 27,
   "id": "728ec2a0-0e0d-436b-b3fd-59370efac161",
   "metadata": {},
   "outputs": [
    {
     "data": {
      "text/plain": [
       "'Mr. Hwang'"
      ]
     },
     "execution_count": 27,
     "metadata": {},
     "output_type": "execute_result"
    }
   ],
   "source": [
    "class Person:\n",
    "    def __init__(self, name):\n",
    "        self.name = name\n",
    "\n",
    "class Doctor(Person):\n",
    "    def __init__(self, name):\n",
    "        super().__init__(name)\n",
    "        self.name = f'Dr. {name}'\n",
    "\n",
    "class Male(Person):\n",
    "    def __init__(self, name):\n",
    "        super().__init__(name)\n",
    "        self.name = f'Mr. {name}'\n",
    "\n",
    "class Female(Person):\n",
    "    def __init__(self, name):\n",
    "        super().__init__(name)\n",
    "        self.name = f'Mrs. {name}'\n",
    "\n",
    "person1 = Male('Hwang')\n",
    "person1.name"
   ]
  },
  {
   "cell_type": "markdown",
   "id": "2b53a69a-a020-4b7e-9a94-d676413eaebf",
   "metadata": {},
   "source": [
    "#### 모범 답"
   ]
  },
  {
   "cell_type": "code",
   "execution_count": 30,
   "id": "1de10242-348a-4d86-a2d6-9a85c1e05143",
   "metadata": {},
   "outputs": [
    {
     "data": {
      "text/plain": [
       "'Mr. Hwang'"
      ]
     },
     "execution_count": 30,
     "metadata": {},
     "output_type": "execute_result"
    }
   ],
   "source": [
    "class Person:\n",
    "    def __init__(self, name):\n",
    "        self.name = name\n",
    "\n",
    "class Doctor(Person):\n",
    "    def __init__(self, name):\n",
    "        super().__init__(f'Dr. {name}')\n",
    "\n",
    "class Male(Person):\n",
    "    def __init__(self, name):\n",
    "        super().__init__(f'Mr. {name}')\n",
    "\n",
    "class Female(Person):\n",
    "    def __init__(self, name):\n",
    "        super().__init__(f'Mrs. {name}')\n",
    "\n",
    "person1 = Male('Hwang')\n",
    "person1.name"
   ]
  },
  {
   "cell_type": "markdown",
   "id": "775e9f94-eb45-48bf-8c4c-4b66f76bc3e3",
   "metadata": {},
   "source": [
    "### 다중 상속\n",
    "- 부모 class가 여럿일 때\n",
    "- method resolution order (MRO)\n",
    "    - 부모 class의 우선순위\n",
    "    - 기입 순서에 따름\n",
    "    - `mro()` 함수로 확인 가능"
   ]
  },
  {
   "cell_type": "markdown",
   "id": "300722da-5679-408b-91d3-dce992c74dc9",
   "metadata": {},
   "source": [
    "#### example\n",
    "- Animal <- Horse\n",
    "            <- Donkey\n",
    "                <- Mule (donkey > horse)\n",
    "                <- Hinny (horse > donkey)"
   ]
  },
  {
   "cell_type": "code",
   "execution_count": 31,
   "id": "ac99e4ea-ff82-4e3d-be3d-8290a4ddbb1a",
   "metadata": {},
   "outputs": [],
   "source": [
    "class Animal:\n",
    "    def says(self):\n",
    "        return '동물이 운다'\n",
    "\n",
    "# ------------------------\n",
    "\n",
    "class Horse(Animal):\n",
    "    def says(self):\n",
    "        return '히히힝'\n",
    "\n",
    "class Donkey(Animal):\n",
    "    def says(self):\n",
    "        return '히이호'\n",
    "\n",
    "# ------------------------\n",
    "\n",
    "class Mule(Donkey, Horse):\n",
    "    pass\n",
    "\n",
    "class Hinny(Horse, Donkey):\n",
    "    pass"
   ]
  },
  {
   "cell_type": "code",
   "execution_count": 33,
   "id": "d22b739a-80d6-41aa-bcef-b60a7a2ad5f7",
   "metadata": {},
   "outputs": [
    {
     "name": "stdout",
     "output_type": "stream",
     "text": [
      "Mule says 히이호\n",
      "Hinny says 히히힝\n"
     ]
    }
   ],
   "source": [
    "print(f'Mule says {Mule().says()}')\n",
    "print(f'Hinny says {Hinny().says()}')"
   ]
  },
  {
   "cell_type": "code",
   "execution_count": 34,
   "id": "9c85414f-7e34-4240-897f-ce91b31b0fbe",
   "metadata": {},
   "outputs": [
    {
     "data": {
      "text/plain": [
       "[__main__.Mule, __main__.Donkey, __main__.Horse, __main__.Animal, object]"
      ]
     },
     "execution_count": 34,
     "metadata": {},
     "output_type": "execute_result"
    }
   ],
   "source": [
    "Mule.mro()"
   ]
  },
  {
   "cell_type": "markdown",
   "id": "db5e4013-1c6e-470a-b24c-f2a4a5aecd36",
   "metadata": {},
   "source": [
    "### 다형성 (duck typing)\n",
    "- 다른 객체이지만 같은 메소드를 가지면 같이 접근할 수 있음"
   ]
  },
  {
   "cell_type": "code",
   "execution_count": 37,
   "id": "ed70461d-e023-4d3c-b8ea-932d859dc297",
   "metadata": {},
   "outputs": [
    {
     "name": "stdout",
     "output_type": "stream",
     "text": [
      "동물이 운다\n",
      "히히힝\n",
      "히이호\n"
     ]
    }
   ],
   "source": [
    "for animal in [Animal(), Horse(), Mule()]:\n",
    "    print(animal.says())"
   ]
  },
  {
   "cell_type": "markdown",
   "id": "a92901ad-d910-4762-bdd1-516918f6bb30",
   "metadata": {
    "tags": []
   },
   "source": [
    "### 메서드\n",
    "- 인스턴스 메서드\n",
    "- 클래스 메서드\n",
    "- 정적 메서드\n",
    "- 추상 메서드"
   ]
  },
  {
   "cell_type": "markdown",
   "id": "90a17c49-2ed9-4d8c-9ebc-c52f887ee2c4",
   "metadata": {},
   "source": [
    "#### 인스턴스 메소드\n",
    "- 기본적으로 사용했던 메소드\n",
    "- 첫 번째 인수가 self인 메서드\n",
    "- 해당 객체가 사용하는 메서드\n",
    "- 객체 생성 후 사용 가능"
   ]
  },
  {
   "cell_type": "markdown",
   "id": "5d3c7755-5be0-4694-90d0-a1d9c8ac50e2",
   "metadata": {},
   "source": [
    "#### 클래스 메소드\n",
    "- 객체마다 달라지지 않음\n",
    "- 클래스 전체에서 작용하는 메소드\n",
    "- 모든 객체가 공유하는 (클래스) 변수, 메소드\n",
    "- 객체 생성 없이 메소드 접근 가능\n",
    "- 예약어: `cls`\n",
    "- 데코레이터: `@classmethod`"
   ]
  },
  {
   "cell_type": "code",
   "execution_count": 36,
   "id": "12cf26ef-5de4-4e32-8e1f-8661c8887347",
   "metadata": {},
   "outputs": [],
   "source": [
    "class A:\n",
    "    cnt = 0\n",
    "\n",
    "    @classmethod\n",
    "    def move(cls):\n",
    "        print(cls.cnt)"
   ]
  },
  {
   "cell_type": "code",
   "execution_count": 37,
   "id": "0a69d653-4200-44ab-9e29-df95432183ec",
   "metadata": {},
   "outputs": [
    {
     "name": "stdout",
     "output_type": "stream",
     "text": [
      "0\n"
     ]
    }
   ],
   "source": [
    "A().move()"
   ]
  },
  {
   "cell_type": "markdown",
   "id": "b0647f89-b271-40b5-a3df-8f66c3a29991",
   "metadata": {},
   "source": [
    "##### 연습문제\n",
    "- 객체가 생성될 때마다 횟수 증가해서 프린트"
   ]
  },
  {
   "cell_type": "code",
   "execution_count": 40,
   "id": "3ba77e07-1c6c-4c63-a7e1-8a1f25b428d7",
   "metadata": {},
   "outputs": [],
   "source": [
    "class B:\n",
    "    cnt = 0\n",
    "    def __init__(self):\n",
    "        B.cnt += 1 # 객체가 생성되면 클래스 변수에 + 1\n",
    "    \n",
    "    # class method\n",
    "    @classmethod\n",
    "    def count(cls):\n",
    "        print(cls.cnt)"
   ]
  },
  {
   "cell_type": "code",
   "execution_count": 41,
   "id": "02da0f28-37cc-4a75-8510-2ff3d4450bd9",
   "metadata": {},
   "outputs": [
    {
     "name": "stdout",
     "output_type": "stream",
     "text": [
      "5\n"
     ]
    }
   ],
   "source": [
    "B()\n",
    "B()\n",
    "B()\n",
    "B()\n",
    "B().count()"
   ]
  },
  {
   "cell_type": "markdown",
   "id": "517d2b9f-6923-45c3-8542-04d51e522202",
   "metadata": {},
   "source": [
    "##### example"
   ]
  },
  {
   "cell_type": "code",
   "execution_count": 43,
   "id": "c14f7094-ffe5-42ef-98fa-fba2a85ae1d2",
   "metadata": {},
   "outputs": [],
   "source": [
    "class Person:\n",
    "    def __init__(self, name, age):\n",
    "        self.name = name\n",
    "        self.age = age\n",
    "    \n",
    "    @classmethod\n",
    "    def tuple_object(cls, args):\n",
    "        # 튜플로 인자를 받아서 객체 생성하는 메서드 만들기\n",
    "        return cls(args[0], args[1]) # 여기서 cls == Person\n",
    "\n",
    "name = 'hong'\n",
    "age = 24\n",
    "\n",
    "p = Person(name, age)\n",
    "\n",
    "info = name, age\n",
    "p = Person.tuple_object(info) # 객체 생성하지 않고 메서드에 접근할 수 있음"
   ]
  },
  {
   "cell_type": "code",
   "execution_count": 44,
   "id": "fb30f6c3-5d12-473d-ab7b-6ee7f9dcb781",
   "metadata": {},
   "outputs": [
    {
     "data": {
      "text/plain": [
       "'hong'"
      ]
     },
     "execution_count": 44,
     "metadata": {},
     "output_type": "execute_result"
    }
   ],
   "source": [
    "p.name"
   ]
  },
  {
   "cell_type": "code",
   "execution_count": 45,
   "id": "26341d12-0c00-4a90-8593-b93a06a60943",
   "metadata": {},
   "outputs": [
    {
     "data": {
      "text/plain": [
       "24"
      ]
     },
     "execution_count": 45,
     "metadata": {},
     "output_type": "execute_result"
    }
   ],
   "source": [
    "p.age"
   ]
  },
  {
   "cell_type": "markdown",
   "id": "658201ae-d3cf-4211-a302-02657fc67090",
   "metadata": {},
   "source": [
    "#### 정적 메서드\n",
    "- class 안에 있을 필요는 없지만, 내용 상 class에 묶이기에 사용\n",
    "    - 비슷한 유틸리티라서 클래스 내에 묶어둘 때 사용\n",
    "- 클래스나 인스턴스에 접근하지 않는 메서드\n",
    "- 객체 생성하지 않고 메서드 접근 가능\n",
    "- 데코레이터: `@staticmethod`"
   ]
  },
  {
   "cell_type": "code",
   "execution_count": 47,
   "id": "29392200-3cae-46eb-b180-f8c5079c03b9",
   "metadata": {},
   "outputs": [
    {
     "data": {
      "text/plain": [
       "'hi'"
      ]
     },
     "execution_count": 47,
     "metadata": {},
     "output_type": "execute_result"
    }
   ],
   "source": [
    "class Coyote:\n",
    "    \n",
    "    @staticmethod\n",
    "    def says(): # 인자, self 없음\n",
    "        return 'hi'\n",
    "\n",
    "Coyote.says()"
   ]
  },
  {
   "cell_type": "code",
   "execution_count": 52,
   "id": "030b5459-d2fd-44b7-9a95-25e1025a64b2",
   "metadata": {},
   "outputs": [
    {
     "data": {
      "text/plain": [
       "'Aawoo, Hi'"
      ]
     },
     "execution_count": 52,
     "metadata": {},
     "output_type": "execute_result"
    }
   ],
   "source": [
    "# 만약 정적 메서드에 변수가 필요하면\n",
    "class Coyote:\n",
    "    \n",
    "    @staticmethod\n",
    "    def says(cry):\n",
    "        return f'{cry}, Hi'\n",
    "\n",
    "Coyote.says('Aawoo')"
   ]
  },
  {
   "cell_type": "markdown",
   "id": "25541cb8-3de0-4c18-9bdb-ed171f02ec18",
   "metadata": {},
   "source": [
    "#### 추상 메소드\n",
    "- 클래스 설정 시 변수와 메소드가 너무 많을 때 가독성을 위해 사용\n",
    "- 구체화되지 않음\n",
    "    - 이후 자식 클래스에서 메소드 재정의 필수\n",
    "- 설계도 같은 개념\n",
    "- import: `from abc import *`\n",
    "- 데코레이터: @abstractmethod"
   ]
  },
  {
   "cell_type": "code",
   "execution_count": 54,
   "id": "67b66ddc-b000-4fdf-be66-83c48777470a",
   "metadata": {},
   "outputs": [],
   "source": [
    "from abc import * # 불러오기\n",
    "\n",
    "class Vehicle(metaclass=ABCMeta): # 추상클래스\n",
    "    # 변수에 뭘 넣을지 정의하기\n",
    "    speed = '속도'\n",
    "    \n",
    "    # 자식 클래스가 재정의해야 하는 메소드 정의, 구체화하지 않는다.\n",
    "    @abstractmethod\n",
    "    def drive(self):\n",
    "        print('교통수단에 관하여')\n",
    "    \n",
    "    def stop(self):\n",
    "        pass\n",
    "    \n",
    "    def park(self):\n",
    "        pass\n",
    "\n",
    "# -----------------------------\n",
    "\n",
    "class Car(Vehicle):\n",
    "    def drive(self):\n",
    "        return super().speed"
   ]
  },
  {
   "cell_type": "markdown",
   "id": "e1d2fe5c-9629-4f57-b373-818eb8cbd414",
   "metadata": {},
   "source": [
    "### 매직메소드\n",
    "- 고유한 기능을 가지고 있음\n",
    "- 앞뒤로 `__`가 있는 메소드\n",
    "- `__init__`\n",
    "- 추가 유용한 것\n",
    "    - `__str__`\n",
    "    - `__repr__`"
   ]
  },
  {
   "cell_type": "markdown",
   "id": "9bb9d546-b144-4106-9b92-c8ca599de36b",
   "metadata": {},
   "source": [
    "#### `__str__`\n",
    "- 인스턴스를 스트링으로 출력하는 메소드\n",
    "    - 이름, 메모리주소\n",
    "- print(인스턴스) 했을 때 출력되는 값을 return으로 정의\n",
    "- class를 그냥 출력 시 정보가 용이하지 않아서 사용"
   ]
  },
  {
   "cell_type": "code",
   "execution_count": 68,
   "id": "9218df41-e332-49c1-a15a-3686f77bd809",
   "metadata": {},
   "outputs": [],
   "source": [
    "class Person:\n",
    "    def __init__(self, name):\n",
    "        self.name = name\n",
    "    \n",
    "    def __str__(self):\n",
    "        # 인스턴스를 스트링으로 출력: 이름, 메모리주소\n",
    "        # print(인스턴스) 했을 때 출력되는 값\n",
    "        return self.name"
   ]
  },
  {
   "cell_type": "code",
   "execution_count": 69,
   "id": "3265bf20-bd1e-4671-aa23-8f64318938f8",
   "metadata": {},
   "outputs": [],
   "source": [
    "p = Person('Lee')"
   ]
  },
  {
   "cell_type": "code",
   "execution_count": 70,
   "id": "419edd6f-9d56-4be1-98c3-31b2ac61f6c3",
   "metadata": {},
   "outputs": [
    {
     "data": {
      "text/plain": [
       "<__main__.Person at 0x1c90ce85e20>"
      ]
     },
     "execution_count": 70,
     "metadata": {},
     "output_type": "execute_result"
    }
   ],
   "source": [
    "p"
   ]
  },
  {
   "cell_type": "code",
   "execution_count": 71,
   "id": "3a80d0e8-7c0d-4065-9982-e83a03fafe8c",
   "metadata": {},
   "outputs": [
    {
     "name": "stdout",
     "output_type": "stream",
     "text": [
      "Lee\n"
     ]
    }
   ],
   "source": [
    "print(p)"
   ]
  },
  {
   "cell_type": "markdown",
   "id": "c9944f53-6060-4d51-9fec-769c656be3c0",
   "metadata": {},
   "source": [
    "#### `__repr__`\n",
    "- 사용자가 이해할 수 있게 객체를 출력"
   ]
  },
  {
   "cell_type": "code",
   "execution_count": 77,
   "id": "52ca5c00-f85f-43cd-9757-93f9747ffa22",
   "metadata": {},
   "outputs": [],
   "source": [
    "class Person:\n",
    "    def __init__(self, name):\n",
    "        self.name = name\n",
    "    \n",
    "    def __repr__(self):\n",
    "        return f'Person({self.name})'"
   ]
  },
  {
   "cell_type": "code",
   "execution_count": 78,
   "id": "a2000414-1a81-4613-bb97-3d3e7325d4d7",
   "metadata": {},
   "outputs": [],
   "source": [
    "p = Person('Lee')"
   ]
  },
  {
   "cell_type": "code",
   "execution_count": 79,
   "id": "8b0d2a1d-9e71-4fad-bd37-150e04ff8b23",
   "metadata": {},
   "outputs": [
    {
     "name": "stdout",
     "output_type": "stream",
     "text": [
      "Person(Lee)\n"
     ]
    }
   ],
   "source": [
    "print(p)"
   ]
  },
  {
   "cell_type": "code",
   "execution_count": 80,
   "id": "f2814d9d-7725-4cfb-a892-9c91ddef0610",
   "metadata": {},
   "outputs": [
    {
     "data": {
      "text/plain": [
       "Person(Lee)"
      ]
     },
     "execution_count": 80,
     "metadata": {},
     "output_type": "execute_result"
    }
   ],
   "source": [
    "p"
   ]
  },
  {
   "cell_type": "code",
   "execution_count": 81,
   "id": "3d282e17-8373-4b52-8c11-cca2a366c6b7",
   "metadata": {},
   "outputs": [
    {
     "data": {
      "text/plain": [
       "'Person(Lee)'"
      ]
     },
     "execution_count": 81,
     "metadata": {},
     "output_type": "execute_result"
    }
   ],
   "source": [
    "repr(p)"
   ]
  },
  {
   "cell_type": "markdown",
   "id": "393d848d-63e6-4aad-a596-e078af744b04",
   "metadata": {},
   "source": [
    "### namedtuple, dataclass\n",
    "- 변수만 있는 클래스 설정할 때 더 효율적으로 사용하는 수단\n",
    "- 딕셔너리 키와 같은 기능\n",
    "- 불변 객체"
   ]
  },
  {
   "cell_type": "markdown",
   "id": "2d7560b0-4e23-4519-9e0a-497769ae504a",
   "metadata": {},
   "source": [
    "#### namedtuple\n",
    "- import: `from collections import namedtuple`"
   ]
  },
  {
   "cell_type": "code",
   "execution_count": 82,
   "id": "b94b3ee1-e4ed-43a7-bf68-bd7c76c1daca",
   "metadata": {},
   "outputs": [],
   "source": [
    "from collections import namedtuple\n",
    "\n",
    "Person = namedtuple('Person', 'name age')\n",
    "a = Person('Kim', 33)"
   ]
  },
  {
   "cell_type": "code",
   "execution_count": 85,
   "id": "e9baa3bb-fb64-45e0-a4cc-8e3dc57439f5",
   "metadata": {},
   "outputs": [
    {
     "data": {
      "text/plain": [
       "('Kim', 33)"
      ]
     },
     "execution_count": 85,
     "metadata": {},
     "output_type": "execute_result"
    }
   ],
   "source": [
    "a.name, a.age"
   ]
  },
  {
   "cell_type": "code",
   "execution_count": 86,
   "id": "c674ab72-e906-48e6-a423-099af7eb4029",
   "metadata": {},
   "outputs": [
    {
     "data": {
      "text/plain": [
       "Person(name='Lee', age=33)"
      ]
     },
     "execution_count": 86,
     "metadata": {},
     "output_type": "execute_result"
    }
   ],
   "source": [
    "b = a._replace(name = 'Lee')\n",
    "b"
   ]
  },
  {
   "cell_type": "markdown",
   "id": "730e69a1-cdae-4364-a01e-237af960a7af",
   "metadata": {},
   "source": [
    "#### dataclass\n",
    "- import: `from dataclasses import dataclass`\n",
    "- 데코레이터: `@dataclass`"
   ]
  },
  {
   "cell_type": "code",
   "execution_count": 87,
   "id": "accf3b95-c087-4bda-a946-5469dd06beed",
   "metadata": {},
   "outputs": [],
   "source": [
    "from dataclasses import dataclass\n",
    "\n",
    "@dataclass\n",
    "class Person:\n",
    "    name: str\n",
    "    age: int"
   ]
  },
  {
   "cell_type": "code",
   "execution_count": 88,
   "id": "c64fa86b-b12d-4b5f-a302-cea5ac87b45f",
   "metadata": {},
   "outputs": [],
   "source": [
    "a = Person('Kim', 33)"
   ]
  },
  {
   "cell_type": "code",
   "execution_count": 90,
   "id": "9bc38dd7-3985-471e-be70-4a58a796e12d",
   "metadata": {},
   "outputs": [
    {
     "data": {
      "text/plain": [
       "('Kim', 33)"
      ]
     },
     "execution_count": 90,
     "metadata": {},
     "output_type": "execute_result"
    }
   ],
   "source": [
    "a.name, a.age"
   ]
  }
 ],
 "metadata": {
  "kernelspec": {
   "display_name": "Python 3 (ipykernel)",
   "language": "python",
   "name": "python3"
  },
  "language_info": {
   "codemirror_mode": {
    "name": "ipython",
    "version": 3
   },
   "file_extension": ".py",
   "mimetype": "text/x-python",
   "name": "python",
   "nbconvert_exporter": "python",
   "pygments_lexer": "ipython3",
   "version": "3.9.7"
  }
 },
 "nbformat": 4,
 "nbformat_minor": 5
}
