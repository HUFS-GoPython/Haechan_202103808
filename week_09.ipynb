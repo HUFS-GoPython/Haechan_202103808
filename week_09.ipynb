{
 "cells": [
  {
   "cell_type": "markdown",
   "id": "4e16fcef-df76-499c-bcad-3456dc7c71e7",
   "metadata": {},
   "source": [
    "## Dictionary\n",
    "- 사전과 같은 역할\n",
    "    - e.g. 단어와 뜻\n",
    "- 키로 값을 찾음\n",
    "    - 순서, 오프셋 없음\n",
    "- 키 값은 고유\n",
    "    - 중복되면 안됨\n",
    "- 가변 객체\n",
    "    - 수정, 추가, 삭제 가능함\n",
    "- 타입: dict\n",
    "    - 변환: dict()\n",
    "- 생성: `{k1: v1, k2: v2, ...}`\n",
    "- Value에는 리스트, 튜플, 딕셔너리도 들어갈 수 있음"
   ]
  },
  {
   "cell_type": "markdown",
   "id": "33a25ba4-dbba-4fa7-b361-3166588162b2",
   "metadata": {},
   "source": [
    "### Dictionary 생성\n",
    "- `{k1: v1, k2: v2, ...}`\n",
    "- `dict(k1=v1, k2=v2, ...)`"
   ]
  },
  {
   "cell_type": "code",
   "execution_count": 3,
   "id": "06e5d081-39f4-4478-bd90-12a0b4d39b05",
   "metadata": {},
   "outputs": [
    {
     "data": {
      "text/plain": [
       "{'first': 'wile', 'middle': 'E', 'last': 'coyote'}"
      ]
     },
     "execution_count": 3,
     "metadata": {},
     "output_type": "execute_result"
    }
   ],
   "source": [
    "customer1 = {'first': 'wile', 'middle': 'E', 'last': 'coyote'}\n",
    "customer1"
   ]
  },
  {
   "cell_type": "code",
   "execution_count": 4,
   "id": "0ee60a2a-7219-447c-81ce-d3154f8a2e82",
   "metadata": {},
   "outputs": [
    {
     "data": {
      "text/plain": [
       "{'first': 'wile', 'middle': 'E', 'last': 'coyote'}"
      ]
     },
     "execution_count": 4,
     "metadata": {},
     "output_type": "execute_result"
    }
   ],
   "source": [
    "customer2 = dict(first='wile', middle='E', last='coyote')\n",
    "customer2"
   ]
  },
  {
   "cell_type": "markdown",
   "id": "5ad30c4a-4407-40ba-a36f-238a81afe45f",
   "metadata": {},
   "source": [
    "### 형변환\n",
    "- `dict()`\n",
    "- 리스트, 튜플, 문자열 등\n",
    "- 짝이 있어야 변환이 됨\n",
    "    - 리스트, 튜플은 2차원으로\n",
    "    - 문자열은 2글자씩만"
   ]
  },
  {
   "cell_type": "code",
   "execution_count": 7,
   "id": "e696ae2c-22e8-423c-b5ee-245ab67da96d",
   "metadata": {},
   "outputs": [
    {
     "data": {
      "text/plain": [
       "{20221: [], 3: 4, 5: 6}"
      ]
     },
     "execution_count": 7,
     "metadata": {},
     "output_type": "execute_result"
    }
   ],
   "source": [
    "ex1 = [[20221, []], [3, 4], [5, 6]]\n",
    "dict(ex1)"
   ]
  },
  {
   "cell_type": "code",
   "execution_count": 8,
   "id": "8d30890d-19aa-4559-93ae-0b9cb1d4dece",
   "metadata": {},
   "outputs": [
    {
     "data": {
      "text/plain": [
       "{'a': 'b', 'c': 'd', 'e': 'f'}"
      ]
     },
     "execution_count": 8,
     "metadata": {},
     "output_type": "execute_result"
    }
   ],
   "source": [
    "ex2 = ['ab', 'cd', 'ef']\n",
    "dict(ex2)"
   ]
  },
  {
   "cell_type": "markdown",
   "id": "af552373-8445-44b4-af14-c377130d7a64",
   "metadata": {
    "tags": []
   },
   "source": [
    "### 빈 Dictionary 선언\n",
    "- `dict()`\n",
    "- `{}`"
   ]
  },
  {
   "cell_type": "code",
   "execution_count": 2,
   "id": "f5c118c7-fcd6-4327-9281-270612c3487d",
   "metadata": {},
   "outputs": [
    {
     "data": {
      "text/plain": [
       "({}, {})"
      ]
     },
     "execution_count": 2,
     "metadata": {},
     "output_type": "execute_result"
    }
   ],
   "source": [
    "empty1 = dict()\n",
    "empty2 = {}\n",
    "empty1, empty2"
   ]
  },
  {
   "cell_type": "markdown",
   "id": "81a26919-b7c8-4f6c-bfce-6db6e8e04bd7",
   "metadata": {},
   "source": [
    "### 항목 조회&변경\n",
    "- `<dictionary>[<key>]`\n",
    "    - key 값이 있으면 조회\n",
    "    - key 값이 없으면 추가\n",
    "- `<dictionary>[<key>] = <value>`\n",
    "    - key 값이 있으면 조희\n",
    "    - key 값이 없으면 교체\n",
    "- index 사용 불가\n",
    "    - 위치가 아닌 key 값으로"
   ]
  },
  {
   "cell_type": "code",
   "execution_count": 9,
   "id": "993de0d8-0b23-4d0d-b601-844e044efb6d",
   "metadata": {},
   "outputs": [],
   "source": [
    "pythons = {\n",
    "    'Chapman': 'Graham',\n",
    "    'Cleese': 'John',\n",
    "    'Idle': 'Eric',\n",
    "    'Jones': 'Terry',\n",
    "    'Palin': 'Michael'\n",
    "}"
   ]
  },
  {
   "cell_type": "code",
   "execution_count": 10,
   "id": "7e7cf88d-6e4a-4984-8621-2ecebbf7bef6",
   "metadata": {
    "tags": []
   },
   "outputs": [
    {
     "ename": "KeyError",
     "evalue": "0",
     "output_type": "error",
     "traceback": [
      "\u001b[1;31m---------------------------------------------------------------------------\u001b[0m",
      "\u001b[1;31mKeyError\u001b[0m                                  Traceback (most recent call last)",
      "\u001b[1;32mC:\\Users\\Public\\Documents\\ESTsoft\\CreatorTemp/ipykernel_3420/1325125230.py\u001b[0m in \u001b[0;36m<module>\u001b[1;34m\u001b[0m\n\u001b[1;32m----> 1\u001b[1;33m \u001b[0mpythons\u001b[0m\u001b[1;33m[\u001b[0m\u001b[1;36m0\u001b[0m\u001b[1;33m]\u001b[0m\u001b[1;33m\u001b[0m\u001b[1;33m\u001b[0m\u001b[0m\n\u001b[0m",
      "\u001b[1;31mKeyError\u001b[0m: 0"
     ]
    }
   ],
   "source": [
    "pythons[0]"
   ]
  },
  {
   "cell_type": "code",
   "execution_count": 11,
   "id": "bff996c1-3449-47a0-8ec0-663a3adf8f8c",
   "metadata": {},
   "outputs": [
    {
     "data": {
      "text/plain": [
       "'Eric'"
      ]
     },
     "execution_count": 11,
     "metadata": {},
     "output_type": "execute_result"
    }
   ],
   "source": [
    "# 조회\n",
    "pythons['Idle']"
   ]
  },
  {
   "cell_type": "code",
   "execution_count": 12,
   "id": "70568c72-305b-4ec4-b001-8c88dd2e939c",
   "metadata": {},
   "outputs": [
    {
     "data": {
      "text/plain": [
       "{'Chapman': 'Graham',\n",
       " 'Cleese': 'John',\n",
       " 'Idle': 'Erica',\n",
       " 'Jones': 'Terry',\n",
       " 'Palin': 'Michael'}"
      ]
     },
     "execution_count": 12,
     "metadata": {},
     "output_type": "execute_result"
    }
   ],
   "source": [
    "# 교체\n",
    "pythons['Idle'] = 'Erica'\n",
    "pythons"
   ]
  },
  {
   "cell_type": "code",
   "execution_count": 13,
   "id": "96ec227a-ee9a-4a6e-9183-758b74198dd6",
   "metadata": {},
   "outputs": [
    {
     "data": {
      "text/plain": [
       "{'Chapman': 'Graham',\n",
       " 'Cleese': 'John',\n",
       " 'Idle': 'Erica',\n",
       " 'Jones': 'Terry',\n",
       " 'Palin': 'Michael',\n",
       " 'Kim': 'Laura'}"
      ]
     },
     "execution_count": 13,
     "metadata": {},
     "output_type": "execute_result"
    }
   ],
   "source": [
    "# 추가\n",
    "pythons['Kim'] = 'Laura'\n",
    "pythons"
   ]
  },
  {
   "cell_type": "code",
   "execution_count": 14,
   "id": "4ea4be10-9670-4805-b937-174d01a8800f",
   "metadata": {},
   "outputs": [
    {
     "data": {
      "text/plain": [
       "False"
      ]
     },
     "execution_count": 14,
     "metadata": {},
     "output_type": "execute_result"
    }
   ],
   "source": [
    "# 값의 유무 확인\n",
    "'Lee' in pythons"
   ]
  },
  {
   "cell_type": "markdown",
   "id": "fabca082-e019-48e6-887b-e9ead07563a8",
   "metadata": {},
   "source": [
    "### get 함수\n",
    "- `<dictionary>.get(<key>, <return>)`\n",
    "    - 값의 유무 확인\n",
    "        - 있으면 value 반환\n",
    "        - 없으면 return 반환\n",
    "            - return 미지정 시 반환값 없음"
   ]
  },
  {
   "cell_type": "code",
   "execution_count": 15,
   "id": "0f5beea9-8d61-4396-929e-335eb6d15a4f",
   "metadata": {},
   "outputs": [],
   "source": [
    "pythons.get('Lee')"
   ]
  },
  {
   "cell_type": "code",
   "execution_count": 16,
   "id": "ba02f965-5ebc-439b-a73d-b61c2054f19d",
   "metadata": {},
   "outputs": [
    {
     "data": {
      "text/plain": [
       "'Laura'"
      ]
     },
     "execution_count": 16,
     "metadata": {},
     "output_type": "execute_result"
    }
   ],
   "source": [
    "pythons.get('Kim')"
   ]
  },
  {
   "cell_type": "code",
   "execution_count": 17,
   "id": "a5b6ff1f-f821-43c0-b8c2-78f4548d4392",
   "metadata": {},
   "outputs": [
    {
     "data": {
      "text/plain": [
       "0"
      ]
     },
     "execution_count": 17,
     "metadata": {},
     "output_type": "execute_result"
    }
   ],
   "source": [
    "pythons.get('Choi', 0)"
   ]
  },
  {
   "cell_type": "markdown",
   "id": "b37a81fa-99b9-411d-b7c6-a1279220fc39",
   "metadata": {},
   "source": [
    "### keys, values, items 함수\n",
    "- keys()\n",
    "    - key 반환\n",
    "- values()\n",
    "    - value 반환\n",
    "- items()\n",
    "    - key, value 반환\n",
    "    - 루프 타기 용이\n",
    "        - key를 반환: `[x[0] for x in pythons.items()]`\n",
    "        - value를 반환: `[x[1] for x in pythons.items()]`"
   ]
  },
  {
   "cell_type": "code",
   "execution_count": 22,
   "id": "1f89d83d-d315-4088-9e55-507195c149ea",
   "metadata": {},
   "outputs": [],
   "source": [
    "pythons = {\n",
    "    'Chapman': 'Graham',\n",
    "    'Cleese': 'John',\n",
    "    'Idle': 'Eric',\n",
    "    'Jones': 'Terry',\n",
    "    'Palin': 'Michael'\n",
    "}"
   ]
  },
  {
   "cell_type": "code",
   "execution_count": 23,
   "id": "3688c9d5-1576-49bb-8789-61cd11ad056c",
   "metadata": {},
   "outputs": [
    {
     "data": {
      "text/plain": [
       "dict_keys(['Chapman', 'Cleese', 'Idle', 'Jones', 'Palin'])"
      ]
     },
     "execution_count": 23,
     "metadata": {},
     "output_type": "execute_result"
    }
   ],
   "source": [
    "pythons.keys()"
   ]
  },
  {
   "cell_type": "code",
   "execution_count": 24,
   "id": "bf3161d2-bf2a-455c-9abb-b761da32db37",
   "metadata": {},
   "outputs": [
    {
     "data": {
      "text/plain": [
       "dict_values(['Graham', 'John', 'Eric', 'Terry', 'Michael'])"
      ]
     },
     "execution_count": 24,
     "metadata": {},
     "output_type": "execute_result"
    }
   ],
   "source": [
    "pythons.values()"
   ]
  },
  {
   "cell_type": "code",
   "execution_count": 25,
   "id": "5300050a-b6c7-4f4c-817d-ada1146e04a9",
   "metadata": {},
   "outputs": [
    {
     "data": {
      "text/plain": [
       "dict_items([('Chapman', 'Graham'), ('Cleese', 'John'), ('Idle', 'Eric'), ('Jones', 'Terry'), ('Palin', 'Michael')])"
      ]
     },
     "execution_count": 25,
     "metadata": {},
     "output_type": "execute_result"
    }
   ],
   "source": [
    "pythons.items()"
   ]
  },
  {
   "cell_type": "code",
   "execution_count": 26,
   "id": "bb53952f-5882-454d-9df2-4e69a6c59a71",
   "metadata": {},
   "outputs": [
    {
     "data": {
      "text/plain": [
       "['Chapman', 'Cleese', 'Idle', 'Jones', 'Palin']"
      ]
     },
     "execution_count": 26,
     "metadata": {},
     "output_type": "execute_result"
    }
   ],
   "source": [
    "# 리스트 형태로 사용하고 싶을 때\n",
    "list(pythons.keys())"
   ]
  },
  {
   "cell_type": "code",
   "execution_count": 27,
   "id": "725d67bb-f7cb-4fa8-9bc6-a71dbc302814",
   "metadata": {},
   "outputs": [
    {
     "name": "stdout",
     "output_type": "stream",
     "text": [
      "['Chapman', 'Cleese', 'Idle', 'Jones', 'Palin']\n",
      "['Graham', 'John', 'Eric', 'Terry', 'Michael']\n"
     ]
    }
   ],
   "source": [
    "# key 반환\n",
    "print([x[0] for x in pythons.items()])\n",
    "\n",
    "# value 반환\n",
    "print([x[1] for x in pythons.items()])"
   ]
  },
  {
   "cell_type": "markdown",
   "id": "37059bb0-38a0-4128-9d13-8df9b0690b48",
   "metadata": {
    "tags": []
   },
   "source": [
    "#### items & for loop"
   ]
  },
  {
   "cell_type": "code",
   "execution_count": 75,
   "id": "0f41a4b7-979b-40ea-b80a-931bf204783f",
   "metadata": {},
   "outputs": [
    {
     "name": "stdout",
     "output_type": "stream",
     "text": [
      "room has the contents ballroom\n",
      "weapon has the contents lead pipe\n",
      "person has the contents Col. Mustard\n"
     ]
    }
   ],
   "source": [
    "accusation = {'room': 'ballroom', 'weapon': 'lead pipe', 'person': 'Col. Mustard'}\n",
    "\n",
    "for k, v in accusation.items():\n",
    "    print(f'{k} has the contents {v}')"
   ]
  },
  {
   "cell_type": "markdown",
   "id": "4623618c-9ed9-48f5-9022-e5e534a17258",
   "metadata": {},
   "source": [
    "### 병합, 삭제\n",
    "- 딕셔너리 병합\n",
    "    - `<dict>.update(<dict>)`\n",
    "    - `{**<dict>, **<dict>}`\n",
    "        - 파이썬 3에서만 가능\n",
    "- 딕셔너리 삭제\n",
    "    - `del <dict>[<key>]`\n",
    "    - `<dict>.pop(<key>, <return>)`\n",
    "        - key가 있으면 삭제하고 value 반환\n",
    "        - key가 없으면 return 반환\n",
    "    - `<dict>.clear()`\n",
    "        - 모두 삭제\n",
    "    - `<dict> = {}`\n",
    "        - 모두 삭제"
   ]
  },
  {
   "cell_type": "code",
   "execution_count": 44,
   "id": "8de286a6-05a9-440b-a303-44849170b87f",
   "metadata": {},
   "outputs": [],
   "source": [
    "pythons = {\n",
    "    'Chapman': 'Graham',\n",
    "    'Cleese': 'John',\n",
    "    'Idle': 'Eric',\n",
    "    'Jones': 'Terry',\n",
    "    'Palin': 'Michael'\n",
    "}"
   ]
  },
  {
   "cell_type": "code",
   "execution_count": 45,
   "id": "10d3cf30-8aa2-46fb-b922-ce192b9bd671",
   "metadata": {},
   "outputs": [],
   "source": [
    "others = {\n",
    "    'Marx': 'Croucho',\n",
    "    'Howard': 'Moe'\n",
    "}"
   ]
  },
  {
   "cell_type": "code",
   "execution_count": 46,
   "id": "15c16623-2846-46ea-82e8-c2e31470b9b4",
   "metadata": {},
   "outputs": [
    {
     "data": {
      "text/plain": [
       "{'Chapman': 'Graham',\n",
       " 'Cleese': 'John',\n",
       " 'Idle': 'Eric',\n",
       " 'Jones': 'Terry',\n",
       " 'Palin': 'Michael',\n",
       " 'Marx': 'Croucho',\n",
       " 'Howard': 'Moe'}"
      ]
     },
     "execution_count": 46,
     "metadata": {},
     "output_type": "execute_result"
    }
   ],
   "source": [
    "pythons.update(others)\n",
    "pythons"
   ]
  },
  {
   "cell_type": "code",
   "execution_count": 47,
   "id": "5b96d3e4-a94e-42e6-a7cf-35cbea0aa23d",
   "metadata": {},
   "outputs": [
    {
     "data": {
      "text/plain": [
       "{'Marx': 'Croucho',\n",
       " 'Howard': 'Moe',\n",
       " 'Chapman': 'Graham',\n",
       " 'Cleese': 'John',\n",
       " 'Idle': 'Eric',\n",
       " 'Jones': 'Terry',\n",
       " 'Palin': 'Michael'}"
      ]
     },
     "execution_count": 47,
     "metadata": {},
     "output_type": "execute_result"
    }
   ],
   "source": [
    "{**others, **pythons}"
   ]
  },
  {
   "cell_type": "code",
   "execution_count": 48,
   "id": "743b65e6-8036-4e4a-a759-3680e3cdfdf1",
   "metadata": {},
   "outputs": [
    {
     "data": {
      "text/plain": [
       "{'Chapman': 'Graham',\n",
       " 'Cleese': 'John',\n",
       " 'Jones': 'Terry',\n",
       " 'Palin': 'Michael',\n",
       " 'Marx': 'Croucho',\n",
       " 'Howard': 'Moe'}"
      ]
     },
     "execution_count": 48,
     "metadata": {},
     "output_type": "execute_result"
    }
   ],
   "source": [
    "del pythons['Idle']\n",
    "pythons"
   ]
  },
  {
   "cell_type": "code",
   "execution_count": 49,
   "id": "5db75a97-709f-47db-8036-f315a7cf1387",
   "metadata": {},
   "outputs": [
    {
     "data": {
      "text/plain": [
       "'Croucho'"
      ]
     },
     "execution_count": 49,
     "metadata": {},
     "output_type": "execute_result"
    }
   ],
   "source": [
    "pythons.pop('Marx', 0)"
   ]
  },
  {
   "cell_type": "code",
   "execution_count": 50,
   "id": "6ab65c79-8227-406d-b899-2a50401e107b",
   "metadata": {},
   "outputs": [],
   "source": [
    "pythons.clear()"
   ]
  },
  {
   "cell_type": "code",
   "execution_count": 51,
   "id": "0e5bbc6c-ecca-4ffb-9820-9aa82aa542c7",
   "metadata": {},
   "outputs": [],
   "source": [
    "pythons = {}"
   ]
  },
  {
   "cell_type": "code",
   "execution_count": 52,
   "id": "836df814-d9aa-4370-b081-f15396e383ea",
   "metadata": {},
   "outputs": [
    {
     "data": {
      "text/plain": [
       "{}"
      ]
     },
     "execution_count": 52,
     "metadata": {},
     "output_type": "execute_result"
    }
   ],
   "source": [
    "pythons"
   ]
  },
  {
   "cell_type": "markdown",
   "id": "3b4281e0-da73-4fed-83b1-6a440dfbf077",
   "metadata": {},
   "source": [
    "### 복사\n",
    "- 할당하기\n",
    "    - `<var> = <dict>`\n",
    "    - 하나가 바뀌면 동시에 바뀜\n",
    "- 얕은 복사\n",
    "    - `<var> = <dict>.copy()`\n",
    "    - 1차원에서는 별개\n",
    "    - 가변객체 안의 가변객체는 동시에 바뀜\n",
    "- 깊은 복사\n",
    "    - `import copy`\n",
    "        - `<var> = copy.deepcopy(<dict>)`\n",
    "    - 가변객체 안의 가변객체도 별개"
   ]
  },
  {
   "cell_type": "markdown",
   "id": "896745d5-ee01-466c-b14e-d589e3c31352",
   "metadata": {},
   "source": [
    "#### 할당하기"
   ]
  },
  {
   "cell_type": "code",
   "execution_count": 59,
   "id": "e9c2c077-4878-4029-addc-8aa3af280528",
   "metadata": {},
   "outputs": [
    {
     "data": {
      "text/plain": [
       "({1: 10, 2: 3, 3: 4}, {1: 10, 2: 3, 3: 4})"
      ]
     },
     "execution_count": 59,
     "metadata": {},
     "output_type": "execute_result"
    }
   ],
   "source": [
    "a = {1:2, 2:3, 3:4}\n",
    "b = a\n",
    "a[1] = 10\n",
    "a, b"
   ]
  },
  {
   "cell_type": "markdown",
   "id": "da6482c9-3016-4a9a-b46e-dd94306e3dca",
   "metadata": {},
   "source": [
    "#### 얇은 복사"
   ]
  },
  {
   "cell_type": "code",
   "execution_count": 60,
   "id": "95895e21-5d55-4294-babd-f29183c3bf3c",
   "metadata": {},
   "outputs": [
    {
     "data": {
      "text/plain": [
       "({1: 100, 2: 3, 3: 4}, {1: 10, 2: 3, 3: 4})"
      ]
     },
     "execution_count": 60,
     "metadata": {},
     "output_type": "execute_result"
    }
   ],
   "source": [
    "b = a.copy()\n",
    "a[1] = 100\n",
    "a, b"
   ]
  },
  {
   "cell_type": "code",
   "execution_count": 62,
   "id": "6b623b0f-ef96-4705-8827-ca4e68691511",
   "metadata": {},
   "outputs": [
    {
     "data": {
      "text/plain": [
       "({1: [100, 2, 2], 2: [1, 1, 1]}, {1: [100, 2, 2], 2: [1, 1, 1]})"
      ]
     },
     "execution_count": 62,
     "metadata": {},
     "output_type": "execute_result"
    }
   ],
   "source": [
    "a = {1: [2, 2, 2], 2: [1, 1, 1]}\n",
    "b = a.copy()\n",
    "a[1][0] = 100\n",
    "a, b"
   ]
  },
  {
   "cell_type": "markdown",
   "id": "a33ba2e4-18ae-40ff-b671-b6c38d669fa5",
   "metadata": {},
   "source": [
    "#### 깊은 복사"
   ]
  },
  {
   "cell_type": "code",
   "execution_count": 63,
   "id": "73158ebc-8829-4ce2-8aad-b3f390059a80",
   "metadata": {},
   "outputs": [
    {
     "data": {
      "text/plain": [
       "({1: [9, 2, 2], 2: [1, 1, 1]}, {1: [100, 2, 2], 2: [1, 1, 1]})"
      ]
     },
     "execution_count": 63,
     "metadata": {},
     "output_type": "execute_result"
    }
   ],
   "source": [
    "import copy\n",
    "b = copy.deepcopy(a)\n",
    "a[1][0] = 9\n",
    "a, b"
   ]
  },
  {
   "cell_type": "markdown",
   "id": "25fa837d-5d5a-44b3-982a-db023654df22",
   "metadata": {},
   "source": [
    "### 값 비교\n",
    "- 같다 / 다르다만 가능\n",
    "    - `a == b`\n",
    "    - `a != b`"
   ]
  },
  {
   "cell_type": "code",
   "execution_count": 65,
   "id": "d821138a-2718-4bfb-ad3c-7e4ce2c4abf1",
   "metadata": {},
   "outputs": [
    {
     "name": "stdout",
     "output_type": "stream",
     "text": [
      "False\n",
      "True\n"
     ]
    }
   ],
   "source": [
    "# 값 비교: 같다, 다르다만 가능\n",
    "print(a == b)\n",
    "print(a != b)"
   ]
  },
  {
   "cell_type": "markdown",
   "id": "561e9a65-4343-449b-9658-cc48ec7868b5",
   "metadata": {},
   "source": [
    "### dictionary comprehension"
   ]
  },
  {
   "cell_type": "code",
   "execution_count": 76,
   "id": "0db26810-fb3d-4998-98c8-6b711dc91692",
   "metadata": {},
   "outputs": [
    {
     "data": {
      "text/plain": [
       "{'e': 1, 'p': 2, 'l': 1, 'a': 1}"
      ]
     },
     "execution_count": 76,
     "metadata": {},
     "output_type": "execute_result"
    }
   ],
   "source": [
    "letter = 'apple'\n",
    "# {a:1, p:2, ...}\n",
    "{ch: letter.count(ch) for ch in letter} # p가 2번 돌기 때문에 비효율\n",
    "{ch: letter.count(ch) for ch in set(letter)} # set으로 효율"
   ]
  },
  {
   "cell_type": "markdown",
   "id": "388a2746-75c3-445f-be39-c7c05f5ebb38",
   "metadata": {
    "jp-MarkdownHeadingCollapsed": true,
    "tags": []
   },
   "source": [
    "### dictionary 연습문제 1\n",
    "- 출석부 딕셔너리 만들기\n",
    "- 이름, 학번, 학과\n",
    "    - 제임스 202201 경영학과\n",
    "    - 줄리엣 202202 아랍어과\n",
    "    - 로버트 202203 ELLT과"
   ]
  },
  {
   "cell_type": "code",
   "execution_count": 5,
   "id": "42aa12ea-92f6-4bd2-a217-e13561b89688",
   "metadata": {},
   "outputs": [
    {
     "data": {
      "text/plain": [
       "{202201: ['James', '경영학과'],\n",
       " 202202: ['Juliet', '아랍어과'],\n",
       " 202203: ['Robert', 'ELLT과']}"
      ]
     },
     "execution_count": 5,
     "metadata": {},
     "output_type": "execute_result"
    }
   ],
   "source": [
    "student_dict = {202201: ['James', '경영학과'], 202202: ['Juliet', '아랍어과'], 202203: ['Robert', 'ELLT과']}\n",
    "student_dict"
   ]
  },
  {
   "cell_type": "code",
   "execution_count": 6,
   "id": "68180208-19bb-4734-9f61-e7fa08dbeb4f",
   "metadata": {},
   "outputs": [
    {
     "data": {
      "text/plain": [
       "['Juliet', '아랍어과']"
      ]
     },
     "execution_count": 6,
     "metadata": {},
     "output_type": "execute_result"
    }
   ],
   "source": [
    "student_dict[202202]"
   ]
  },
  {
   "cell_type": "code",
   "execution_count": null,
   "id": "315ba292-d7d1-4e36-b371-e6061dfec290",
   "metadata": {},
   "outputs": [],
   "source": []
  },
  {
   "cell_type": "markdown",
   "id": "d088b323-29b0-43ca-a7ac-faf9eff116be",
   "metadata": {
    "jp-MarkdownHeadingCollapsed": true,
    "tags": []
   },
   "source": [
    "### dictionary 연습문제 2\n",
    "- animal: legs로 이루어진 dictionary 만들기\n",
    "- for loop 사용"
   ]
  },
  {
   "cell_type": "code",
   "execution_count": 28,
   "id": "9b36eb7d-494c-48db-b379-3faa0c841ae2",
   "metadata": {},
   "outputs": [],
   "source": [
    "animal = 'cat snake monkey ant spider'.split()\n",
    "legs = 4, 0, 2, 6, 8"
   ]
  },
  {
   "cell_type": "code",
   "execution_count": 29,
   "id": "4ab9653c-a043-40a0-a003-eea1061f8f6e",
   "metadata": {},
   "outputs": [
    {
     "data": {
      "text/plain": [
       "{'cat': 4, 'snake': 0, 'monkey': 2, 'ant': 6, 'spider': 8}"
      ]
     },
     "execution_count": 29,
     "metadata": {},
     "output_type": "execute_result"
    }
   ],
   "source": [
    "animals_legs = {}\n",
    "\n",
    "for word, i in zip(animal, legs):\n",
    "    animals_legs[word] = i\n",
    "\n",
    "animals_legs"
   ]
  },
  {
   "cell_type": "markdown",
   "id": "fa7655bc-b211-417d-bda4-156e2b60355c",
   "metadata": {
    "jp-MarkdownHeadingCollapsed": true,
    "tags": []
   },
   "source": [
    "### dictionary 연습문제 3\n",
    "- pythons에서 성: 이름 => [(성 앞글자: 이름의 글자 수), (), ...]\n",
    "- 리스트 컴프리핸션 사용"
   ]
  },
  {
   "cell_type": "code",
   "execution_count": 30,
   "id": "66c04fd0-830d-48de-a128-d938003c2ff7",
   "metadata": {},
   "outputs": [],
   "source": [
    "pythons = {\n",
    "    'Chapman': 'Graham',\n",
    "    'Cleese': 'John',\n",
    "    'Idle': 'Eric',\n",
    "    'Jones': 'Terry',\n",
    "    'Palin': 'Michael'\n",
    "}"
   ]
  },
  {
   "cell_type": "code",
   "execution_count": 32,
   "id": "bf573b1e-3d87-4a3b-8e6a-1a8e64ce5b40",
   "metadata": {},
   "outputs": [
    {
     "data": {
      "text/plain": [
       "[('C', 6), ('C', 4), ('I', 4), ('J', 5), ('P', 7)]"
      ]
     },
     "execution_count": 32,
     "metadata": {},
     "output_type": "execute_result"
    }
   ],
   "source": [
    "[(key[0], len(value)) for (key, value) in pythons.items()]"
   ]
  },
  {
   "cell_type": "markdown",
   "id": "bfa3e53a-ea8a-41a6-aeed-2f8d8ad7a4db",
   "metadata": {
    "jp-MarkdownHeadingCollapsed": true,
    "tags": []
   },
   "source": [
    "### dictionary 연습문제 4\n",
    "- 두 개 리스트를 딕셔너리로 만든다: {한국어:영어}\n",
    "- 명왕성: pluto 추가하기\n",
    "- '성'으로 끝나지 않는 단어 삭제하기\n",
    "    - 하드코딩 안됨\n",
    "- sorted\n",
    "    - i) kor\n",
    "    - ii) eng"
   ]
  },
  {
   "cell_type": "code",
   "execution_count": 66,
   "id": "f1b68193-d5d4-4dc1-b2e3-5ada3a88a507",
   "metadata": {},
   "outputs": [],
   "source": [
    "solar_kor = '태양 수성 금성 지구 화성 목성 토성 천왕성 해왕성'.split()\n",
    "solar_eng = 'sun mercury venus earth mars jupiter saturn uranus neptune'.split()"
   ]
  },
  {
   "cell_type": "code",
   "execution_count": 67,
   "id": "1d83a297-1e59-4e3b-a81d-6167ac1973fc",
   "metadata": {},
   "outputs": [
    {
     "data": {
      "text/plain": [
       "{'태양': 'sun',\n",
       " '수성': 'mercury',\n",
       " '금성': 'venus',\n",
       " '지구': 'earth',\n",
       " '화성': 'mars',\n",
       " '목성': 'jupiter',\n",
       " '토성': 'saturn',\n",
       " '천왕성': 'uranus',\n",
       " '해왕성': 'neptune'}"
      ]
     },
     "execution_count": 67,
     "metadata": {},
     "output_type": "execute_result"
    }
   ],
   "source": [
    "solar_system = {}\n",
    "\n",
    "for (i, j) in zip(solar_kor, solar_eng):\n",
    "    solar_system.update({i:j})\n",
    "solar_system"
   ]
  },
  {
   "cell_type": "code",
   "execution_count": 68,
   "id": "d9d96863-13a6-4aa2-8558-160c726f7fa9",
   "metadata": {},
   "outputs": [
    {
     "data": {
      "text/plain": [
       "{'태양': 'sun',\n",
       " '수성': 'mercury',\n",
       " '금성': 'venus',\n",
       " '지구': 'earth',\n",
       " '화성': 'mars',\n",
       " '목성': 'jupiter',\n",
       " '토성': 'saturn',\n",
       " '천왕성': 'uranus',\n",
       " '해왕성': 'neptune',\n",
       " '명왕성': 'pluto'}"
      ]
     },
     "execution_count": 68,
     "metadata": {},
     "output_type": "execute_result"
    }
   ],
   "source": [
    "solar_system['명왕성'] = 'pluto'\n",
    "solar_system"
   ]
  },
  {
   "cell_type": "code",
   "execution_count": 69,
   "id": "971f2693-dc28-41ef-9e9f-9192446c1e97",
   "metadata": {},
   "outputs": [],
   "source": [
    "solar_system = {k: solar_system[k] for k in solar_system if k.endswith('성')}"
   ]
  },
  {
   "cell_type": "code",
   "execution_count": 81,
   "id": "888a084d-baaf-42b7-83d1-82fb4d55becb",
   "metadata": {},
   "outputs": [
    {
     "data": {
      "text/plain": [
       "[('금성', 'venus'),\n",
       " ('명왕성', 'pluto'),\n",
       " ('목성', 'jupiter'),\n",
       " ('수성', 'mercury'),\n",
       " ('천왕성', 'uranus'),\n",
       " ('토성', 'saturn'),\n",
       " ('해왕성', 'neptune'),\n",
       " ('화성', 'mars')]"
      ]
     },
     "execution_count": 81,
     "metadata": {},
     "output_type": "execute_result"
    }
   ],
   "source": [
    "def function(s):\n",
    "    return s[0]\n",
    "\n",
    "sorted(solar_system.items(), key=function) # sorted 함수: `key=`는 기준 설정"
   ]
  },
  {
   "cell_type": "code",
   "execution_count": 82,
   "id": "3a754e82-136a-488a-b27c-db3dbd6a2f55",
   "metadata": {},
   "outputs": [
    {
     "data": {
      "text/plain": [
       "[('목성', 'jupiter'),\n",
       " ('화성', 'mars'),\n",
       " ('수성', 'mercury'),\n",
       " ('해왕성', 'neptune'),\n",
       " ('명왕성', 'pluto'),\n",
       " ('토성', 'saturn'),\n",
       " ('천왕성', 'uranus'),\n",
       " ('금성', 'venus')]"
      ]
     },
     "execution_count": 82,
     "metadata": {},
     "output_type": "execute_result"
    }
   ],
   "source": [
    "# lambda: 이름이 필요없는 짧은 함수일 때\n",
    "# def function(s):\n",
    "#    return s[1]\n",
    "\n",
    "sorted(solar_system.items(), key=lambda x: x[1])"
   ]
  },
  {
   "cell_type": "markdown",
   "id": "9ca4f40a-922c-46f1-9623-a87f4d36bd5b",
   "metadata": {
    "jp-MarkdownHeadingCollapsed": true,
    "tags": []
   },
   "source": [
    "### dictionary 연습문제 5\n",
    "- 주어진 단어의 모음 세기\n",
    "    - a: 1, e: 3, ...\n",
    "- dictionary comprehension 사용\n",
    "    - 1. vowels 기준으로\n",
    "    - 2. word 기준으로"
   ]
  },
  {
   "cell_type": "code",
   "execution_count": 77,
   "id": "9606f4d9-9a19-4259-ad26-6049348337a2",
   "metadata": {},
   "outputs": [],
   "source": [
    "vowels = 'aeiou'\n",
    "word = 'onomatopoeia'"
   ]
  },
  {
   "cell_type": "code",
   "execution_count": 80,
   "id": "6d049f22-a4e3-4086-820f-2ef64e0d3f02",
   "metadata": {},
   "outputs": [
    {
     "name": "stdout",
     "output_type": "stream",
     "text": [
      "{'a': 2, 'e': 1, 'i': 1, 'o': 4, 'u': 0}\n",
      "{'i': 1, 'e': 1, 'a': 2, 'o': 4}\n"
     ]
    }
   ],
   "source": [
    "#1. vowels 순회\n",
    "print({v: word.count(v) for v in vowels})\n",
    "\n",
    "#2. word 순회\n",
    "print({ch: word.count(ch) for ch in set(word) if ch in vowels})"
   ]
  },
  {
   "cell_type": "markdown",
   "id": "eff5af32-1afc-49ae-b1f2-2323d2b15d01",
   "metadata": {},
   "source": [
    "## Set\n",
    "- 딕셔너리의 key만 모아놓음 (데이터 자루)\n",
    "    - 중복이 없음\n",
    "    - 순서 없음\n",
    "    - 인덱싱 없음\n",
    "- 수학의 집합 개념\n",
    "    - 교집합, 합집합, 차집합, ..."
   ]
  },
  {
   "cell_type": "code",
   "execution_count": 83,
   "id": "35bc2a0d-2795-4a45-bdaf-efe6b7bae5ba",
   "metadata": {},
   "outputs": [
    {
     "data": {
      "text/plain": [
       "(set(), {})"
      ]
     },
     "execution_count": 83,
     "metadata": {},
     "output_type": "execute_result"
    }
   ],
   "source": [
    "empty = set()\n",
    "empty1 = {}\n",
    "empty, empty1"
   ]
  },
  {
   "cell_type": "code",
   "execution_count": 84,
   "id": "bb74ac05-8ec5-498f-84bf-c08d82ff2757",
   "metadata": {},
   "outputs": [
    {
     "data": {
      "text/plain": [
       "set"
      ]
     },
     "execution_count": 84,
     "metadata": {},
     "output_type": "execute_result"
    }
   ],
   "source": [
    "a = {1, 2, 3}\n",
    "type(a)"
   ]
  },
  {
   "cell_type": "code",
   "execution_count": 85,
   "id": "77b6ee54-7b0f-4215-871f-eedd7c8dcf91",
   "metadata": {},
   "outputs": [
    {
     "data": {
      "text/plain": [
       "{1, 2, 3}"
      ]
     },
     "execution_count": 85,
     "metadata": {},
     "output_type": "execute_result"
    }
   ],
   "source": [
    "b = set((1, 2, 3, 3, 3))\n",
    "b"
   ]
  },
  {
   "cell_type": "markdown",
   "id": "43e06506-5410-4e39-ac36-b48ebc8bd6f8",
   "metadata": {},
   "source": [
    "### set에서의 추가, 삭제\n",
    "- 추가하기\n",
    "    - `<set>.add(<item>)`\n",
    "- 삭제하기\n",
    "    - `<set>.remove(<item>)`\n",
    "    - `<set>.discard(<item>)`"
   ]
  },
  {
   "cell_type": "code",
   "execution_count": 87,
   "id": "04bb7056-450d-46ec-85cf-5516d37fda02",
   "metadata": {},
   "outputs": [
    {
     "data": {
      "text/plain": [
       "{1, 2, 3, 4}"
      ]
     },
     "execution_count": 87,
     "metadata": {},
     "output_type": "execute_result"
    }
   ],
   "source": [
    "a.add(4)\n",
    "a"
   ]
  },
  {
   "cell_type": "code",
   "execution_count": 88,
   "id": "dfa1153a-b5de-4aea-bdbd-8f086235e05b",
   "metadata": {},
   "outputs": [
    {
     "data": {
      "text/plain": [
       "{1, 2, 3}"
      ]
     },
     "execution_count": 88,
     "metadata": {},
     "output_type": "execute_result"
    }
   ],
   "source": [
    "a.remove(4)\n",
    "a"
   ]
  },
  {
   "cell_type": "code",
   "execution_count": 89,
   "id": "cde89765-e93f-4278-98bc-fff806886e61",
   "metadata": {},
   "outputs": [
    {
     "data": {
      "text/plain": [
       "{1, 2}"
      ]
     },
     "execution_count": 89,
     "metadata": {},
     "output_type": "execute_result"
    }
   ],
   "source": [
    "a.discard(3)\n",
    "a"
   ]
  },
  {
   "cell_type": "markdown",
   "id": "6494231f-7e85-4fb5-9270-9291b938e954",
   "metadata": {},
   "source": [
    "### set의 연산\n",
    "- 교집합: intersection\n",
    "    - `<set>.intersection(<set>)`\n",
    "    - `<set>&<set>`\n",
    "- 합집합: union\n",
    "    - `<set>.union(<set>)`\n",
    "    - `<set>|<set>`\n",
    "- 차집합: difference\n",
    "    - `<set>.difference(<set>)`\n",
    "    - `<set>-<set>`"
   ]
  },
  {
   "cell_type": "code",
   "execution_count": 94,
   "id": "a89df764-0a98-4a93-90d2-e27800e834e3",
   "metadata": {},
   "outputs": [
    {
     "name": "stdout",
     "output_type": "stream",
     "text": [
      "{2, 3}\n",
      "{2, 3}\n",
      "{1, 2, 3, 4}\n",
      "{1, 2, 3, 4}\n",
      "{1}\n",
      "{1}\n"
     ]
    }
   ],
   "source": [
    "a = {1, 2, 3}\n",
    "b = {2, 3, 4}\n",
    "\n",
    "# 교집합: intersection\n",
    "print(a.intersection(b))\n",
    "print(a&b)\n",
    "\n",
    "# 합집합: union\n",
    "print(a.union(b))\n",
    "print(a|b)\n",
    "\n",
    "# 차집합: difference\n",
    "print(a.difference(b))\n",
    "print(a-b)"
   ]
  },
  {
   "cell_type": "markdown",
   "id": "0096383c-dd04-49f9-aff0-2f9f808d5b6c",
   "metadata": {},
   "source": [
    "### frozenset\n",
    "- 불변객체인 set"
   ]
  },
  {
   "cell_type": "code",
   "execution_count": 97,
   "id": "318d7a58-adae-4704-ae34-0801f4125cea",
   "metadata": {},
   "outputs": [
    {
     "data": {
      "text/plain": [
       "frozenset({1, 2, 3})"
      ]
     },
     "execution_count": 97,
     "metadata": {},
     "output_type": "execute_result"
    }
   ],
   "source": [
    "# frozenset\n",
    "fs = frozenset([1, 2, 3])\n",
    "fs"
   ]
  },
  {
   "cell_type": "markdown",
   "id": "391b2ead-3502-4f2e-858a-b37a6c180752",
   "metadata": {},
   "source": [
    "### set 연습문제 1\n",
    "- 1. vodka가 있는 키 골라내기\n",
    "- 2. 보드카는 있는데 cream이나 vermouth가 있으면 프린트하지 않기"
   ]
  },
  {
   "cell_type": "code",
   "execution_count": 90,
   "id": "cda1af5b-e52c-4af4-b0e9-ae8180fe9276",
   "metadata": {},
   "outputs": [],
   "source": [
    "drinks = {\n",
    "    'martini': {'vodka', 'vermouth'},\n",
    "    'black russian': {'vodka', 'kahlua'},\n",
    "    'white russian': {'cream', 'kahlua', 'vodka'},\n",
    "    'manhattan': {'rye', 'vermouth', 'bitters'},\n",
    "    'screwdriver': {'orange juice', 'vodka'},\n",
    "}"
   ]
  },
  {
   "cell_type": "code",
   "execution_count": 91,
   "id": "adeda742-6018-45a6-934d-059959583f64",
   "metadata": {},
   "outputs": [
    {
     "name": "stdout",
     "output_type": "stream",
     "text": [
      "martini\n",
      "black russian\n",
      "white russian\n",
      "screwdriver\n"
     ]
    }
   ],
   "source": [
    "# 1\n",
    "for k, v in drinks.items():\n",
    "    if 'vodka' in v:\n",
    "        print(k)"
   ]
  },
  {
   "cell_type": "code",
   "execution_count": 95,
   "id": "7f665019-2b82-4f12-89aa-dff0c01e49e8",
   "metadata": {},
   "outputs": [
    {
     "name": "stdout",
     "output_type": "stream",
     "text": [
      "black russian\n",
      "screwdriver\n"
     ]
    }
   ],
   "source": [
    "# 2: 논리 연산자 이용\n",
    "for k, v in drinks.items():\n",
    "    if ('vodka' in v) and not ('cream' in v or 'vermouth' in v):\n",
    "        print(k)"
   ]
  },
  {
   "cell_type": "code",
   "execution_count": 96,
   "id": "b9275eb8-70be-41ac-8479-8d3ed34567f8",
   "metadata": {},
   "outputs": [
    {
     "name": "stdout",
     "output_type": "stream",
     "text": [
      "black russian\n",
      "screwdriver\n"
     ]
    }
   ],
   "source": [
    "# 2: 집합 연산자 이용\n",
    "for k, v in drinks.items():\n",
    "    if 'vodka' in v and not v & {'cream', 'vermouth'}:\n",
    "        print(k)"
   ]
  },
  {
   "cell_type": "markdown",
   "id": "36e74c55-0fb3-431d-b792-c62cc162cbd4",
   "metadata": {},
   "source": [
    "## 프로젝트 검사 방법\n",
    "- pylint\n",
    "- pudocstyle"
   ]
  },
  {
   "cell_type": "code",
   "execution_count": 98,
   "id": "115a5281-afdd-4ae3-88d5-8dd143bcd0d1",
   "metadata": {
    "collapsed": true,
    "jupyter": {
     "outputs_hidden": true
    },
    "tags": []
   },
   "outputs": [
    {
     "name": "stdout",
     "output_type": "stream",
     "text": [
      "Requirement already satisfied: pylint in c:\\users\\bingo\\appdata\\roaming\\python\\python39\\site-packages (2.7.4)\n",
      "Requirement already satisfied: astroid<2.7,>=2.5.2 in c:\\users\\bingo\\appdata\\roaming\\python\\python39\\site-packages (from pylint) (2.5.3)\n",
      "Requirement already satisfied: colorama in c:\\users\\bingo\\appdata\\roaming\\python\\python39\\site-packages (from pylint) (0.4.4)\n",
      "Requirement already satisfied: isort<6,>=4.2.5 in c:\\users\\bingo\\appdata\\roaming\\python\\python39\\site-packages (from pylint) (5.8.0)\n",
      "Requirement already satisfied: toml>=0.7.1 in c:\\users\\bingo\\appdata\\roaming\\python\\python39\\site-packages (from pylint) (0.10.2)\n",
      "Requirement already satisfied: mccabe<0.7,>=0.6 in c:\\users\\bingo\\appdata\\roaming\\python\\python39\\site-packages (from pylint) (0.6.1)\n",
      "Requirement already satisfied: lazy-object-proxy>=1.4.0 in c:\\users\\bingo\\appdata\\roaming\\python\\python39\\site-packages (from astroid<2.7,>=2.5.2->pylint) (1.6.0)\n",
      "Requirement already satisfied: wrapt<1.13,>=1.11 in c:\\users\\bingo\\appdata\\roaming\\python\\python39\\site-packages (from astroid<2.7,>=2.5.2->pylint) (1.12.1)\n",
      "************* Module example.py\n",
      "example.py:1:0: F0001: No module named example.py (fatal)\n",
      "Requirement already satisfied: pydocstyle in c:\\anaconda3\\lib\\site-packages (6.1.1)\n",
      "Requirement already satisfied: snowballstemmer in c:\\anaconda3\\lib\\site-packages (from pydocstyle) (2.1.0)\n"
     ]
    },
    {
     "name": "stderr",
     "output_type": "stream",
     "text": [
      "WARNING: Error in file example.py: [Errno 2] No such file or directory: 'example.py'\n"
     ]
    }
   ],
   "source": [
    "! pip install pylint\n",
    "! pylint example.py\n",
    "\n",
    "! pip install pydocstyle\n",
    "! pydocstyle example.py"
   ]
  }
 ],
 "metadata": {
  "kernelspec": {
   "display_name": "Python 3 (ipykernel)",
   "language": "python",
   "name": "python3"
  },
  "language_info": {
   "codemirror_mode": {
    "name": "ipython",
    "version": 3
   },
   "file_extension": ".py",
   "mimetype": "text/x-python",
   "name": "python",
   "nbconvert_exporter": "python",
   "pygments_lexer": "ipython3",
   "version": "3.9.7"
  }
 },
 "nbformat": 4,
 "nbformat_minor": 5
}
