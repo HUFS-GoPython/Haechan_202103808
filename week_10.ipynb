{
 "cells": [
  {
   "cell_type": "markdown",
   "id": "94f2ffb2-3e89-4c78-bb17-db0ee036c375",
   "metadata": {
    "jp-MarkdownHeadingCollapsed": true,
    "tags": []
   },
   "source": [
    "# Project 1 피드백\n",
    "- 프로그램을 만든다면 함수로 만들어서 낼 것\n",
    "- 파이썬 파일로 내면, 앞에 코드 정체성을 밝힐 것\n",
    "    - 코드 정체성에 #으로 의사코드를 작성할 것\n",
    "- Pylint 점수 때문에 대문자 변수명, 타이틀 변수명을 함부로 쓰지 말 것\n",
    "- 파이썬에서는 빈 리스트 선언 삼갈 것\n",
    "- Task 1\n",
    "    - doc chart 형식일 때는 줄바꿈 사용할 것\n",
    "- Task 2\n",
    "    - isalpha()로 단어 자체를 빼지 말고, 특수부호만 뺄 것\n",
    "    - 파일 열 때 개행으로 나누려면 split()과 join 대신 readlines()을 쓸 것\n",
    "    - char 하나하나를 isalpha()로 판별하는 것보다 더 효율적인 방법 찾을 것\n"
   ]
  },
  {
   "cell_type": "code",
   "execution_count": 22,
   "id": "44439d49-07c7-4e6c-9faa-956622156cec",
   "metadata": {},
   "outputs": [
    {
     "data": {
      "text/plain": [
       "'\\nContent: 텍스트에 담긴 알파벳을 막대 차트로 나타내는 프로그램\\n\\nDate: 2022.05.06\\nTeam: B\\nMembers: ....\\n\\n# 의사코드\\n...\\n\\n'"
      ]
     },
     "execution_count": 22,
     "metadata": {},
     "output_type": "execute_result"
    }
   ],
   "source": [
    "#예시\n",
    "\"\"\"\n",
    "Content: 텍스트에 담긴 알파벳을 막대 차트로 나타내는 프로그램\n",
    "\n",
    "Date: 2022.05.06\n",
    "Team: B\n",
    "Members: ....\n",
    "\n",
    "# 의사코드\n",
    "...\n",
    "\n",
    "\"\"\""
   ]
  },
  {
   "cell_type": "markdown",
   "id": "e833d968-e9c2-4cc3-8a3e-67bebb4e8ae1",
   "metadata": {
    "jp-MarkdownHeadingCollapsed": true,
    "tags": []
   },
   "source": [
    "## Team 1"
   ]
  },
  {
   "cell_type": "markdown",
   "id": "150c4f3e-2b70-47ba-bcbd-8b325ba29fbf",
   "metadata": {},
   "source": [
    "### Task 1\n",
    "- 줄바꿈을 사용해서 doc chart 형식으로 출력할 것"
   ]
  },
  {
   "cell_type": "code",
   "execution_count": 2,
   "id": "f838852a-d619-4a32-90c8-75b621698658",
   "metadata": {
    "collapsed": true,
    "jupyter": {
     "outputs_hidden": true
    },
    "tags": []
   },
   "outputs": [
    {
     "name": "stdin",
     "output_type": "stream",
     "text": [
      "text =  hello world\n"
     ]
    },
    {
     "name": "stdout",
     "output_type": "stream",
     "text": [
      "{'h': ['h'], 'e': ['e'], 'l': ['l', 'l', 'l'], 'o': ['o', 'o'], 'w': ['w'], 'r': ['r'], 'd': ['d']}\n"
     ]
    }
   ],
   "source": [
    "text = input('text = ').lower()\n",
    "final_dict = {ch: [ch for i in range(text.count(ch))] for ch in text if ch.isalpha()}\n",
    "print(final_dict)"
   ]
  },
  {
   "cell_type": "markdown",
   "id": "618e1adb-dbc3-49b8-98bb-13c674a43c3d",
   "metadata": {},
   "source": [
    "### Task 2\n",
    "- isalpha()로 단어 자체를 빼지 말고, 특수 부호만 제거할 것"
   ]
  },
  {
   "cell_type": "code",
   "execution_count": 4,
   "id": "18ba16e0-060b-4261-a3ba-3bcb2588e209",
   "metadata": {
    "collapsed": true,
    "jupyter": {
     "outputs_hidden": true
    },
    "tags": []
   },
   "outputs": [
    {
     "name": "stdout",
     "output_type": "stream",
     "text": [
      "['aha', 'bib', 'bob', 'boob', 'bub', 'civic', 'dad', 'deed', 'deified', 'did', 'dud', 'eke', 'ere', 'eve', 'ewe', 'eye', 'gag', 'gig', 'hah', 'huh', 'kayak', 'kook', 'level', 'madam', 'minim', 'mom', 'mum', 'noon', 'nun', 'oho', 'pap', 'peep', 'pep', 'pip', 'poop', 'pop', 'pullup', 'pup', 'radar', 'redder', 'refer', 'rotor', 'sagas', 'sees', 'sexes', 'shahs', 'sis', 'solos', 'stats', 'stets', 'tat', 'tenet', 'tit', 'toot', 'tot', 'tut', 'wow']\n"
     ]
    }
   ],
   "source": [
    "with open('C:/Users/bingo/Desktop/한국외대/2학년 1학기/고급파이썬프로그래밍 - 김아리/매주 과제/project1/dictionary.txt', 'r', encoding='UTF8') as f:\n",
    "    file = f.readlines()\n",
    "\n",
    "word_list = [word.strip().lower() for word in file]\n",
    "palindrome = [word for word in word_list if word.isalpha() and len(word) > 1 and word == word[::-1]]\n",
    "print(palindrome)"
   ]
  },
  {
   "cell_type": "markdown",
   "id": "5a699524-8bbb-4418-8dc9-93ec1882d92c",
   "metadata": {
    "jp-MarkdownHeadingCollapsed": true,
    "tags": []
   },
   "source": [
    "## Team 2"
   ]
  },
  {
   "cell_type": "markdown",
   "id": "a9e94267-dd18-4a18-9c30-a3ae12ea9c0c",
   "metadata": {
    "tags": []
   },
   "source": [
    "### Task 1"
   ]
  },
  {
   "cell_type": "code",
   "execution_count": 6,
   "id": "57c0ec7d-729e-48b0-aa60-a5d7826a4e3a",
   "metadata": {},
   "outputs": [
    {
     "name": "stdin",
     "output_type": "stream",
     "text": [
      " Hello World\n"
     ]
    },
    {
     "name": "stdout",
     "output_type": "stream",
     "text": [
      "{'r': ['r'], 'e': ['e'], 'w': ['w'], 'h': ['h'], 'd': ['d'], 'o': ['o', 'o'], 'l': ['l', 'l', 'l']}\n"
     ]
    }
   ],
   "source": [
    "text = input().lower()\n",
    "final_dict = {char: [char] * (text.count(char)) for char in set(text) if char.isalpha()}\n",
    "print(final_dict)"
   ]
  },
  {
   "cell_type": "markdown",
   "id": "70f91adc-d245-4d35-99ac-14282c43054d",
   "metadata": {},
   "source": [
    "### Task2\n",
    "- 파일 열 때 개행으로 나누려면 split()과 join 대신 readlines()을 쓸 것\n",
    "- char 하나하나를 isalpha()로 판별하는 것보다 더 효율적인 방법 찾을 것\n",
    "- Pylint 점수 때문에 변수명 대문자를 함부로 쓰지 말 것"
   ]
  },
  {
   "cell_type": "code",
   "execution_count": 9,
   "id": "d94f5754-44f2-4ea5-ab64-3bd133c7f76a",
   "metadata": {
    "collapsed": true,
    "jupyter": {
     "outputs_hidden": true
    },
    "tags": []
   },
   "outputs": [
    {
     "name": "stdout",
     "output_type": "stream",
     "text": [
      "['aha', 'bib', 'bob', 'boob', 'bub', 'civic', 'dad', 'deed', 'deified', 'did', 'dud', 'eke', 'ere', 'eve', 'ewe', 'eye', 'gag', 'gig', 'hah', 'huh', 'kayak', 'kook', 'level', 'madam', 'minim', 'mom', 'mum', 'noon', 'nun', 'oho', 'pap', 'peep', 'pep', 'pip', 'poop', 'pop', 'pullup', 'pup', 'radar', 'redder', 'refer', 'rotor', 'sagas', 'sees', 'sexes', 'shahs', 'sis', 'solos', 'sos', 'stats', 'stets', 'tat', 'tenet', 'tit', 'toot', 'tot', 'tut', 'wow']\n"
     ]
    }
   ],
   "source": [
    "with open('C:/Users/bingo/Desktop/한국외대/2학년 1학기/고급파이썬프로그래밍 - 김아리/매주 과제/project1/dictionary.txt', 'r', encoding='UTF8') as f:\n",
    "    dict_file = [''.join([char for char in WORD if char.isalpha()]) for WORD in f.read().split()]\n",
    "\n",
    "palindrome = [WORD for WORD in dict_file if (len(WORD) > 1) and (WORD == WORD[::-1])]\n",
    "print(palindrome)"
   ]
  },
  {
   "cell_type": "markdown",
   "id": "8c847cd7-3b1d-4198-b568-d9655a410b2f",
   "metadata": {
    "jp-MarkdownHeadingCollapsed": true,
    "tags": []
   },
   "source": [
    "## Team 3"
   ]
  },
  {
   "cell_type": "markdown",
   "id": "0002e532-f63a-436f-8704-1d583c4d2ca6",
   "metadata": {
    "tags": []
   },
   "source": [
    "### Task 1"
   ]
  },
  {
   "cell_type": "code",
   "execution_count": 10,
   "id": "3e43fd46-be17-4584-8393-83550e80d88a",
   "metadata": {
    "collapsed": true,
    "jupyter": {
     "outputs_hidden": true
    },
    "tags": []
   },
   "outputs": [
    {
     "name": "stdin",
     "output_type": "stream",
     "text": [
      " hello world\n"
     ]
    },
    {
     "name": "stdout",
     "output_type": "stream",
     "text": [
      "{'h': ['h'], 'e': ['e'], 'l': ['l', 'l', 'l'], 'o': ['o', 'o'], 'w': ['w'], 'r': ['r'], 'd': ['d']}\n"
     ]
    }
   ],
   "source": [
    "TEXT = input()\n",
    "final_dict = {letter: TEXT.count(letter)*letter.split() for letter in TEXT if letter.isalpha()}\n",
    "print(final_dict)"
   ]
  },
  {
   "cell_type": "markdown",
   "id": "ba05d423-1dcd-4417-856b-a8fe1c90b799",
   "metadata": {
    "tags": []
   },
   "source": [
    "### Task 2"
   ]
  },
  {
   "cell_type": "code",
   "execution_count": 12,
   "id": "24d2fc3b-16fc-4891-9ff1-c06d0d7914ae",
   "metadata": {
    "collapsed": true,
    "jupyter": {
     "outputs_hidden": true
    },
    "tags": []
   },
   "outputs": [
    {
     "name": "stdout",
     "output_type": "stream",
     "text": [
      "['aha', 'bib', 'bob', 'boob', 'bub', 'civic', 'dad', 'deed', 'deified', 'did', 'dud', 'eke', 'ere', 'eve', 'ewe', 'eye', 'gag', 'gig', 'hah', 'huh', 'kayak', 'kook', 'level', 'madam', 'minim', 'mom', 'mum', 'noon', 'nun', 'oho', 'pap', 'peep', 'pep', 'pip', 'poop', 'pop', 'pullup', 'pup', 'radar', 'redder', 'refer', 'rotor', 'sagas', 'sees', 'sexes', 'shahs', 'sis', 'solos', 'stats', 'stets', 'tat', 'tenet', 'tit', 'toot', 'tot', 'tut', 'wow']\n"
     ]
    }
   ],
   "source": [
    "with open('C:/Users/bingo/Desktop/한국외대/2학년 1학기/고급파이썬프로그래밍 - 김아리/매주 과제/project1/dictionary.txt', 'r', encoding='UTF8') as file:\n",
    "    words = file.read().split()\n",
    "print(answer := [word for word in words if word == word[::-1] and len(word) > 1])"
   ]
  },
  {
   "cell_type": "markdown",
   "id": "493a290b-a31a-4edd-8dcd-e3a3f37799c2",
   "metadata": {
    "jp-MarkdownHeadingCollapsed": true,
    "tags": []
   },
   "source": [
    "## Team 4"
   ]
  },
  {
   "cell_type": "markdown",
   "id": "562aa9de-9c18-4e46-9b67-da334df5e3ac",
   "metadata": {
    "tags": []
   },
   "source": [
    "### Task 1"
   ]
  },
  {
   "cell_type": "code",
   "execution_count": 14,
   "id": "b0a94d4a-edc1-40f8-bf18-156e5af2ca02",
   "metadata": {
    "tags": []
   },
   "outputs": [
    {
     "name": "stdin",
     "output_type": "stream",
     "text": [
      " hello world!\n"
     ]
    },
    {
     "name": "stdout",
     "output_type": "stream",
     "text": [
      "{'r': ['r'], 'e': ['e'], 'w': ['w'], 'h': ['h'], 'd': ['d'], 'o': ['o', 'o'], 'l': ['l', 'l', 'l']}\n"
     ]
    }
   ],
   "source": [
    "text = input().lower()\n",
    "\n",
    "final_dict = {ch : [ch]*text.count(ch) for ch in set(text) if ch.isalpha()}\n",
    "print(final_dict)"
   ]
  },
  {
   "cell_type": "markdown",
   "id": "34a15ae1-1e10-4654-9db2-246e7e06e09f",
   "metadata": {},
   "source": [
    "### Task 2\n",
    "- 빈 리스트 선언은 파이썬에서 삼가하기"
   ]
  },
  {
   "cell_type": "code",
   "execution_count": 16,
   "id": "e93e1844-6295-451d-a394-f253954667cf",
   "metadata": {
    "collapsed": true,
    "jupyter": {
     "outputs_hidden": true
    },
    "tags": []
   },
   "outputs": [
    {
     "name": "stdout",
     "output_type": "stream",
     "text": [
      "['aha', 'bib', 'bob', 'boob', 'bub', 'civic', 'dad', 'deed', 'deified', 'did', 'dud', 'eke', 'ere', 'eve', 'ewe', 'eye', 'gag', 'gig', 'hah', 'huh', 'kayak', 'kook', 'level', 'madam', 'minim', 'mom', 'mum', 'noon', 'nun', 'oho', 'pap', 'peep', 'pep', 'pip', 'poop', 'pop', 'pullup', 'pup', 'radar', 'redder', 'refer', 'rotor', 'sagas', 'sees', 'sexes', 'shahs', 'sis', 'solos', 'sos', 'stats', 'stets', 'tat', 'tenet', 'tit', 'toot', 'tot', 'tut', 'wow']\n"
     ]
    }
   ],
   "source": [
    "with open('C:/Users/bingo/Desktop/한국외대/2학년 1학기/고급파이썬프로그래밍 - 김아리/매주 과제/project1/dictionary.txt', 'r', encoding='UTF8') as f:\n",
    "    data = f.read()\n",
    "dictionary, palindrome = [], []\n",
    "\n",
    "dictionary = [w[:-1] if not w.isalpha() else w for w in data.split('\\n')]\n",
    "palindrome = [w for w in dictionary if w == w[::-1] and len(w) > 1]\n",
    "\n",
    "print(palindrome)"
   ]
  },
  {
   "cell_type": "markdown",
   "id": "19812f0b-0b95-4bdc-a7fe-924922ffdf50",
   "metadata": {
    "jp-MarkdownHeadingCollapsed": true,
    "tags": []
   },
   "source": [
    "## Team 5"
   ]
  },
  {
   "cell_type": "markdown",
   "id": "b183bb88-385b-4143-871c-a79de43557ca",
   "metadata": {
    "tags": []
   },
   "source": [
    "### Task 1\n",
    "- 문장부호 제거할 것"
   ]
  },
  {
   "cell_type": "code",
   "execution_count": 17,
   "id": "10b03b4d-c8dc-4fb9-9daf-f1c4f006a8b3",
   "metadata": {
    "collapsed": true,
    "jupyter": {
     "outputs_hidden": true
    },
    "tags": []
   },
   "outputs": [
    {
     "name": "stdin",
     "output_type": "stream",
     "text": [
      " hello world\n"
     ]
    },
    {
     "name": "stdout",
     "output_type": "stream",
     "text": [
      "{'r': ['r'], 'e': ['e'], 'w': ['w'], 'h': ['h'], 'd': ['d'], 'o': ['o', 'o'], 'l': ['l', 'l', 'l']}\n"
     ]
    }
   ],
   "source": [
    "\"\"\"TASK 1. 텍스트를 입력 받아서 글자들의 개수만큼 딕셔너리 그래프로 나타낸다.\"\"\"\n",
    "\n",
    "TEXT = ''.join(input().split()) # 단어를 입력 받으면서, 딕셔너리화를 위한 전처리를 시행한다.\n",
    "\n",
    "final_dict = {ch: list(ch * TEXT.count(ch)) for ch in set(TEXT)}\n",
    "\"\"\"\n",
    "{문자 : [문자 * (텍스트 내 문자 등장 횟수)]} 형식으로 딕셔너리 그래프를 만든다.\n",
    "이때 알파벳 전체를 대상으로 하지 않는다는 점으로 인해 set을 활용하여 실제 사용된 알파벳만 추출해준다.\n",
    "\"\"\"\n",
    "print(final_dict) # 딕셔너리 그래프를 출력한다."
   ]
  },
  {
   "cell_type": "markdown",
   "id": "00193299-3265-4d74-9712-236c1bfe8f3b",
   "metadata": {
    "tags": []
   },
   "source": [
    "### Task 2\n",
    "- 변수명에 타이틀화 적절히 사용할 것"
   ]
  },
  {
   "cell_type": "code",
   "execution_count": 18,
   "id": "abb4b4e4-6de0-42d7-91f5-0d75ef4834c1",
   "metadata": {
    "collapsed": true,
    "jupyter": {
     "outputs_hidden": true
    },
    "tags": []
   },
   "outputs": [
    {
     "name": "stdout",
     "output_type": "stream",
     "text": [
      "aha\n",
      "bib\n",
      "bob\n",
      "boob\n",
      "bub\n",
      "civic\n",
      "dad\n",
      "deed\n",
      "deified\n",
      "did\n",
      "dud\n",
      "eke\n",
      "ere\n",
      "eve\n",
      "ewe\n",
      "eye\n",
      "gag\n",
      "gig\n",
      "hah\n",
      "huh\n",
      "kayak\n",
      "kook\n",
      "level\n",
      "madam\n",
      "minim\n",
      "mom\n",
      "mum\n",
      "noon\n",
      "nun\n",
      "oho\n",
      "pap\n",
      "peep\n",
      "pep\n",
      "pip\n",
      "poop\n",
      "pop\n",
      "pullup\n",
      "pup\n",
      "radar\n",
      "redder\n",
      "refer\n",
      "rotor\n",
      "sagas\n",
      "sees\n",
      "sexes\n",
      "shahs\n",
      "sis\n",
      "solos\n",
      "stats\n",
      "stets\n",
      "tat\n",
      "tenet\n",
      "tit\n",
      "toot\n",
      "tot\n",
      "tut\n",
      "wow\n"
     ]
    }
   ],
   "source": [
    "\"\"\"Task2. 회문인 단어를 찾는 프로그램을 만든다.\"\"\"\n",
    "\n",
    "with open('C:/Users/bingo/Desktop/한국외대/2학년 1학기/고급파이썬프로그래밍 - 김아리/매주 과제/project1/dictionary.txt', 'r', encoding='UTF8') as file:\n",
    "    Data = file.read()\n",
    "Dic_list = list(Data.split())\n",
    "# 파일을 불러오고, 각각의 단어들을 리스트로 정렬한다.\n",
    "\n",
    "for entry in Dic_list:\n",
    "    if len(entry) > 1 and entry[::-1] == entry:\n",
    "        # 회문 단어의 조건 : 단어의 길이가 1보다 크고 단어를 뒤집은 것이 원래 단어와 같을 때\n",
    "        print(entry) # 회문인 단어를 출력한다.\n"
   ]
  },
  {
   "cell_type": "markdown",
   "id": "71f6682c-11e1-4ba8-8f63-f009d99fdd11",
   "metadata": {
    "jp-MarkdownHeadingCollapsed": true,
    "tags": []
   },
   "source": [
    "## Team 6"
   ]
  },
  {
   "cell_type": "markdown",
   "id": "a61e09c7-b058-4f06-a435-7d97c9bb5007",
   "metadata": {
    "tags": []
   },
   "source": [
    "### Task 1"
   ]
  },
  {
   "cell_type": "code",
   "execution_count": 19,
   "id": "9799cd58-e77c-44ac-a46d-6e653fc996ac",
   "metadata": {},
   "outputs": [
    {
     "name": "stdin",
     "output_type": "stream",
     "text": [
      " hello world\n"
     ]
    },
    {
     "name": "stdout",
     "output_type": "stream",
     "text": [
      "{'h': ['h'], 'e': ['e'], 'l': ['l', 'l', 'l'], 'o': ['o', 'o'], 'w': ['w'], 'r': ['r'], 'd': ['d']}\n"
     ]
    }
   ],
   "source": [
    "input_text = input()\n",
    "final_dict = {}\n",
    "\n",
    "def count_text_using_dict(text:str):\n",
    "    for element_t in text:\n",
    "        if element_t.isalpha():\n",
    "            element_t=element_t.lower()\n",
    "            if element_t in final_dict:\n",
    "                final_dict[element_t].append(element_t)\n",
    "            else:\n",
    "                final_dict[element_t]=[element_t]\n",
    "    print(final_dict)\n",
    "count_text_using_dict(text=input_text)"
   ]
  },
  {
   "cell_type": "markdown",
   "id": "ec34aaaf-0bda-4dfd-8ff8-078a9b377b9e",
   "metadata": {
    "tags": []
   },
   "source": [
    "### Task 2"
   ]
  },
  {
   "cell_type": "code",
   "execution_count": 21,
   "id": "5f94723e-7c3d-4e58-b0b9-5d603619d41c",
   "metadata": {
    "collapsed": true,
    "jupyter": {
     "outputs_hidden": true
    },
    "tags": []
   },
   "outputs": [
    {
     "name": "stdout",
     "output_type": "stream",
     "text": [
      "aha\n",
      "bib\n",
      "bob\n",
      "boob\n",
      "bub\n",
      "civic\n",
      "dad\n",
      "deed\n",
      "deified\n",
      "did\n",
      "dud\n",
      "eke\n",
      "ere\n",
      "eve\n",
      "ewe\n",
      "eye\n",
      "gag\n",
      "gig\n",
      "hah\n",
      "huh\n",
      "kayak\n",
      "kook\n",
      "level\n",
      "madam\n",
      "minim\n",
      "mom\n",
      "mum\n",
      "noon\n",
      "nun\n",
      "oho\n",
      "pap\n",
      "peep\n",
      "pep\n",
      "pip\n",
      "poop\n",
      "pop\n",
      "pullup\n",
      "pup\n",
      "radar\n",
      "redder\n",
      "refer\n",
      "rotor\n",
      "sagas\n",
      "sees\n",
      "sexes\n",
      "shahs\n",
      "sis\n",
      "solos\n",
      "stats\n",
      "stets\n",
      "tat\n",
      "tenet\n",
      "tit\n",
      "toot\n",
      "tot\n",
      "tut\n",
      "wow\n"
     ]
    }
   ],
   "source": [
    "with open('C:/Users/bingo/Desktop/한국외대/2학년 1학기/고급파이썬프로그래밍 - 김아리/매주 과제/project1/dictionary.txt', 'r', encoding='UTF8') as f:\n",
    "    data = f.read()\n",
    "for word in data.split():\n",
    "    if word == word[::-1] and len(word) != 1:\n",
    "        print(word)"
   ]
  },
  {
   "cell_type": "markdown",
   "id": "0fb24131-ed3c-480e-bc7e-8aa0a7a86eec",
   "metadata": {},
   "source": [
    "# 수업"
   ]
  },
  {
   "cell_type": "markdown",
   "id": "3e291e2b-9b37-4cc4-b580-2807aff78bb6",
   "metadata": {},
   "source": [
    "## defaultdict\n",
    "- `defaultdict(<type>)`\n",
    "    - e.g. `defaultdict(list)`\n",
    "    - 값이 없으면 0으로 설정"
   ]
  },
  {
   "cell_type": "code",
   "execution_count": 1,
   "id": "84df4206-de19-40e5-8e5a-23a7b0c61a84",
   "metadata": {},
   "outputs": [],
   "source": [
    "from collections import defaultdict"
   ]
  },
  {
   "cell_type": "code",
   "execution_count": 2,
   "id": "46ddade6-c79d-4f4d-b823-189847284ebd",
   "metadata": {},
   "outputs": [],
   "source": [
    "letter = 'defaultdict'\n",
    "empty = {}\n",
    "for ch in letter:\n",
    "    # if empty[ch] = 0\n",
    "    # else 값을 넣어라\n",
    "    empty.setdefault(ch, 0) # a가 없으면 기본값으로 0을 넣기\n",
    "    empty[ch] += 1"
   ]
  },
  {
   "cell_type": "code",
   "execution_count": 3,
   "id": "3a370e02-b026-4d2e-bd3c-985809189c42",
   "metadata": {},
   "outputs": [
    {
     "data": {
      "text/plain": [
       "{'d': 2, 'e': 1, 'f': 1, 'a': 1, 'u': 1, 'l': 1, 't': 2, 'i': 1, 'c': 1}"
      ]
     },
     "execution_count": 3,
     "metadata": {},
     "output_type": "execute_result"
    }
   ],
   "source": [
    "empty"
   ]
  },
  {
   "cell_type": "code",
   "execution_count": 4,
   "id": "bce6dcf4-4793-474f-8b60-6f53a8538bf1",
   "metadata": {},
   "outputs": [
    {
     "data": {
      "text/plain": [
       "defaultdict(int,\n",
       "            {'d': 2,\n",
       "             'e': 1,\n",
       "             'f': 1,\n",
       "             'a': 1,\n",
       "             'u': 1,\n",
       "             'l': 1,\n",
       "             't': 2,\n",
       "             'i': 1,\n",
       "             'c': 1})"
      ]
     },
     "execution_count": 4,
     "metadata": {},
     "output_type": "execute_result"
    }
   ],
   "source": [
    "empty2 = defaultdict(int)\n",
    "for ch in letter:\n",
    "    empty2[ch] += 1\n",
    "\n",
    "empty2"
   ]
  },
  {
   "cell_type": "markdown",
   "id": "4175d82c-8df8-415f-9a6b-adec7ca2cf85",
   "metadata": {},
   "source": [
    "## Object & Class"
   ]
  },
  {
   "cell_type": "markdown",
   "id": "4f251883-69ab-4dd1-ba9e-f94b28684210",
   "metadata": {},
   "source": [
    "### object (객체)\n",
    "- 속성, 행동을 가지는 개념\n",
    "- 객체 사용하는 이유: 코드 재사용 수월\n",
    "- 속성은 변수로 / 행동은 매서드(함수)로\n",
    "    - e.g. 자동차\n",
    "        - 속성: 엔진, 브랜드, 가격, 색상, 이름, ...\n",
    "        - 행동: 나가다, 정지하다, 좌회전 하다, 우회전 하다, ...\n",
    "    - e.g. 고양이\n",
    "        - 속성: 종, 이름, 털 색, 몸무게, 성별, ...\n",
    "        - 행동: 짖다, 뛰다, 걷다, 째려보다, ...\n",
    "    - e.g. 사전\n",
    "        - 속성: 글자 수, 시작 글자, 출현 빈도, ...\n",
    "        - 행동: 추가하다, 제외하다, ...\n",
    "- 프로그래밍을 하는 방법\n",
    "    - e.g. 상점에서의 거래\n",
    "         - 사람\n",
    "            - 속성: 이름, 돈\n",
    "            - 행동: 사다\n",
    "         - 상점\n",
    "            - 속성: 재고, 이익, 고객명단\n",
    "            - 행동: 등록하다, 팔다, 계산하다\n",
    "         - 물건\n",
    "            - 속성: 브랜드, 이름, 가격"
   ]
  },
  {
   "cell_type": "markdown",
   "id": "505dd45d-0d01-490f-bb7b-e5dfe171709d",
   "metadata": {},
   "source": [
    "### class (클래스)\n",
    "- 코드를 효율적으로 쓰기 위함\n",
    "- 객체가 가져야 할 기본 정보를 담은 코드\n",
    "- 설계도, 틀, 프레임워크\n",
    "- e.g. 붕어빵의 틀\n",
    "    - 이때 붕어빵은 '인스턴스'\n",
    "- 부여: `class <class name>:`\n",
    "    - 클래스명은 카멜표기법을 쓴다"
   ]
  },
  {
   "cell_type": "code",
   "execution_count": 5,
   "id": "0f92b6ea-a662-4b0d-8d8d-1f87b65b592f",
   "metadata": {},
   "outputs": [
    {
     "name": "stdout",
     "output_type": "stream",
     "text": [
      "<__main__.NiceCar object at 0x000001F8835D4EB0>\n",
      "<__main__.NiceCar object at 0x000001F8835FEC40>\n"
     ]
    }
   ],
   "source": [
    "# 정의\n",
    "class NiceCar:\n",
    "    pass\n",
    "\n",
    "# 선언 (괄호 꼭 쓸 것)\n",
    "car1 = NiceCar()\n",
    "print(car1)\n",
    "\n",
    "car2 = NiceCar()\n",
    "print(car2)"
   ]
  },
  {
   "cell_type": "code",
   "execution_count": 6,
   "id": "de8a609f-fe16-41ce-9890-b7add5a3e177",
   "metadata": {},
   "outputs": [
    {
     "data": {
      "text/plain": [
       "__main__.NiceCar"
      ]
     },
     "execution_count": 6,
     "metadata": {},
     "output_type": "execute_result"
    }
   ],
   "source": [
    "type(car2)"
   ]
  },
  {
   "cell_type": "code",
   "execution_count": 7,
   "id": "53891f9c-4ef6-42cd-94b2-b15bf7e20a9f",
   "metadata": {},
   "outputs": [],
   "source": [
    "# 속성 부여\n",
    "car1.brand = 'mercedes'\n",
    "car2.brand = 'kia'"
   ]
  },
  {
   "cell_type": "code",
   "execution_count": 8,
   "id": "b5a9704b-a1b7-4a05-9e70-bcbc742f9bb3",
   "metadata": {},
   "outputs": [
    {
     "name": "stdout",
     "output_type": "stream",
     "text": [
      "mercedes\n",
      "kia\n"
     ]
    }
   ],
   "source": [
    "for car in [car1, car2]:\n",
    "    print(car.brand)"
   ]
  },
  {
   "cell_type": "code",
   "execution_count": 9,
   "id": "6ad183f3-6d03-41e8-9b8a-a73fceccaa6f",
   "metadata": {},
   "outputs": [
    {
     "data": {
      "text/plain": [
       "'mercedes'"
      ]
     },
     "execution_count": 9,
     "metadata": {},
     "output_type": "execute_result"
    }
   ],
   "source": [
    "# 속성 고정\n",
    "class Car:\n",
    "    brand = 'mercedes'\n",
    "\n",
    "car3 = Car()\n",
    "car3.brand"
   ]
  },
  {
   "cell_type": "markdown",
   "id": "28f4c612-6a94-4733-aaed-0bec72adce5f",
   "metadata": {},
   "source": [
    "#### 속성 열어두기\n",
    "- `__init__`: 속성을 초기화하는 함수\n",
    "- `def __init__(self, <var1>, <var2>, ...)`\n",
    "    - `self.<속성1> = <var1>`\n",
    "    - `self.<속성2> = <var2>`\n",
    "- 항상 instance인 self를 인수의 제일 첫 번째로"
   ]
  },
  {
   "cell_type": "code",
   "execution_count": 10,
   "id": "e413dad3-5cb6-4591-a1bd-a7b9d3e30485",
   "metadata": {},
   "outputs": [],
   "source": [
    "class Car:\n",
    "    def __init__(self, brand):\n",
    "        self.brand = brand"
   ]
  },
  {
   "cell_type": "code",
   "execution_count": 11,
   "id": "ad60e8bb-0202-497b-8bda-df3e8f2c5814",
   "metadata": {},
   "outputs": [
    {
     "data": {
      "text/plain": [
       "'toyota'"
      ]
     },
     "execution_count": 11,
     "metadata": {},
     "output_type": "execute_result"
    }
   ],
   "source": [
    "car4 = Car(brand='toyota')\n",
    "car4.brand"
   ]
  },
  {
   "cell_type": "markdown",
   "id": "cb548136-0519-48e0-b180-2cc491e5701d",
   "metadata": {},
   "source": [
    "#### class Car 만들기"
   ]
  },
  {
   "cell_type": "markdown",
   "id": "4c177d33-ff3e-4a9d-aafb-f557115fea65",
   "metadata": {},
   "source": [
    "- Car에 brand, color, model 속성 초기화 하기\n",
    "- instance 만들기"
   ]
  },
  {
   "cell_type": "code",
   "execution_count": 12,
   "id": "f5a85128-24e9-42c6-a520-78690a70d2f4",
   "metadata": {},
   "outputs": [],
   "source": [
    "class Car:\n",
    "    def __init__(self, brand, color, model):\n",
    "        self.brand = brand\n",
    "        # self.brand는 어떤 객체가 만들어지더라도 가져 갈 brand\n",
    "        # brand는 객체 생성 시 설정되는 brand\n",
    "        self.color = color\n",
    "        self.model = model\n",
    "\n",
    "my_morning = Car('kia', 'black', 'morning')"
   ]
  },
  {
   "cell_type": "code",
   "execution_count": 13,
   "id": "5601b1a6-d627-448b-bc18-3ad0dd70d3e7",
   "metadata": {},
   "outputs": [
    {
     "name": "stdout",
     "output_type": "stream",
     "text": [
      "kia\n",
      "black\n",
      "morning\n"
     ]
    }
   ],
   "source": [
    "print(my_morning.brand)\n",
    "print(my_morning.color)\n",
    "print(my_morning.model)"
   ]
  },
  {
   "cell_type": "markdown",
   "id": "c5754812-73e9-466a-9b5b-2dfb0f765ece",
   "metadata": {},
   "source": [
    "- my_morning.color를 white로 바꾸기"
   ]
  },
  {
   "cell_type": "code",
   "execution_count": 14,
   "id": "69042399-0c4c-4b7a-adbf-1a31a3ffb5a2",
   "metadata": {},
   "outputs": [
    {
     "data": {
      "text/plain": [
       "'white'"
      ]
     },
     "execution_count": 14,
     "metadata": {},
     "output_type": "execute_result"
    }
   ],
   "source": [
    "my_morning.color = 'white'\n",
    "my_morning.color"
   ]
  },
  {
   "cell_type": "markdown",
   "id": "b4027972-d25e-4b99-82c2-56bdbc7e96d2",
   "metadata": {},
   "source": [
    "- my_sorento 만들기"
   ]
  },
  {
   "cell_type": "code",
   "execution_count": 15,
   "id": "9538b3e7-2606-41b4-83d2-0640bcc6cd9c",
   "metadata": {},
   "outputs": [
    {
     "data": {
      "text/plain": [
       "'yellow'"
      ]
     },
     "execution_count": 15,
     "metadata": {},
     "output_type": "execute_result"
    }
   ],
   "source": [
    "my_sorento = Car('kia', 'yellow', 'sorento')\n",
    "my_sorento.color"
   ]
  },
  {
   "cell_type": "markdown",
   "id": "72fa655e-5860-49ba-925c-e434d0921e6b",
   "metadata": {},
   "source": [
    "- action 정의하기"
   ]
  },
  {
   "cell_type": "code",
   "execution_count": 16,
   "id": "a4a67c2f-2028-4f5b-bc93-93dc7a36688e",
   "metadata": {},
   "outputs": [],
   "source": [
    "class Car:\n",
    "    def __init__(self, brand, color, model):\n",
    "        self.brand = brand\n",
    "        self.color = color\n",
    "        self.model = model\n",
    "    \n",
    "    # action\n",
    "    def drive(self):\n",
    "        print('차가 움직인다.')\n",
    "    \n",
    "    def stop(self):\n",
    "        print('차가 멈춘다.')\n",
    "\n",
    "my_morning = Car('kia', 'black', 'morning')"
   ]
  },
  {
   "cell_type": "code",
   "execution_count": 17,
   "id": "6a0ffc43-a380-48dc-a379-456046ce9708",
   "metadata": {},
   "outputs": [
    {
     "name": "stdout",
     "output_type": "stream",
     "text": [
      "차가 움직인다.\n",
      "차가 멈춘다.\n"
     ]
    }
   ],
   "source": [
    "my_morning.drive()\n",
    "my_morning.stop()"
   ]
  },
  {
   "cell_type": "markdown",
   "id": "84628020-979f-4cf1-9a48-a62d912ee248",
   "metadata": {},
   "source": [
    "- drive()에서 출력을 `내 차 (브랜드={})이 움직인다.`로 바꾸기"
   ]
  },
  {
   "cell_type": "code",
   "execution_count": 18,
   "id": "1362a343-27f1-4bd7-a313-cdd5f7ba44e6",
   "metadata": {},
   "outputs": [],
   "source": [
    "class Car:\n",
    "    def __init__(self, brand, color, model):\n",
    "        self.brand = brand\n",
    "        self.color = color\n",
    "        self.model = model\n",
    "    \n",
    "    # action\n",
    "    def drive(self):\n",
    "        print(f'내 차 (브랜드={self.brand})가 움직인다.')\n",
    "    \n",
    "    def stop(self):\n",
    "        print('차가 멈춘다.')\n",
    "\n",
    "my_morning = Car('kia', 'black', 'morning')"
   ]
  },
  {
   "cell_type": "code",
   "execution_count": 19,
   "id": "aa89ac3f-9871-4d45-ab36-9d4c33219587",
   "metadata": {},
   "outputs": [
    {
     "name": "stdout",
     "output_type": "stream",
     "text": [
      "내 차 (브랜드=kia)가 움직인다.\n"
     ]
    }
   ],
   "source": [
    "my_morning.drive()"
   ]
  },
  {
   "cell_type": "markdown",
   "id": "cefca14a-2ba1-45ae-91ab-795e2daa13e5",
   "metadata": {},
   "source": [
    "- color 바꾸는 함수 만들기\n",
    "    - 고정값으로 바꾸기\n",
    "    - 입력값으로 바꾸기"
   ]
  },
  {
   "cell_type": "code",
   "execution_count": 20,
   "id": "d4d7af63-f3ce-4faa-8c21-0f37992e2420",
   "metadata": {},
   "outputs": [],
   "source": [
    "class Car:\n",
    "    def __init__(self, brand, color, model):\n",
    "        self.brand = brand\n",
    "        self.color = color\n",
    "        self.model = model\n",
    "    \n",
    "    # action\n",
    "    def drive(self):\n",
    "        print(f'내 차 (브랜드={self.brand})가 움직인다.')\n",
    "    \n",
    "    def stop(self):\n",
    "        print('차가 멈춘다.')\n",
    "    \n",
    "    def change_color_into_pink(self):\n",
    "        self.color = 'pink'\n",
    "    \n",
    "    def change_color(self, color):\n",
    "        self.color = color\n",
    "\n",
    "my_morning = Car('kia', 'black', 'morning')"
   ]
  },
  {
   "cell_type": "code",
   "execution_count": 21,
   "id": "f9f2c4c0-c73c-4c48-8f50-08497318d61c",
   "metadata": {},
   "outputs": [
    {
     "data": {
      "text/plain": [
       "'pink'"
      ]
     },
     "execution_count": 21,
     "metadata": {},
     "output_type": "execute_result"
    }
   ],
   "source": [
    "my_morning.change_color_into_pink()\n",
    "my_morning.color"
   ]
  },
  {
   "cell_type": "code",
   "execution_count": 22,
   "id": "cd66b825-3dbe-418c-a3d9-85b5c5d8f785",
   "metadata": {},
   "outputs": [
    {
     "data": {
      "text/plain": [
       "'blue'"
      ]
     },
     "execution_count": 22,
     "metadata": {},
     "output_type": "execute_result"
    }
   ],
   "source": [
    "my_morning.change_color('blue')\n",
    "my_morning.color"
   ]
  },
  {
   "cell_type": "markdown",
   "id": "24ed2b65-971b-471f-b50f-39404b5d07fd",
   "metadata": {},
   "source": [
    "- color: 컬러가 있으면 있는 컬러, 없으면 기본값 orange\n",
    "- model: 기본적으로는 값이 없어도 되기 설정"
   ]
  },
  {
   "cell_type": "code",
   "execution_count": 23,
   "id": "00fa68cd-6eea-416e-ac30-cae1716a6756",
   "metadata": {},
   "outputs": [],
   "source": [
    "class Car:\n",
    "    def __init__(self, brand, color='orange', model=None):\n",
    "        self.brand = brand\n",
    "        self.color = color\n",
    "        self.model = model\n",
    "    \n",
    "    # action\n",
    "    def drive(self):\n",
    "        print(f'내 차 (브랜드={self.brand})가 움직인다.')\n",
    "    \n",
    "    def stop(self):\n",
    "        print('차가 멈춘다.')\n",
    "    \n",
    "    def change_color_into_pink(self):\n",
    "        self.color = 'pink'\n",
    "    \n",
    "    def change_color(self, color):\n",
    "        self.color = color\n",
    "\n",
    "my_morning = Car('kia')"
   ]
  },
  {
   "cell_type": "code",
   "execution_count": 24,
   "id": "13ac1fd0-1a55-4dbe-850c-f98b0cc19f17",
   "metadata": {},
   "outputs": [
    {
     "name": "stdout",
     "output_type": "stream",
     "text": [
      "orange\n",
      "None\n"
     ]
    }
   ],
   "source": [
    "print(my_morning.color)\n",
    "print(my_morning.model)"
   ]
  },
  {
   "cell_type": "markdown",
   "id": "4c341430-a4b7-47f7-9c46-622befe9810e",
   "metadata": {},
   "source": [
    "#### 변수를 바꾸는 두 가지\n",
    "- class 안에서 바꾸기\n",
    "    - self.color = color\n",
    "- instance에서 바꾸기\n",
    "    - my_morning.color = 'white'"
   ]
  },
  {
   "cell_type": "code",
   "execution_count": 25,
   "id": "1cf8bdb1-89f6-411a-919b-0519d69cd4d3",
   "metadata": {},
   "outputs": [
    {
     "data": {
      "text/plain": [
       "'red'"
      ]
     },
     "execution_count": 25,
     "metadata": {},
     "output_type": "execute_result"
    }
   ],
   "source": [
    "class Fruit:\n",
    "    color = 'red'\n",
    "\n",
    "apple = Fruit()\n",
    "apple.color"
   ]
  },
  {
   "cell_type": "code",
   "execution_count": 26,
   "id": "fbcdc414-b915-4075-8298-af11a00dce27",
   "metadata": {},
   "outputs": [
    {
     "data": {
      "text/plain": [
       "'purple'"
      ]
     },
     "execution_count": 26,
     "metadata": {},
     "output_type": "execute_result"
    }
   ],
   "source": [
    "# class 밖에서 class 안을 바꿀 수 있음\n",
    "Fruit.color = 'purple'\n",
    "\n",
    "orange = Fruit()\n",
    "orange.color"
   ]
  },
  {
   "cell_type": "markdown",
   "id": "a50d89ee-87d5-48aa-bb4a-3ce85e37968b",
   "metadata": {},
   "source": [
    "#### getter, setter\n",
    "- 클래스 외부에서 변수 접근을 용이하지 못하게 하는 것\n",
    "- 캡슐화, 정보 은닉\n",
    "- java) public --> private\n",
    "- `getter`\n",
    "    - 원래 변수명에 접근하도록 하는 역할\n",
    "- `setter`\n",
    "    - 변수명을 바꾸는 역할\n",
    "    - return 값은 없음\n",
    "- 속성부에서는 입력된 var와 설정한 var을 구분하기 위해서 입력된 var을 input_var로 바꿔준다\n",
    "- 접근은 가능하나 우회하게끔 함"
   ]
  },
  {
   "cell_type": "markdown",
   "id": "40350b7e-9657-487b-9db9-55a881907160",
   "metadata": {},
   "source": [
    "##### 1."
   ]
  },
  {
   "cell_type": "code",
   "execution_count": 27,
   "id": "8e56c4f5-08de-4074-b227-afb02da79fa0",
   "metadata": {},
   "outputs": [],
   "source": [
    "class Car:\n",
    "    def __init__(self, input_brand):\n",
    "        self.brand = input_brand\n",
    "    \n",
    "    def get_brand(self):\n",
    "        print('from the getter')\n",
    "        return self.brand\n",
    "    \n",
    "    def set_brand(self, input_brand):\n",
    "        print('from the setter')\n",
    "        self.brand = input_brand"
   ]
  },
  {
   "cell_type": "code",
   "execution_count": 28,
   "id": "caceb71a-aafa-4dd5-bc00-0384ed8464ef",
   "metadata": {},
   "outputs": [
    {
     "data": {
      "text/plain": [
       "'toyota'"
      ]
     },
     "execution_count": 28,
     "metadata": {},
     "output_type": "execute_result"
    }
   ],
   "source": [
    "ex = Car('toyota')\n",
    "ex.brand"
   ]
  },
  {
   "cell_type": "code",
   "execution_count": 29,
   "id": "5fa00a08-14fb-41fe-8a4b-9bfee37b4cb4",
   "metadata": {},
   "outputs": [
    {
     "name": "stdout",
     "output_type": "stream",
     "text": [
      "from the getter\n"
     ]
    },
    {
     "data": {
      "text/plain": [
       "'toyota'"
      ]
     },
     "execution_count": 29,
     "metadata": {},
     "output_type": "execute_result"
    }
   ],
   "source": [
    "ex.get_brand()"
   ]
  },
  {
   "cell_type": "code",
   "execution_count": 30,
   "id": "cb6a2725-20ca-4367-804a-5fab858a76a0",
   "metadata": {},
   "outputs": [
    {
     "name": "stdout",
     "output_type": "stream",
     "text": [
      "from the setter\n"
     ]
    },
    {
     "data": {
      "text/plain": [
       "'mazuda'"
      ]
     },
     "execution_count": 30,
     "metadata": {},
     "output_type": "execute_result"
    }
   ],
   "source": [
    "ex.set_brand('mazuda')\n",
    "ex.brand"
   ]
  },
  {
   "cell_type": "code",
   "execution_count": 31,
   "id": "a09a26db-0862-45a7-b6b2-56ef9c5e337b",
   "metadata": {},
   "outputs": [
    {
     "name": "stdout",
     "output_type": "stream",
     "text": [
      "from the getter\n"
     ]
    },
    {
     "data": {
      "text/plain": [
       "'mazuda'"
      ]
     },
     "execution_count": 31,
     "metadata": {},
     "output_type": "execute_result"
    }
   ],
   "source": [
    "ex.get_brand()"
   ]
  },
  {
   "cell_type": "code",
   "execution_count": 32,
   "id": "94601de2-70d7-4cc7-b1ed-49813f8ebeb2",
   "metadata": {},
   "outputs": [],
   "source": [
    "Car.brand = 'bmw'"
   ]
  },
  {
   "cell_type": "code",
   "execution_count": 33,
   "id": "8d0d4d37-19ae-438b-b616-2b875128446a",
   "metadata": {},
   "outputs": [
    {
     "data": {
      "text/plain": [
       "'toyota'"
      ]
     },
     "execution_count": 33,
     "metadata": {},
     "output_type": "execute_result"
    }
   ],
   "source": [
    "a = Car('toyota')\n",
    "a.brand"
   ]
  },
  {
   "cell_type": "code",
   "execution_count": 34,
   "id": "2a1667ff-4426-47b7-83ff-08d952ac2483",
   "metadata": {},
   "outputs": [
    {
     "name": "stdout",
     "output_type": "stream",
     "text": [
      "from the getter\n"
     ]
    },
    {
     "data": {
      "text/plain": [
       "'toyota'"
      ]
     },
     "execution_count": 34,
     "metadata": {},
     "output_type": "execute_result"
    }
   ],
   "source": [
    "a.get_brand()"
   ]
  },
  {
   "cell_type": "markdown",
   "id": "79b9bcdf-d0d6-422e-94be-3fa0c788ea24",
   "metadata": {},
   "source": [
    "##### 2. hidden 사용"
   ]
  },
  {
   "cell_type": "code",
   "execution_count": 35,
   "id": "2c8d3c9d-5885-4bea-8026-b3b447e8a13c",
   "metadata": {},
   "outputs": [
    {
     "data": {
      "text/plain": [
       "'Kia'"
      ]
     },
     "execution_count": 35,
     "metadata": {},
     "output_type": "execute_result"
    }
   ],
   "source": [
    "class Car:\n",
    "    def __init__(self, input_brand):\n",
    "        self.hidden_brand = input_brand\n",
    "    \n",
    "    def get_brand(self):\n",
    "        return self.hidden_brand\n",
    "    \n",
    "    def set_brand(self, input_brand):\n",
    "        self.hidden_brand = input_brand\n",
    "    \n",
    "    # 내가 사용할 변수명\n",
    "    brand = property(get_brand, set_brand)\n",
    "\n",
    "c = Car('Kia')\n",
    "c.brand"
   ]
  },
  {
   "cell_type": "code",
   "execution_count": 36,
   "id": "e0967801-6556-4906-81a9-e220a5eb5664",
   "metadata": {},
   "outputs": [],
   "source": [
    "c.brand = 'hyundai'"
   ]
  },
  {
   "cell_type": "code",
   "execution_count": 37,
   "id": "8a647983-cb6c-40b4-b8e6-201ca9f7d66b",
   "metadata": {},
   "outputs": [],
   "source": [
    "Car.brand = 'toyota'"
   ]
  },
  {
   "cell_type": "code",
   "execution_count": 38,
   "id": "7200bbe8-74ff-484f-8205-6d4e8da2674a",
   "metadata": {},
   "outputs": [],
   "source": [
    "Car.brand = 'aa'"
   ]
  },
  {
   "cell_type": "markdown",
   "id": "f13faa54-1f13-4182-bab7-e6b3499fb9bb",
   "metadata": {},
   "source": [
    "##### 3. 데코레이터 사용"
   ]
  },
  {
   "cell_type": "code",
   "execution_count": 39,
   "id": "08c5ff22-bc34-4e8a-83a1-cbff3ff18648",
   "metadata": {},
   "outputs": [
    {
     "data": {
      "text/plain": [
       "'aa'"
      ]
     },
     "execution_count": 39,
     "metadata": {},
     "output_type": "execute_result"
    }
   ],
   "source": [
    "# decorator: @...\n",
    "class Car:\n",
    "    def __init__(self, input_brand):\n",
    "        self.hidden_brand = input_brand\n",
    "    \n",
    "    @property\n",
    "    def brand(self):\n",
    "        return self.hidden_brand\n",
    "    \n",
    "    @brand.setter\n",
    "    def brand(self, input_brand):\n",
    "        self.hidden_brand = input_brand\n",
    "    \n",
    "c = Car('aa')\n",
    "c.brand"
   ]
  },
  {
   "cell_type": "markdown",
   "id": "646f3b93-db0e-4e61-aedd-2570b46e9fbe",
   "metadata": {},
   "source": [
    "##### 4. __ 사용"
   ]
  },
  {
   "cell_type": "code",
   "execution_count": 40,
   "id": "266d1566-89e4-42e8-8f2a-14310d00fec4",
   "metadata": {},
   "outputs": [
    {
     "ename": "AttributeError",
     "evalue": "'Car' object has no attribute '__brand'",
     "output_type": "error",
     "traceback": [
      "\u001b[1;31m---------------------------------------------------------------------------\u001b[0m",
      "\u001b[1;31mAttributeError\u001b[0m                            Traceback (most recent call last)",
      "\u001b[1;32mC:\\Users\\Public\\Documents\\ESTsoft\\CreatorTemp/ipykernel_1092/886867377.py\u001b[0m in \u001b[0;36m<module>\u001b[1;34m\u001b[0m\n\u001b[0;32m     12\u001b[0m \u001b[1;33m\u001b[0m\u001b[0m\n\u001b[0;32m     13\u001b[0m \u001b[0mc\u001b[0m \u001b[1;33m=\u001b[0m \u001b[0mCar\u001b[0m\u001b[1;33m(\u001b[0m\u001b[1;34m'bb'\u001b[0m\u001b[1;33m)\u001b[0m\u001b[1;33m\u001b[0m\u001b[1;33m\u001b[0m\u001b[0m\n\u001b[1;32m---> 14\u001b[1;33m \u001b[0mc\u001b[0m\u001b[1;33m.\u001b[0m\u001b[0m__brand\u001b[0m\u001b[1;33m\u001b[0m\u001b[1;33m\u001b[0m\u001b[0m\n\u001b[0m",
      "\u001b[1;31mAttributeError\u001b[0m: 'Car' object has no attribute '__brand'"
     ]
    }
   ],
   "source": [
    "class Car:\n",
    "    def __init__(self, input_brand):\n",
    "        self.__brand = input_brand\n",
    "    \n",
    "    @property\n",
    "    def brand(self):\n",
    "        return self.__brand\n",
    "    \n",
    "    @brand.setter\n",
    "    def brand(self, input_brand):\n",
    "        self.__brand = input_brand\n",
    "\n",
    "c = Car('bb')\n",
    "c.__brand"
   ]
  },
  {
   "cell_type": "code",
   "execution_count": 41,
   "id": "211c620b-016a-46dd-b811-adf2c88484f2",
   "metadata": {},
   "outputs": [
    {
     "data": {
      "text/plain": [
       "'bb'"
      ]
     },
     "execution_count": 41,
     "metadata": {},
     "output_type": "execute_result"
    }
   ],
   "source": [
    "c.brand"
   ]
  },
  {
   "cell_type": "code",
   "execution_count": 42,
   "id": "c91cd77a-b75e-4fb9-97f7-df6b898deede",
   "metadata": {},
   "outputs": [
    {
     "data": {
      "text/plain": [
       "14"
      ]
     },
     "execution_count": 42,
     "metadata": {},
     "output_type": "execute_result"
    }
   ],
   "source": [
    "class Circle:\n",
    "    def __init__(self, radius):\n",
    "        self.radius = radius\n",
    "    \n",
    "    @property\n",
    "    def diameter(self):\n",
    "        return self.radius * 2\n",
    "    \n",
    "c = Circle(7)\n",
    "c.diameter"
   ]
  },
  {
   "cell_type": "markdown",
   "id": "23dd8b2e-e27f-4c68-bf85-632451c8419a",
   "metadata": {},
   "source": [
    "### 실습\n",
    "- 객체\n",
    "    - 메모장(공책)\n",
    "        - 변수: 제목, 페이지 번호, 메모\n",
    "        - 매서드: 추가, 삭제, 페이지 번호\n",
    "    - 메모(페이지)\n",
    "        - 변수: 글귀\n",
    "        - 매서드: 쓰기, 지우기\n",
    "- '메모' 객체에 글귀를 추가한다\n",
    "- '메모장' 객체에 메모 추가\n",
    "- 페이지 번호가 늘어난다.\n",
    "- 메모를 삭제하면 페이지 번호가 줄어들고\n",
    "- 페이지가 300을 넘으면 메모 추가 못하게 막기\n",
    "- 페이지 번호로 메모 찾기"
   ]
  },
  {
   "cell_type": "code",
   "execution_count": 73,
   "id": "76af6d3e-7825-470b-846e-bad67c4750f8",
   "metadata": {},
   "outputs": [],
   "source": [
    "class Note:\n",
    "    def __init__(self):\n",
    "        self.memo = str()\n",
    "\n",
    "    def write(self, text):\n",
    "        self.memo = self.memo + text\n",
    "\n",
    "    def erase(self, text):\n",
    "        self.memo = self.memo.replace(text, '')\n",
    "\n",
    "# class Notebook:\n",
    "#    page_number = 0\n",
    "#    notebook_dict = {}\n",
    "#    def __init__(self, title, page_number, note):\n",
    "#        self.title = title\n",
    "#        self.page_number = page_number\n",
    "#        self.note = []\n",
    "#\n",
    "#    def add_note(self, memo):\n",
    "#        self.note = self.note.append(memo)\n",
    "#        notebook_dict.update({self.page_number: self.note})\n",
    "#        page_number += 1\n",
    "#\n",
    "#    def remove_note(self, page_number):\n",
    "#        temp_page = notebook[page_number]\n",
    "#        del self.note[temp_page]\n",
    "#\n",
    "#    def get_page_num(self, page_number):\n",
    "#        temp_page = notebook[page_number]\n",
    "#        return self.note[page_number]"
   ]
  },
  {
   "cell_type": "code",
   "execution_count": 74,
   "id": "b3885827-4602-468d-a24a-06c427b3959e",
   "metadata": {},
   "outputs": [
    {
     "ename": "TypeError",
     "evalue": "__init__() missing 3 required positional arguments: 'title', 'page_number', and 'note'",
     "output_type": "error",
     "traceback": [
      "\u001b[1;31m---------------------------------------------------------------------------\u001b[0m",
      "\u001b[1;31mTypeError\u001b[0m                                 Traceback (most recent call last)",
      "\u001b[1;32mC:\\Users\\Public\\Documents\\ESTsoft\\CreatorTemp/ipykernel_1092/4153435480.py\u001b[0m in \u001b[0;36m<module>\u001b[1;34m\u001b[0m\n\u001b[0;32m     13\u001b[0m \u001b[1;33m\u001b[0m\u001b[0m\n\u001b[0;32m     14\u001b[0m \u001b[1;31m# 메모장 만들기\u001b[0m\u001b[1;33m\u001b[0m\u001b[1;33m\u001b[0m\u001b[0m\n\u001b[1;32m---> 15\u001b[1;33m \u001b[0mmy_book\u001b[0m \u001b[1;33m=\u001b[0m \u001b[0mNotebook\u001b[0m\u001b[1;33m(\u001b[0m\u001b[1;33m)\u001b[0m\u001b[1;33m\u001b[0m\u001b[1;33m\u001b[0m\u001b[0m\n\u001b[0m\u001b[0;32m     16\u001b[0m \u001b[1;33m\u001b[0m\u001b[0m\n\u001b[0;32m     17\u001b[0m \u001b[1;31m# 메모장에 메모 추가하기\u001b[0m\u001b[1;33m\u001b[0m\u001b[1;33m\u001b[0m\u001b[0m\n",
      "\u001b[1;31mTypeError\u001b[0m: __init__() missing 3 required positional arguments: 'title', 'page_number', and 'note'"
     ]
    }
   ],
   "source": [
    "# 메모 추가하기\n",
    "memo1 = '꿈을 이루고자 하는 용기만 있다면 모든 꿈을 이룰 수 있다.'\n",
    "memo2 = '웃음이 없는 하루는 버린 하루다.'\n",
    "memo3 = '승리는 가장 끈기 있는 사람에게 돌아간다.'\n",
    "\n",
    "# 메모 만들기\n",
    "note = Note()\n",
    "\n",
    "# 메모 쓰기\n",
    "note.write(memo1)\n",
    "note.write(memo2)\n",
    "note.write(memo3)\n",
    "\n",
    "# 메모장 만들기\n",
    "my_book = Notebook()\n",
    "\n",
    "# 메모장에 메모 추가하기\n",
    "my_book.add_note(note1)\n",
    "my_book.add_note(note2)\n",
    "my_book.add_note(note3)\n",
    "\n",
    "# 페이지 번호 확인하기\n",
    "my_book.get_page_num(3) # 3\n",
    "\n",
    "# 메모장에 메모 내용 확인하기\n",
    "# 메모 삭제하기"
   ]
  },
  {
   "cell_type": "code",
   "execution_count": null,
   "id": "e54e6fdd-a3cd-4898-8024-49733a6c5c5c",
   "metadata": {},
   "outputs": [],
   "source": []
  }
 ],
 "metadata": {
  "kernelspec": {
   "display_name": "Python 3 (ipykernel)",
   "language": "python",
   "name": "python3"
  },
  "language_info": {
   "codemirror_mode": {
    "name": "ipython",
    "version": 3
   },
   "file_extension": ".py",
   "mimetype": "text/x-python",
   "name": "python",
   "nbconvert_exporter": "python",
   "pygments_lexer": "ipython3",
   "version": "3.9.7"
  }
 },
 "nbformat": 4,
 "nbformat_minor": 5
}
