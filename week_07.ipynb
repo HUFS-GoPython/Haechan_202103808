{
 "cells": [
  {
   "cell_type": "markdown",
   "id": "1c038187-f5bc-4336-92b6-330c2b4cd1b3",
   "metadata": {},
   "source": [
    "## 함수"
   ]
  },
  {
   "cell_type": "markdown",
   "id": "3e077c0d-2231-4558-9fd3-07974266009b",
   "metadata": {},
   "source": [
    "### 1. 정의\n",
    "- 코드의 덩어리, 묶음\n",
    "- 코드의 (편리한) 재사용이 주된 목적\n",
    "- 정의하기(define) -> 호출하기(call)\n",
    "- 구조\n",
    "    - 정의하기\n",
    "        - def 함수이름(매개변수1, 2, 3, ..., ):\n",
    "        - 수행문1\n",
    "        - 수행문2\n",
    "        - ...\n",
    "        - return 출력값\n",
    "    - 호출하기\n",
    "        - 함수이름(인수1, 2, 3, ...)\n",
    "- \"인터페이스\" 잘 설정하면 내부를 몰라도 함수를 쉽게 쓸 수 있다."
   ]
  },
  {
   "cell_type": "markdown",
   "id": "34b798d5-4fdb-454a-aa0c-8f8a339bb984",
   "metadata": {},
   "source": [
    "### 2. 이름 짓기\n",
    "- 소문자 사용\n",
    "- 카멜표기법 가능이나, 언더바 권장\n",
    "    - 카멜표기법: printOutput\n",
    "- 동사 + 명사: print_output, save_model, split_text\n",
    "- 줄임말 쓰지 말기"
   ]
  },
  {
   "cell_type": "code",
   "execution_count": 2,
   "id": "67d2fd77-8699-49da-96d2-75edfa3f0d3f",
   "metadata": {},
   "outputs": [],
   "source": [
    "# ex) 내장함수 split()의 구조\n",
    "def split():\n",
    "    ####\n",
    "    return ####"
   ]
  },
  {
   "cell_type": "markdown",
   "id": "b5537ee4-0340-4b8b-b8f4-fde4120c87a7",
   "metadata": {},
   "source": [
    "### 3. 함수의 입력과 반환\n",
    "- 입력은 매개변수로\n",
    "- 반환은 return으로\n",
    "    - 수행문에서 print와 반환에서의 return의 차이는 변수 할당에 있다.\n",
    "    - return으로 반환하면 변수에 할당이 가능하다."
   ]
  },
  {
   "cell_type": "code",
   "execution_count": 3,
   "id": "e8313127-b05d-4320-86c5-a1b4ee54cbb7",
   "metadata": {},
   "outputs": [
    {
     "name": "stdout",
     "output_type": "stream",
     "text": [
      "quack\n"
     ]
    }
   ],
   "source": [
    "# 입력(X) / 반환(X)\n",
    "\n",
    "def make_a_sound():\n",
    "    print('quack')\n",
    "\n",
    "make_a_sound()"
   ]
  },
  {
   "cell_type": "code",
   "execution_count": 4,
   "id": "ac11a49f-fc8f-422c-8b70-76048bed5f6c",
   "metadata": {},
   "outputs": [
    {
     "data": {
      "text/plain": [
       "True"
      ]
     },
     "execution_count": 4,
     "metadata": {},
     "output_type": "execute_result"
    }
   ],
   "source": [
    "# 입력(X) / 반환(O)\n",
    "\n",
    "def agree():\n",
    "    return True\n",
    "\n",
    "agree()"
   ]
  },
  {
   "cell_type": "code",
   "execution_count": 12,
   "id": "13d5ed1c-a2bc-4d37-ab0f-0c6030a01646",
   "metadata": {},
   "outputs": [
    {
     "name": "stdout",
     "output_type": "stream",
     "text": [
      "hello hello\n",
      "None\n"
     ]
    }
   ],
   "source": [
    "# 입력(O) / 반환(X)\n",
    "\n",
    "def echo(anything):\n",
    "    print('{0} {0}'.format(anything))\n",
    "\n",
    "print(echo('hello'))"
   ]
  },
  {
   "cell_type": "code",
   "execution_count": 11,
   "id": "3a0f1831-a32e-4153-9fe9-a83d7467fcbc",
   "metadata": {},
   "outputs": [
    {
     "name": "stdout",
     "output_type": "stream",
     "text": [
      "hello hello\n"
     ]
    }
   ],
   "source": [
    "# 입력(O) / 반환(O)\n",
    "\n",
    "def echo(anything):\n",
    "    return '{0} {0}'.format(anything)\n",
    "\n",
    "print(echo('hello'))"
   ]
  },
  {
   "cell_type": "markdown",
   "id": "3c887bff-d48e-4467-8f0d-266a8c950270",
   "metadata": {},
   "source": [
    "### 4. 매개변수와 인수\n",
    "- `매개변수: 정의할 때 쓰임`\n",
    "    - def menu(<매개변수>)\n",
    "    - 인터페이스 내에서만 유효함\n",
    "- `인수: 호출할 때 쓰임`\n",
    "    - ex) menu(<인수>)\n",
    "- 함수 호출 시 인수에 할당된 값이 매개변수에 복제됨\n",
    "    - line = 'hello'\n",
    "    - anything = line #### copy\n",
    "    - anything 사라짐"
   ]
  },
  {
   "cell_type": "markdown",
   "id": "4165bbac-3b36-4f73-8596-834f767901e7",
   "metadata": {},
   "source": [
    "#### 인수의 종류\n",
    "- `위치 인수 (positional argument)`:\n",
    "    - 값을 순서대로 상용하는 매개변수에 복사하는 것\n",
    "- `키워드 인수 (keyword argument)`:\n",
    "    - 매개변수에 상응하는 이름을 인수에 지정한다.\n",
    "    - 위치가 달라도 됨\n",
    "- `디폴트 인수 (default argument)`:\n",
    "    - 정의할 때 매개변수의 기본값 설정\n",
    "    - 호출 시 인수가 없으면 기본값으로 적용됨\n",
    "    - default 값은 non-default값 뒤"
   ]
  },
  {
   "cell_type": "markdown",
   "id": "3ec3904a-c7c6-4e3c-b7da-f550362cd9f9",
   "metadata": {},
   "source": [
    "##### 위치 인수\n",
    "- 매개변수의 위치(순서)를 따라가는 인수\n",
    "- `<함수>(<인수1>, <인수2>, ...)`"
   ]
  },
  {
   "cell_type": "code",
   "execution_count": 14,
   "id": "929061c3-1477-4397-94d6-d0fc9ba82f75",
   "metadata": {},
   "outputs": [
    {
     "data": {
      "text/plain": [
       "{'wine': 'rioja', 'entree': 'cake', 'dessert': 'egg'}"
      ]
     },
     "execution_count": 14,
     "metadata": {},
     "output_type": "execute_result"
    }
   ],
   "source": [
    "def menu(wine, entree, dessert):\n",
    "    return {'wine':wine, 'entree':entree, 'dessert':dessert}\n",
    "\n",
    "menu('rioja', 'cake', 'egg')"
   ]
  },
  {
   "cell_type": "markdown",
   "id": "bd8590bc-bde2-4139-862a-e5bc17bab8aa",
   "metadata": {},
   "source": [
    "##### 키워드 인수\n",
    "- 키워드에 해당하는 매개변수에 복사하는 인수\n",
    "- `<함수>(<매개변수명>=<인수>, ...)`"
   ]
  },
  {
   "cell_type": "code",
   "execution_count": 15,
   "id": "7571233b-d08d-4655-99cb-edfd90e75d2d",
   "metadata": {},
   "outputs": [
    {
     "data": {
      "text/plain": [
       "{'wine': 'rioja', 'entree': 'egg', 'dessert': 'pancake'}"
      ]
     },
     "execution_count": 15,
     "metadata": {},
     "output_type": "execute_result"
    }
   ],
   "source": [
    "def menu(wine, entree, dessert):\n",
    "    return {'wine':wine, 'entree':entree, 'dessert':dessert}\n",
    "\n",
    "menu(entree='egg', wine='rioja', dessert='pancake')"
   ]
  },
  {
   "cell_type": "markdown",
   "id": "819eb941-11a2-424f-9a8d-1f03295d1af4",
   "metadata": {},
   "source": [
    "##### 디폴트 인수\n",
    "- 함수에서 미리 매개변수의 기본값을 설정하여, 인수 입력이 없으면 기본값 적용\n",
    "- `def <함수>(<매개변수>, <매개변수>, ..., <매개변수>='<디폴트값>')`\n",
    "- 항상 디폴트값을 가지는 매개변수가 맨 뒤로 오게 설정"
   ]
  },
  {
   "cell_type": "code",
   "execution_count": 16,
   "id": "0f333fc4-6ff9-471c-95b3-88c8eb0fb0b8",
   "metadata": {},
   "outputs": [
    {
     "data": {
      "text/plain": [
       "{'wine': 'rioja', 'entree': 'cake', 'dessert': 'scone'}"
      ]
     },
     "execution_count": 16,
     "metadata": {},
     "output_type": "execute_result"
    }
   ],
   "source": [
    "def menu2(wine, entree, dessert='scone'):\n",
    "    return {'wine':wine, 'entree':entree, 'dessert':dessert}\n",
    "\n",
    "menu2('rioja', 'cake')"
   ]
  },
  {
   "cell_type": "markdown",
   "id": "d2b94c1f-85d2-458d-b3c8-42388cb27e9e",
   "metadata": {},
   "source": [
    "##### 혼용\n",
    "세 가지를 혼용할 때는 위치를 동일하게 맞춰야 한다."
   ]
  },
  {
   "cell_type": "code",
   "execution_count": 18,
   "id": "e33ed918-6e1d-49c9-aa3d-75a7e789ef6d",
   "metadata": {},
   "outputs": [
    {
     "data": {
      "text/plain": [
       "{'wine': 'egg', 'entree': 'rioja', 'dessert': 'pancake'}"
      ]
     },
     "execution_count": 18,
     "metadata": {},
     "output_type": "execute_result"
    }
   ],
   "source": [
    "def menu2(wine, entree, dessert='scone'):\n",
    "    return {'wine':wine, 'entree':entree, 'dessert':dessert}\n",
    "\n",
    "menu2('egg', 'rioja', dessert='pancake')"
   ]
  },
  {
   "cell_type": "markdown",
   "id": "1df9f75f-de51-4cf2-b086-e61dde5c94df",
   "metadata": {},
   "source": [
    "### 연습문제1\n",
    "- 나이->연도\n",
    "- def fx():\n",
    "    - #입력값 = 나이\n",
    "    - #반환값 = 출생년도\n",
    "- input 입력받아서 함수 사용"
   ]
  },
  {
   "cell_type": "code",
   "execution_count": 19,
   "id": "a2e2f245-7415-4cf6-a07b-b902af6cbb3c",
   "metadata": {},
   "outputs": [
    {
     "name": "stdin",
     "output_type": "stream",
     "text": [
      " 21\n"
     ]
    },
    {
     "data": {
      "text/plain": [
       "2002"
      ]
     },
     "execution_count": 19,
     "metadata": {},
     "output_type": "execute_result"
    }
   ],
   "source": [
    "def calc_birth_year(age):\n",
    "    this_year = 2022\n",
    "    return this_year - age +1\n",
    "\n",
    "age = int(input())\n",
    "calc_birth_year(age)"
   ]
  },
  {
   "cell_type": "markdown",
   "id": "a5a46e58-505c-4cbb-a8d8-1826d265424f",
   "metadata": {},
   "source": [
    "### 연습문제2\n",
    "- 사각형 너비 구하기\n",
    "    - 입력: 두 변 길이\n",
    "    - 반환: string \"xx cm\"\n",
    "- def #####:"
   ]
  },
  {
   "cell_type": "code",
   "execution_count": 35,
   "id": "b541f7cc-1a94-441c-8e92-1136341151d7",
   "metadata": {},
   "outputs": [
    {
     "data": {
      "text/plain": [
       "'12 cm'"
      ]
     },
     "execution_count": 35,
     "metadata": {},
     "output_type": "execute_result"
    }
   ],
   "source": [
    "def calc_square_area(width, length):\n",
    "    square_area = width * length\n",
    "    return f\"{square_area} cm\"\n",
    "\n",
    "calc_square_area(3, 4)"
   ]
  },
  {
   "cell_type": "markdown",
   "id": "33aff563-2927-4ea2-9b2c-31204bdf6265",
   "metadata": {},
   "source": [
    "### 5. 함수의 호출 방식\n",
    "- 정의된 부분이 메모리에 업로드 되지만 실행은 안된다.\n",
    "- 실행은 호출 시에 한다.\n",
    "- 값을 넘기는 방식: 참조에 의한 호출(call by reference)\n",
    "- 메모리 주소가 복사되기 때문에 가변객체가 매개변수로 들어갈 때 주의할 것\n",
    "    - 리스트 계속 쌓이는 것 주의"
   ]
  },
  {
   "cell_type": "code",
   "execution_count": 20,
   "id": "c7ffd872-c611-416c-b9bd-7ceddc9aa402",
   "metadata": {},
   "outputs": [
    {
     "name": "stdout",
     "output_type": "stream",
     "text": [
      "2\n",
      "3\n",
      "1\n",
      "4\n"
     ]
    }
   ],
   "source": [
    "def calc_square_area(width, length):\n",
    "    print('1')\n",
    "    return width * length\n",
    "\n",
    "print('2')\n",
    "garo = 2\n",
    "sero = 43\n",
    "\n",
    "print('3')\n",
    "calc_square_area(garo, sero)\n",
    "\n",
    "print('4')"
   ]
  },
  {
   "cell_type": "code",
   "execution_count": 23,
   "id": "29d9d21b-6f51-42f8-b609-4724f922d4f6",
   "metadata": {},
   "outputs": [
    {
     "name": "stdout",
     "output_type": "stream",
     "text": [
      "['a']\n",
      "['a', 'b']\n",
      "['a', 'b', 'c']\n"
     ]
    }
   ],
   "source": [
    "# 리스트 쌓임: 얕은 복사\n",
    "\n",
    "def buggy(arg, result=[]):\n",
    "    result.append(arg)\n",
    "    print(result)\n",
    "\n",
    "buggy('a')\n",
    "buggy('b')\n",
    "buggy('c')"
   ]
  },
  {
   "cell_type": "code",
   "execution_count": 26,
   "id": "94f6a841-757c-4e89-83c7-e6296040e985",
   "metadata": {},
   "outputs": [
    {
     "name": "stdout",
     "output_type": "stream",
     "text": [
      "['a']\n",
      "['b']\n",
      "['c']\n"
     ]
    }
   ],
   "source": [
    "# 리스트 쌓임 방지: 수행문에서 비우기\n",
    "\n",
    "def buggy(arg, result=[]):\n",
    "    result = []\n",
    "    result.append(arg)\n",
    "    print(result)\n",
    "\n",
    "buggy('a')\n",
    "buggy('b')\n",
    "buggy('c')"
   ]
  },
  {
   "cell_type": "markdown",
   "id": "1e2c211a-4254-4dd7-8705-223aa4b0b114",
   "metadata": {},
   "source": [
    "### 6. 함수에서의 None 사용\n",
    "- 기본적으로 빈 값은 None\n",
    "- 하지만 None, True, False를 모두 사용하고 싶다면 `is None` 사용"
   ]
  },
  {
   "cell_type": "code",
   "execution_count": 31,
   "id": "b8c22f47-9230-428d-8a64-a3e21a5fd821",
   "metadata": {},
   "outputs": [
    {
     "name": "stdout",
     "output_type": "stream",
     "text": [
      "None\n",
      "True\n",
      "False\n"
     ]
    }
   ],
   "source": [
    "def discrimonate_bool(thing):\n",
    "    if thing is None:\n",
    "        print('None') # None\n",
    "    elif thing:\n",
    "        print('True') # True\n",
    "    else:\n",
    "        print('False') # False\n",
    "\n",
    "a = None\n",
    "b = True\n",
    "c = False\n",
    "\n",
    "discrimonate_bool(a)\n",
    "discrimonate_bool(b)\n",
    "discrimonate_bool(c)"
   ]
  },
  {
   "cell_type": "code",
   "execution_count": 32,
   "id": "56dff4eb-8fe4-48c4-a262-b5fcccecec7a",
   "metadata": {},
   "outputs": [
    {
     "name": "stdout",
     "output_type": "stream",
     "text": [
      "[2, 3] eggs\n",
      "[0, 1] ham\n"
     ]
    }
   ],
   "source": [
    "def spam(eggs):\n",
    "    eggs.append(1)\n",
    "    eggs = [2, 3]\n",
    "    print(eggs, 'eggs')\n",
    "    \n",
    "ham = [0]\n",
    "spam(ham)\n",
    "print(ham, 'ham')"
   ]
  },
  {
   "cell_type": "markdown",
   "id": "0628fa9c-5922-4c1c-96c0-2ecc4e68b05a",
   "metadata": {},
   "source": [
    "#### 연습문제\n",
    "- 목표: 리스트 쌓이거나 비우는 옵션 모두 설정하기\n",
    "- None 사용하기"
   ]
  },
  {
   "cell_type": "code",
   "execution_count": 51,
   "id": "d545fbb1-0d16-4ced-a16e-31506ce3e205",
   "metadata": {},
   "outputs": [
    {
     "name": "stdout",
     "output_type": "stream",
     "text": [
      "['a']\n",
      "['a', 'b']\n",
      "['a']\n",
      "['b']\n"
     ]
    }
   ],
   "source": [
    "def nonbuggy(arg, result=None):\n",
    "    if result is None:\n",
    "        result = []\n",
    "    result.append(arg)\n",
    "    print(result)\n",
    "    \n",
    "list_a = []\n",
    "nonbuggy('a', list_a)\n",
    "nonbuggy('b', list_a)\n",
    "\n",
    "nonbuggy('a')\n",
    "nonbuggy('b')"
   ]
  },
  {
   "cell_type": "markdown",
   "id": "b1fc6d61-11ea-4a6e-ae72-baef7a7cddcc",
   "metadata": {},
   "source": [
    "### 7. 전역변수 vs 지역변수\n",
    "- 전역변수: 프로그램 전체에서 사용 가능\n",
    "    - 함수에서는 `global`로 선언 가능\n",
    "- 지역변수: 함수 내에서만 사용 가능"
   ]
  },
  {
   "cell_type": "code",
   "execution_count": 33,
   "id": "570b2c95-a21e-4c2c-ba43-8389b70a43b2",
   "metadata": {},
   "outputs": [
    {
     "name": "stdout",
     "output_type": "stream",
     "text": [
      "London\n",
      "London\n"
     ]
    }
   ],
   "source": [
    "def fx():\n",
    "    global city\n",
    "    city = 'London'\n",
    "    print(city)\n",
    "\n",
    "city = 'Paris'\n",
    "fx()\n",
    "print(city)"
   ]
  },
  {
   "cell_type": "markdown",
   "id": "d70d0b37-5ae8-435b-b420-a3839bce1918",
   "metadata": {},
   "source": [
    "### 8. Doc String\n",
    "- 함수에 대한 설명\n",
    "    - 매개변수에 대한 설명, 타입\n",
    "    - 함수의 의도\n",
    "- 독스트링 확인\n",
    "    - `help(<함수>)`\n",
    "    - `<함수>.__doc__`"
   ]
  },
  {
   "cell_type": "code",
   "execution_count": 36,
   "id": "18476f7a-719d-4e87-8a20-8fd2bd1a4c7b",
   "metadata": {},
   "outputs": [
    {
     "name": "stdout",
     "output_type": "stream",
     "text": [
      "hello hello\n"
     ]
    }
   ],
   "source": [
    "def echo(anything):\n",
    "    \"\"\"\n",
    "    doc string\n",
    "    ...\n",
    "    \"\"\"\n",
    "    return '{0} {0}'.format(anything)\n",
    "\n",
    "print(echo('hello'))"
   ]
  },
  {
   "cell_type": "code",
   "execution_count": 37,
   "id": "fa517d8b-922d-4a73-b4b7-2e9cb0a8d67d",
   "metadata": {},
   "outputs": [
    {
     "name": "stdout",
     "output_type": "stream",
     "text": [
      "Help on function echo in module __main__:\n",
      "\n",
      "echo(anything)\n",
      "    doc string\n",
      "    ...\n",
      "\n"
     ]
    },
    {
     "data": {
      "text/plain": [
       "'\\n    doc string\\n    ...\\n    '"
      ]
     },
     "execution_count": 37,
     "metadata": {},
     "output_type": "execute_result"
    }
   ],
   "source": [
    "help(echo)\n",
    "echo.__doc__"
   ]
  },
  {
   "cell_type": "markdown",
   "id": "d24ada14-a7e4-466b-a099-922f326e7966",
   "metadata": {},
   "source": [
    "## brown 코퍼스 정제하기"
   ]
  },
  {
   "cell_type": "code",
   "execution_count": 39,
   "id": "3f3be91f-7971-4977-889b-e1baecc2e488",
   "metadata": {
    "collapsed": true,
    "jupyter": {
     "outputs_hidden": true
    },
    "tags": []
   },
   "outputs": [
    {
     "name": "stderr",
     "output_type": "stream",
     "text": [
      "[nltk_data] Downloading package brown to\n",
      "[nltk_data]     C:\\Users\\bingo\\AppData\\Roaming\\nltk_data...\n",
      "[nltk_data]   Package brown is already up-to-date!\n"
     ]
    }
   ],
   "source": [
    "import nltk\n",
    "nltk.download('brown')\n",
    "\n",
    "#1. 데이터셋 가져오기\n",
    "brown = nltk.corpus.brown.raw(categories='romance')\n",
    "romance = brown[:5000]"
   ]
  },
  {
   "cell_type": "code",
   "execution_count": 42,
   "id": "61d07e0a-5cdc-4163-9543-ad908db9966a",
   "metadata": {
    "collapsed": true,
    "jupyter": {
     "outputs_hidden": true
    },
    "tags": []
   },
   "outputs": [
    {
     "data": {
      "text/plain": [
       "\"\\n\\n\\tThey/ppss neither/cc liked/vbd nor/cc disliked/vbd the/at Old/jj-tl Man/nn-tl ./.\\nTo/in them/ppo he/pps could/md have/hv been/ben the/at broken/vbn bell/nn in/in the/at church/nn tower/nn which/wdt rang/vbd before/in and/cc after/in Mass/nn-tl ,/, and/cc at/in noon/nn ,/, and/cc at/in six/cd each/dt evening/nn --/-- its/pp$ tone/nn ,/, repetitive/jj ,/, monotonous/jj ,/, never/rb breaking/vbg the/at boredom/nn of/in the/at streets/nns ./.\\nThe/at Old/jj-tl Man/nn-tl was/bedz unimportant/jj ./.\\n\\n\\n\\tYet/rb if/cs he/pps were/bed not/* there/rb ,/, they/ppss would/md have/hv missed/vbn him/ppo ,/, as/cs they/ppss would/md have/hv missed/vbn the/at sounds/nns of/in bees/nns buzzing/vbg against/in the/at screen/nn door/nn in/in early/jj June/np ;/. ;/.\\nor/cc the/at smell/nn of/in thick/jj tomato/nn paste/nn --/-- the/at ripe/jj smell/nn that/wps was/bedz both/abx sweet/jj and/cc sour/jj --/-- rising/vbg up/rp from/in aluminum/nn trays/nns wrapped/vbn in/in fly-dotted/jj cheesecloth/nn ./.\\nOr/cc the/at surging/vbg whirling/vbg sounds/nns of/in bats/nns at/in night/nn ,/, when/wrb their/pp$ black/jj bodies/nns dived/vbd into/in the/at blackness/nn above/in and/cc below/in the/at amber/jj street/nn lights/nns ./.\\nOr/cc the/at bay/nn of/in female/nn dogs/nns in/in heat/nn ./.\\n\\n\\n\\tThey/ppss never/rb called/vbd him/ppo by/in name/nn ,/, although/cs he/pps had/hvd one/pn ./.\\nFilippo/np Rossi/np ,/, that's/dt+bez what/wdt he/pps was/bedz called/vbn in/in the/at old/jj country/nn ;/. ;/.\\nbut/cc here/rb he/pps was/bedz just/rb Signore/np or/cc the/at Old/jj-tl Man/nn-tl ./.\\nBut/cc this/dt was/bedz not/* unusual/jj ,/, because/cs youth/nn in/in these/dts quarters/nns was/bedz always/rb pushed/vbn at/in a/at distance/nn from/in its/pp$ elders/nns ./.\\nYouth/nn obeyed/vbd when/wrb commanded/vbn ./.\\nIt/pps went/vbd to/in church/nn on/in Sunday/nr and/cc one/cd Saturday/nr a/at month/nn went/vbd to/in confession/nn ./.\\nBut/cc youth/nn asked/vbd nothing/pn of/in its/pp$ parents/nns --/-- not/* a/at touch/nn of/in the/at hand/nn or/cc a/at kiss/nn given/vbn in/in passing/vbg ./.\\n\\n\\n\\tThe/at only/ap thing/nn unusual/jj about/in the/at Old/jj-tl Man/nn-tl had/hvd long/jj since/rb happened/vbn ./.\\nBut/cc the/at past/nn was/bedz dead/jj here/rb as/cs the/at present/jj was/bedz dead/jj ./.\\nOnce/cs the/at Old/jj-tl Man/nn-tl had/hvd had/hvn a/at wife/nn ./.\\nAnd/cc once/cs she/pps ,/, too/rb ,/, ignored/vbd him/ppo ./.\\nWith/in a/at tiny/jj fur-piece/nn wrapped/vbd around/in her/pp$ shoulders/nns ,/, she/pps wiggled/vbd her/pp$ satin-covered/jj buttocks/nns down/in the/at street/nn before/in him/ppo and/cc didn't/dod* stop/vb ./.\\nIn/in one/cd hand/nn she/pps clutched/vbd a/at hundred/cd dollar/nn bill/nn and/cc in/in the/at other/ap a/at straw/nn suitcase/nn ./.\\nThe/at way/nn she/pps strutted/vbd down/in the/at street/nn ,/, the/at Old/jj-tl Man/nn-tl would/md have/hv been/ben blind/jj not/* to/to have/hv noticed/vbn both/abx ./.\\nWithout/in looking/vbg at/in him/ppo ,/, without/in looking/vbg at/in anything/pn except/in Drexel/np-tl Street/nn-tl directly/rb in/in front/nn of/in her/ppo ,/, she/pps climbed/vbd up/rp into/in one/cd of/in those/dts orange/jj streetcars/nns ,/, rode/vbd away/rb in/in it/ppo ,/, and/cc never/rb came/vbd back/rb ./.\\n\\n\\n\\t``/`` But/cc she/pps shouldn't/md* have/hv come/vbn here/rb in/in the/at first/od place/nn ''/'' ,/, the/at women/nns had/hvd said/vbn ./.\\n\\n\\n\\t``/`` No/rb ,/, no/rb ./.\\nNot/* that/dt one/pn ./.\\nShe/pps thought/vbd she/pps was/bedz bigger/jjr than/cs we/ppss are/ber because/cs she/pps came/vbd from/in Torino/np ''/'' ./.\\n\\n\\n\\t``/`` Eh/uh ,/, Torino/np !/. !/.\\nShe/pps gave/vbd herself/ppl fancy/jj airs/nns !/. !/.\\nJust/rb because/cs she/pps had/hvd a/at part/nn on/in the/at stage/nn in/in the/at old/jj country/nn ,/, she/pps thought/vbd she/pps could/md carry/vb her/pp$ head/nn higher/rbr than/cs ours/pp$$ ''/'' ./.\\nThey/ppss had/hvd slapped/vbn their/pp$ thighs/nns ./.\\n\\n\\n\\t``/`` It's/pps+bez not/* for/in making/vbg pretty/jj speeches/nns about/in Dante/np those/dts actresses/nns get/vb paid/vbn so/ql good/rb ''/'' ./.\\n\\n\\n\\t``/`` Henh/uh ''/'' !/. !/.\\nCalloused/vbn fingers/nns ,/, caressed/vbn only/rb by/in the/at smoothness/nn of/in polished/vbn rosaries/nns ,/, had/hvd swayed/vbn excitedly/rb beneath/in puckered/vbn chins/nns where/wrb tiny/jj black/jj hairs/nns sprouted/vbd ,/, never/rb to/to be/be tweezed/vbn away/rb ./.\\nMauve-colored/jj mouths/nns that/wps had/hvd never/rb known/vbn anything/pn sweeter/jjr than/cs the/at taste/nn of/in new/jj wine/nn and/cc the/at passion/nn of/in man's/nn$ tongue/nn had/hvd not/* smiled/vbn ,/, but/cc had/hvd condemned/vbn again/rb and/cc again/rb ./.\\n``/`` Puttana/fw-nn ''/'' !/. !/.\\n\\n\\n\\tBut/cc if/cs the/at Old/jj-tl Man/nn-tl even/rb thought/vbd about/in his/pp$ wife/nn now/rb ,/, nobody/pn cared/vbd a/at fig/nn ./.\\nIt/pps was/bedz enough/ap for/in people/nns to/to know/vb that/cs at/in one/cd time/nn he/pps had/hvd looked/vbn down/in the/at street/nn at/in the/at f\""
      ]
     },
     "execution_count": 42,
     "metadata": {},
     "output_type": "execute_result"
    }
   ],
   "source": [
    "romance #[[They, neither, liked, ..., ], [], ...]"
   ]
  },
  {
   "cell_type": "code",
   "execution_count": 47,
   "id": "57b9c392-d79b-4000-8131-22dc0aba2f23",
   "metadata": {
    "tags": []
   },
   "outputs": [],
   "source": [
    "#2. 문장 분절\n",
    "sentence = [sentence.strip() for sentence in romance.split('./.')]"
   ]
  },
  {
   "cell_type": "code",
   "execution_count": 55,
   "id": "230e9e50-7782-402d-8fa9-7e88e533c158",
   "metadata": {},
   "outputs": [
    {
     "name": "stdout",
     "output_type": "stream",
     "text": [
      "They/ppss neither/cc liked/vbd nor/cc disliked/vbd the/at Old/jj-tl Man/nn-tl\n",
      "['They', 'neither', 'liked', 'nor', 'disliked', 'the', 'Old', 'Man']\n",
      "['They', 'neither', 'liked', 'nor', 'disliked', 'the', 'Old', 'Man']\n"
     ]
    }
   ],
   "source": [
    "# 한 문장 샘플\n",
    "example = sentence[0]\n",
    "print(example)\n",
    "\n",
    "# 1\n",
    "print([word.split('/')[0] for word in example.split(' ')])\n",
    "\n",
    "# 2\n",
    "print([word[:word.find('/')] for word in example.split(' ') if word.find('/')])"
   ]
  },
  {
   "cell_type": "code",
   "execution_count": 72,
   "id": "61982516-43d1-4a14-a59b-dfa6219d6777",
   "metadata": {
    "collapsed": true,
    "jupyter": {
     "outputs_hidden": true
    },
    "tags": []
   },
   "outputs": [
    {
     "data": {
      "text/plain": [
       "[['They', 'neither', 'liked', 'nor', 'disliked', 'the', 'Old', 'Man'],\n",
       " ['To',\n",
       "  'them',\n",
       "  'he',\n",
       "  'could',\n",
       "  'have',\n",
       "  'been',\n",
       "  'the',\n",
       "  'broken',\n",
       "  'bell',\n",
       "  'in',\n",
       "  'the',\n",
       "  'church',\n",
       "  'tower',\n",
       "  'which',\n",
       "  'rang',\n",
       "  'before',\n",
       "  'and',\n",
       "  'after',\n",
       "  'Mass',\n",
       "  ',',\n",
       "  'and',\n",
       "  'at',\n",
       "  'noon',\n",
       "  ',',\n",
       "  'and',\n",
       "  'at',\n",
       "  'six',\n",
       "  'each',\n",
       "  'evening',\n",
       "  '--',\n",
       "  'its',\n",
       "  'tone',\n",
       "  ',',\n",
       "  'repetitive',\n",
       "  ',',\n",
       "  'monotonous',\n",
       "  ',',\n",
       "  'never',\n",
       "  'breaking',\n",
       "  'the',\n",
       "  'boredom',\n",
       "  'of',\n",
       "  'the',\n",
       "  'streets'],\n",
       " ['The', 'Old', 'Man', 'was', 'unimportant'],\n",
       " ['Yet',\n",
       "  'if',\n",
       "  'he',\n",
       "  'were',\n",
       "  'not',\n",
       "  'there',\n",
       "  ',',\n",
       "  'they',\n",
       "  'would',\n",
       "  'have',\n",
       "  'missed',\n",
       "  'him',\n",
       "  ',',\n",
       "  'as',\n",
       "  'they',\n",
       "  'would',\n",
       "  'have',\n",
       "  'missed',\n",
       "  'the',\n",
       "  'sounds',\n",
       "  'of',\n",
       "  'bees',\n",
       "  'buzzing',\n",
       "  'against',\n",
       "  'the',\n",
       "  'screen',\n",
       "  'door',\n",
       "  'in',\n",
       "  'early',\n",
       "  'June',\n",
       "  ';',\n",
       "  ';',\n",
       "  'the',\n",
       "  'smell',\n",
       "  'of',\n",
       "  'thick',\n",
       "  'tomato',\n",
       "  'paste',\n",
       "  '--',\n",
       "  'the',\n",
       "  'ripe',\n",
       "  'smell',\n",
       "  'that',\n",
       "  'was',\n",
       "  'both',\n",
       "  'sweet',\n",
       "  'and',\n",
       "  'sour',\n",
       "  '--',\n",
       "  'rising',\n",
       "  'up',\n",
       "  'from',\n",
       "  'aluminum',\n",
       "  'trays',\n",
       "  'wrapped',\n",
       "  'in',\n",
       "  'fly-dotted',\n",
       "  'cheesecloth'],\n",
       " ['Or',\n",
       "  'the',\n",
       "  'surging',\n",
       "  'whirling',\n",
       "  'sounds',\n",
       "  'of',\n",
       "  'bats',\n",
       "  'at',\n",
       "  'night',\n",
       "  ',',\n",
       "  'when',\n",
       "  'their',\n",
       "  'black',\n",
       "  'bodies',\n",
       "  'dived',\n",
       "  'into',\n",
       "  'the',\n",
       "  'blackness',\n",
       "  'above',\n",
       "  'and',\n",
       "  'below',\n",
       "  'the',\n",
       "  'amber',\n",
       "  'street',\n",
       "  'lights'],\n",
       " ['Or', 'the', 'bay', 'of', 'female', 'dogs', 'in', 'heat'],\n",
       " ['They',\n",
       "  'never',\n",
       "  'called',\n",
       "  'him',\n",
       "  'by',\n",
       "  'name',\n",
       "  ',',\n",
       "  'although',\n",
       "  'he',\n",
       "  'had',\n",
       "  'one'],\n",
       " ['Filippo',\n",
       "  'Rossi',\n",
       "  ',',\n",
       "  \"that's\",\n",
       "  'what',\n",
       "  'he',\n",
       "  'was',\n",
       "  'called',\n",
       "  'in',\n",
       "  'the',\n",
       "  'old',\n",
       "  'country',\n",
       "  ';',\n",
       "  ';',\n",
       "  'here',\n",
       "  'he',\n",
       "  'was',\n",
       "  'just',\n",
       "  'Signore',\n",
       "  'or',\n",
       "  'the',\n",
       "  'Old',\n",
       "  'Man'],\n",
       " ['But',\n",
       "  'this',\n",
       "  'was',\n",
       "  'not',\n",
       "  'unusual',\n",
       "  ',',\n",
       "  'because',\n",
       "  'youth',\n",
       "  'in',\n",
       "  'these',\n",
       "  'quarters',\n",
       "  'was',\n",
       "  'always',\n",
       "  'pushed',\n",
       "  'at',\n",
       "  'a',\n",
       "  'distance',\n",
       "  'from',\n",
       "  'its',\n",
       "  'elders'],\n",
       " ['Youth', 'obeyed', 'when', 'commanded'],\n",
       " ['It',\n",
       "  'went',\n",
       "  'to',\n",
       "  'church',\n",
       "  'on',\n",
       "  'Sunday',\n",
       "  'and',\n",
       "  'one',\n",
       "  'Saturday',\n",
       "  'a',\n",
       "  'month',\n",
       "  'went',\n",
       "  'to',\n",
       "  'confession'],\n",
       " ['But',\n",
       "  'youth',\n",
       "  'asked',\n",
       "  'nothing',\n",
       "  'of',\n",
       "  'its',\n",
       "  'parents',\n",
       "  '--',\n",
       "  'not',\n",
       "  'a',\n",
       "  'touch',\n",
       "  'of',\n",
       "  'the',\n",
       "  'hand',\n",
       "  'or',\n",
       "  'a',\n",
       "  'kiss',\n",
       "  'given',\n",
       "  'in',\n",
       "  'passing'],\n",
       " ['The',\n",
       "  'only',\n",
       "  'thing',\n",
       "  'unusual',\n",
       "  'about',\n",
       "  'the',\n",
       "  'Old',\n",
       "  'Man',\n",
       "  'had',\n",
       "  'long',\n",
       "  'since',\n",
       "  'happened'],\n",
       " ['But',\n",
       "  'the',\n",
       "  'past',\n",
       "  'was',\n",
       "  'dead',\n",
       "  'here',\n",
       "  'as',\n",
       "  'the',\n",
       "  'present',\n",
       "  'was',\n",
       "  'dead'],\n",
       " ['Once', 'the', 'Old', 'Man', 'had', 'had', 'a', 'wife'],\n",
       " ['And', 'once', 'she', ',', 'too', ',', 'ignored', 'him'],\n",
       " ['With',\n",
       "  'a',\n",
       "  'tiny',\n",
       "  'fur-piece',\n",
       "  'wrapped',\n",
       "  'around',\n",
       "  'her',\n",
       "  'shoulders',\n",
       "  ',',\n",
       "  'she',\n",
       "  'wiggled',\n",
       "  'her',\n",
       "  'satin-covered',\n",
       "  'buttocks',\n",
       "  'down',\n",
       "  'the',\n",
       "  'street',\n",
       "  'before',\n",
       "  'him',\n",
       "  'and',\n",
       "  \"didn't\",\n",
       "  'stop'],\n",
       " ['In',\n",
       "  'one',\n",
       "  'hand',\n",
       "  'she',\n",
       "  'clutched',\n",
       "  'a',\n",
       "  'hundred',\n",
       "  'dollar',\n",
       "  'bill',\n",
       "  'and',\n",
       "  'in',\n",
       "  'the',\n",
       "  'other',\n",
       "  'a',\n",
       "  'straw',\n",
       "  'suitcase'],\n",
       " ['The',\n",
       "  'way',\n",
       "  'she',\n",
       "  'strutted',\n",
       "  'down',\n",
       "  'the',\n",
       "  'street',\n",
       "  ',',\n",
       "  'the',\n",
       "  'Old',\n",
       "  'Man',\n",
       "  'would',\n",
       "  'have',\n",
       "  'been',\n",
       "  'blind',\n",
       "  'not',\n",
       "  'to',\n",
       "  'have',\n",
       "  'noticed',\n",
       "  'both'],\n",
       " ['Without',\n",
       "  'looking',\n",
       "  'at',\n",
       "  'him',\n",
       "  ',',\n",
       "  'without',\n",
       "  'looking',\n",
       "  'at',\n",
       "  'anything',\n",
       "  'except',\n",
       "  'Drexel',\n",
       "  'Street',\n",
       "  'directly',\n",
       "  'in',\n",
       "  'front',\n",
       "  'of',\n",
       "  'her',\n",
       "  ',',\n",
       "  'she',\n",
       "  'climbed',\n",
       "  'up',\n",
       "  'into',\n",
       "  'one',\n",
       "  'of',\n",
       "  'those',\n",
       "  'orange',\n",
       "  'streetcars',\n",
       "  ',',\n",
       "  'rode',\n",
       "  'away',\n",
       "  'in',\n",
       "  'it',\n",
       "  ',',\n",
       "  'and',\n",
       "  'never',\n",
       "  'came',\n",
       "  'back'],\n",
       " ['``',\n",
       "  'But',\n",
       "  'she',\n",
       "  \"shouldn't\",\n",
       "  'have',\n",
       "  'come',\n",
       "  'here',\n",
       "  'in',\n",
       "  'the',\n",
       "  'first',\n",
       "  'place',\n",
       "  \"''\",\n",
       "  ',',\n",
       "  'the',\n",
       "  'women',\n",
       "  'had',\n",
       "  'said'],\n",
       " ['``', 'No', ',', 'no'],\n",
       " ['Not', 'that', 'one'],\n",
       " ['She',\n",
       "  'thought',\n",
       "  'she',\n",
       "  'was',\n",
       "  'bigger',\n",
       "  'than',\n",
       "  'we',\n",
       "  'are',\n",
       "  'because',\n",
       "  'she',\n",
       "  'came',\n",
       "  'from',\n",
       "  'Torino',\n",
       "  \"''\"],\n",
       " ['``',\n",
       "  'Eh',\n",
       "  ',',\n",
       "  'Torino',\n",
       "  '!',\n",
       "  '!',\n",
       "  'gave',\n",
       "  'herself',\n",
       "  'fancy',\n",
       "  'airs',\n",
       "  '!',\n",
       "  '!',\n",
       "  'because',\n",
       "  'she',\n",
       "  'had',\n",
       "  'a',\n",
       "  'part',\n",
       "  'on',\n",
       "  'the',\n",
       "  'stage',\n",
       "  'in',\n",
       "  'the',\n",
       "  'old',\n",
       "  'country',\n",
       "  ',',\n",
       "  'she',\n",
       "  'thought',\n",
       "  'she',\n",
       "  'could',\n",
       "  'carry',\n",
       "  'her',\n",
       "  'head',\n",
       "  'higher',\n",
       "  'than',\n",
       "  'ours',\n",
       "  \"''\"],\n",
       " ['They', 'had', 'slapped', 'their', 'thighs'],\n",
       " ['``',\n",
       "  \"It's\",\n",
       "  'not',\n",
       "  'for',\n",
       "  'making',\n",
       "  'pretty',\n",
       "  'speeches',\n",
       "  'about',\n",
       "  'Dante',\n",
       "  'those',\n",
       "  'actresses',\n",
       "  'get',\n",
       "  'paid',\n",
       "  'so',\n",
       "  'good',\n",
       "  \"''\"],\n",
       " ['``',\n",
       "  'Henh',\n",
       "  \"''\",\n",
       "  '!',\n",
       "  '!',\n",
       "  'fingers',\n",
       "  ',',\n",
       "  'caressed',\n",
       "  'only',\n",
       "  'by',\n",
       "  'the',\n",
       "  'smoothness',\n",
       "  'of',\n",
       "  'polished',\n",
       "  'rosaries',\n",
       "  ',',\n",
       "  'had',\n",
       "  'swayed',\n",
       "  'excitedly',\n",
       "  'beneath',\n",
       "  'puckered',\n",
       "  'chins',\n",
       "  'where',\n",
       "  'tiny',\n",
       "  'black',\n",
       "  'hairs',\n",
       "  'sprouted',\n",
       "  ',',\n",
       "  'never',\n",
       "  'to',\n",
       "  'be',\n",
       "  'tweezed',\n",
       "  'away'],\n",
       " ['Mauve-colored',\n",
       "  'mouths',\n",
       "  'that',\n",
       "  'had',\n",
       "  'never',\n",
       "  'known',\n",
       "  'anything',\n",
       "  'sweeter',\n",
       "  'than',\n",
       "  'the',\n",
       "  'taste',\n",
       "  'of',\n",
       "  'new',\n",
       "  'wine',\n",
       "  'and',\n",
       "  'the',\n",
       "  'passion',\n",
       "  'of',\n",
       "  \"man's\",\n",
       "  'tongue',\n",
       "  'had',\n",
       "  'not',\n",
       "  'smiled',\n",
       "  ',',\n",
       "  'but',\n",
       "  'had',\n",
       "  'condemned',\n",
       "  'again',\n",
       "  'and',\n",
       "  'again'],\n",
       " ['``',\n",
       "  'Puttana',\n",
       "  \"''\",\n",
       "  '!',\n",
       "  '!',\n",
       "  'if',\n",
       "  'the',\n",
       "  'Old',\n",
       "  'Man',\n",
       "  'even',\n",
       "  'thought',\n",
       "  'about',\n",
       "  'his',\n",
       "  'wife',\n",
       "  'now',\n",
       "  ',',\n",
       "  'nobody',\n",
       "  'cared',\n",
       "  'a',\n",
       "  'fig'],\n",
       " ['It',\n",
       "  'was',\n",
       "  'enough',\n",
       "  'for',\n",
       "  'people',\n",
       "  'to',\n",
       "  'know',\n",
       "  'that',\n",
       "  'at',\n",
       "  'one',\n",
       "  'time',\n",
       "  'he',\n",
       "  'had',\n",
       "  'looked',\n",
       "  'down',\n",
       "  'the',\n",
       "  'street',\n",
       "  'at',\n",
       "  'the',\n",
       "  'f']]"
      ]
     },
     "execution_count": 72,
     "metadata": {},
     "output_type": "execute_result"
    }
   ],
   "source": [
    "#3. 단어 분절하고 pos tag 떼기\n",
    "sentence_tokens = [[word.split('/')[0] for word in lists.split(' ')] for lists in sentence]\n",
    "sentence_tokens"
   ]
  },
  {
   "cell_type": "code",
   "execution_count": 73,
   "id": "f0aa88f7-1637-430b-9a44-9f9cbfb8c68c",
   "metadata": {
    "tags": []
   },
   "outputs": [
    {
     "data": {
      "text/plain": [
       "{'!', \"''\", ',', '--', ';', '``'}"
      ]
     },
     "execution_count": 73,
     "metadata": {},
     "output_type": "execute_result"
    }
   ],
   "source": [
    "# 4. sentence_tokens에서 없앨 문장부호 리스트 만들기\n",
    "import string\n",
    "punctuations = list(string.punctuation)\n",
    "\n",
    "# 1. 전체 텍스트에서 punctuations에 없는 문장부호 찾아서 리스트 추가하기\n",
    "users_punctuations = set([punct for sent in sentence_tokens for punct in sent if not punct[0].isalnum()])\n",
    "users_punctuations\n",
    "# 2. 내가 손수 추가하기"
   ]
  },
  {
   "cell_type": "code",
   "execution_count": 74,
   "id": "d27879f7-79bb-495b-85e2-cae92c73d2fd",
   "metadata": {
    "collapsed": true,
    "jupyter": {
     "outputs_hidden": true
    },
    "tags": []
   },
   "outputs": [
    {
     "data": {
      "text/plain": [
       "[['They', 'neither', 'liked', 'nor', 'disliked', 'the', 'Old', 'Man'],\n",
       " ['To',\n",
       "  'them',\n",
       "  'he',\n",
       "  'could',\n",
       "  'have',\n",
       "  'been',\n",
       "  'the',\n",
       "  'broken',\n",
       "  'bell',\n",
       "  'in',\n",
       "  'the',\n",
       "  'church',\n",
       "  'tower',\n",
       "  'which',\n",
       "  'rang',\n",
       "  'before',\n",
       "  'and',\n",
       "  'after',\n",
       "  'Mass',\n",
       "  'and',\n",
       "  'at',\n",
       "  'noon',\n",
       "  'and',\n",
       "  'at',\n",
       "  'six',\n",
       "  'each',\n",
       "  'evening',\n",
       "  'its',\n",
       "  'tone',\n",
       "  'repetitive',\n",
       "  'monotonous',\n",
       "  'never',\n",
       "  'breaking',\n",
       "  'the',\n",
       "  'boredom',\n",
       "  'of',\n",
       "  'the',\n",
       "  'streets'],\n",
       " ['The', 'Old', 'Man', 'was', 'unimportant'],\n",
       " ['Yet',\n",
       "  'if',\n",
       "  'he',\n",
       "  'were',\n",
       "  'not',\n",
       "  'there',\n",
       "  'they',\n",
       "  'would',\n",
       "  'have',\n",
       "  'missed',\n",
       "  'him',\n",
       "  'as',\n",
       "  'they',\n",
       "  'would',\n",
       "  'have',\n",
       "  'missed',\n",
       "  'the',\n",
       "  'sounds',\n",
       "  'of',\n",
       "  'bees',\n",
       "  'buzzing',\n",
       "  'against',\n",
       "  'the',\n",
       "  'screen',\n",
       "  'door',\n",
       "  'in',\n",
       "  'early',\n",
       "  'June',\n",
       "  'the',\n",
       "  'smell',\n",
       "  'of',\n",
       "  'thick',\n",
       "  'tomato',\n",
       "  'paste',\n",
       "  'the',\n",
       "  'ripe',\n",
       "  'smell',\n",
       "  'that',\n",
       "  'was',\n",
       "  'both',\n",
       "  'sweet',\n",
       "  'and',\n",
       "  'sour',\n",
       "  'rising',\n",
       "  'up',\n",
       "  'from',\n",
       "  'aluminum',\n",
       "  'trays',\n",
       "  'wrapped',\n",
       "  'in',\n",
       "  'fly-dotted',\n",
       "  'cheesecloth'],\n",
       " ['Or',\n",
       "  'the',\n",
       "  'surging',\n",
       "  'whirling',\n",
       "  'sounds',\n",
       "  'of',\n",
       "  'bats',\n",
       "  'at',\n",
       "  'night',\n",
       "  'when',\n",
       "  'their',\n",
       "  'black',\n",
       "  'bodies',\n",
       "  'dived',\n",
       "  'into',\n",
       "  'the',\n",
       "  'blackness',\n",
       "  'above',\n",
       "  'and',\n",
       "  'below',\n",
       "  'the',\n",
       "  'amber',\n",
       "  'street',\n",
       "  'lights'],\n",
       " ['Or', 'the', 'bay', 'of', 'female', 'dogs', 'in', 'heat'],\n",
       " ['They',\n",
       "  'never',\n",
       "  'called',\n",
       "  'him',\n",
       "  'by',\n",
       "  'name',\n",
       "  'although',\n",
       "  'he',\n",
       "  'had',\n",
       "  'one'],\n",
       " ['Filippo',\n",
       "  'Rossi',\n",
       "  \"that's\",\n",
       "  'what',\n",
       "  'he',\n",
       "  'was',\n",
       "  'called',\n",
       "  'in',\n",
       "  'the',\n",
       "  'old',\n",
       "  'country',\n",
       "  'here',\n",
       "  'he',\n",
       "  'was',\n",
       "  'just',\n",
       "  'Signore',\n",
       "  'or',\n",
       "  'the',\n",
       "  'Old',\n",
       "  'Man'],\n",
       " ['But',\n",
       "  'this',\n",
       "  'was',\n",
       "  'not',\n",
       "  'unusual',\n",
       "  'because',\n",
       "  'youth',\n",
       "  'in',\n",
       "  'these',\n",
       "  'quarters',\n",
       "  'was',\n",
       "  'always',\n",
       "  'pushed',\n",
       "  'at',\n",
       "  'a',\n",
       "  'distance',\n",
       "  'from',\n",
       "  'its',\n",
       "  'elders'],\n",
       " ['Youth', 'obeyed', 'when', 'commanded'],\n",
       " ['It',\n",
       "  'went',\n",
       "  'to',\n",
       "  'church',\n",
       "  'on',\n",
       "  'Sunday',\n",
       "  'and',\n",
       "  'one',\n",
       "  'Saturday',\n",
       "  'a',\n",
       "  'month',\n",
       "  'went',\n",
       "  'to',\n",
       "  'confession'],\n",
       " ['But',\n",
       "  'youth',\n",
       "  'asked',\n",
       "  'nothing',\n",
       "  'of',\n",
       "  'its',\n",
       "  'parents',\n",
       "  'not',\n",
       "  'a',\n",
       "  'touch',\n",
       "  'of',\n",
       "  'the',\n",
       "  'hand',\n",
       "  'or',\n",
       "  'a',\n",
       "  'kiss',\n",
       "  'given',\n",
       "  'in',\n",
       "  'passing'],\n",
       " ['The',\n",
       "  'only',\n",
       "  'thing',\n",
       "  'unusual',\n",
       "  'about',\n",
       "  'the',\n",
       "  'Old',\n",
       "  'Man',\n",
       "  'had',\n",
       "  'long',\n",
       "  'since',\n",
       "  'happened'],\n",
       " ['But',\n",
       "  'the',\n",
       "  'past',\n",
       "  'was',\n",
       "  'dead',\n",
       "  'here',\n",
       "  'as',\n",
       "  'the',\n",
       "  'present',\n",
       "  'was',\n",
       "  'dead'],\n",
       " ['Once', 'the', 'Old', 'Man', 'had', 'had', 'a', 'wife'],\n",
       " ['And', 'once', 'she', 'too', 'ignored', 'him'],\n",
       " ['With',\n",
       "  'a',\n",
       "  'tiny',\n",
       "  'fur-piece',\n",
       "  'wrapped',\n",
       "  'around',\n",
       "  'her',\n",
       "  'shoulders',\n",
       "  'she',\n",
       "  'wiggled',\n",
       "  'her',\n",
       "  'satin-covered',\n",
       "  'buttocks',\n",
       "  'down',\n",
       "  'the',\n",
       "  'street',\n",
       "  'before',\n",
       "  'him',\n",
       "  'and',\n",
       "  \"didn't\",\n",
       "  'stop'],\n",
       " ['In',\n",
       "  'one',\n",
       "  'hand',\n",
       "  'she',\n",
       "  'clutched',\n",
       "  'a',\n",
       "  'hundred',\n",
       "  'dollar',\n",
       "  'bill',\n",
       "  'and',\n",
       "  'in',\n",
       "  'the',\n",
       "  'other',\n",
       "  'a',\n",
       "  'straw',\n",
       "  'suitcase'],\n",
       " ['The',\n",
       "  'way',\n",
       "  'she',\n",
       "  'strutted',\n",
       "  'down',\n",
       "  'the',\n",
       "  'street',\n",
       "  'the',\n",
       "  'Old',\n",
       "  'Man',\n",
       "  'would',\n",
       "  'have',\n",
       "  'been',\n",
       "  'blind',\n",
       "  'not',\n",
       "  'to',\n",
       "  'have',\n",
       "  'noticed',\n",
       "  'both'],\n",
       " ['Without',\n",
       "  'looking',\n",
       "  'at',\n",
       "  'him',\n",
       "  'without',\n",
       "  'looking',\n",
       "  'at',\n",
       "  'anything',\n",
       "  'except',\n",
       "  'Drexel',\n",
       "  'Street',\n",
       "  'directly',\n",
       "  'in',\n",
       "  'front',\n",
       "  'of',\n",
       "  'her',\n",
       "  'she',\n",
       "  'climbed',\n",
       "  'up',\n",
       "  'into',\n",
       "  'one',\n",
       "  'of',\n",
       "  'those',\n",
       "  'orange',\n",
       "  'streetcars',\n",
       "  'rode',\n",
       "  'away',\n",
       "  'in',\n",
       "  'it',\n",
       "  'and',\n",
       "  'never',\n",
       "  'came',\n",
       "  'back'],\n",
       " ['But',\n",
       "  'she',\n",
       "  \"shouldn't\",\n",
       "  'have',\n",
       "  'come',\n",
       "  'here',\n",
       "  'in',\n",
       "  'the',\n",
       "  'first',\n",
       "  'place',\n",
       "  'the',\n",
       "  'women',\n",
       "  'had',\n",
       "  'said'],\n",
       " ['No', 'no'],\n",
       " ['Not', 'that', 'one'],\n",
       " ['She',\n",
       "  'thought',\n",
       "  'she',\n",
       "  'was',\n",
       "  'bigger',\n",
       "  'than',\n",
       "  'we',\n",
       "  'are',\n",
       "  'because',\n",
       "  'she',\n",
       "  'came',\n",
       "  'from',\n",
       "  'Torino'],\n",
       " ['Eh',\n",
       "  'Torino',\n",
       "  'gave',\n",
       "  'herself',\n",
       "  'fancy',\n",
       "  'airs',\n",
       "  'because',\n",
       "  'she',\n",
       "  'had',\n",
       "  'a',\n",
       "  'part',\n",
       "  'on',\n",
       "  'the',\n",
       "  'stage',\n",
       "  'in',\n",
       "  'the',\n",
       "  'old',\n",
       "  'country',\n",
       "  'she',\n",
       "  'thought',\n",
       "  'she',\n",
       "  'could',\n",
       "  'carry',\n",
       "  'her',\n",
       "  'head',\n",
       "  'higher',\n",
       "  'than',\n",
       "  'ours'],\n",
       " ['They', 'had', 'slapped', 'their', 'thighs'],\n",
       " [\"It's\",\n",
       "  'not',\n",
       "  'for',\n",
       "  'making',\n",
       "  'pretty',\n",
       "  'speeches',\n",
       "  'about',\n",
       "  'Dante',\n",
       "  'those',\n",
       "  'actresses',\n",
       "  'get',\n",
       "  'paid',\n",
       "  'so',\n",
       "  'good'],\n",
       " ['Henh',\n",
       "  'fingers',\n",
       "  'caressed',\n",
       "  'only',\n",
       "  'by',\n",
       "  'the',\n",
       "  'smoothness',\n",
       "  'of',\n",
       "  'polished',\n",
       "  'rosaries',\n",
       "  'had',\n",
       "  'swayed',\n",
       "  'excitedly',\n",
       "  'beneath',\n",
       "  'puckered',\n",
       "  'chins',\n",
       "  'where',\n",
       "  'tiny',\n",
       "  'black',\n",
       "  'hairs',\n",
       "  'sprouted',\n",
       "  'never',\n",
       "  'to',\n",
       "  'be',\n",
       "  'tweezed',\n",
       "  'away'],\n",
       " ['Mauve-colored',\n",
       "  'mouths',\n",
       "  'that',\n",
       "  'had',\n",
       "  'never',\n",
       "  'known',\n",
       "  'anything',\n",
       "  'sweeter',\n",
       "  'than',\n",
       "  'the',\n",
       "  'taste',\n",
       "  'of',\n",
       "  'new',\n",
       "  'wine',\n",
       "  'and',\n",
       "  'the',\n",
       "  'passion',\n",
       "  'of',\n",
       "  \"man's\",\n",
       "  'tongue',\n",
       "  'had',\n",
       "  'not',\n",
       "  'smiled',\n",
       "  'but',\n",
       "  'had',\n",
       "  'condemned',\n",
       "  'again',\n",
       "  'and',\n",
       "  'again'],\n",
       " ['Puttana',\n",
       "  'if',\n",
       "  'the',\n",
       "  'Old',\n",
       "  'Man',\n",
       "  'even',\n",
       "  'thought',\n",
       "  'about',\n",
       "  'his',\n",
       "  'wife',\n",
       "  'now',\n",
       "  'nobody',\n",
       "  'cared',\n",
       "  'a',\n",
       "  'fig'],\n",
       " ['It',\n",
       "  'was',\n",
       "  'enough',\n",
       "  'for',\n",
       "  'people',\n",
       "  'to',\n",
       "  'know',\n",
       "  'that',\n",
       "  'at',\n",
       "  'one',\n",
       "  'time',\n",
       "  'he',\n",
       "  'had',\n",
       "  'looked',\n",
       "  'down',\n",
       "  'the',\n",
       "  'street',\n",
       "  'at',\n",
       "  'the',\n",
       "  'f']]"
      ]
     },
     "execution_count": 74,
     "metadata": {},
     "output_type": "execute_result"
    }
   ],
   "source": [
    "# 5. 단어 분절하며 문장부호 없애기\n",
    "sentence_tokens = [[word.split('/')[0] for word in lists.split(' ') \\\n",
    "                     if word.split('/')[0] not in users_punctuations] \\\n",
    "                        for lists in sentence]\n",
    "sentence_tokens"
   ]
  },
  {
   "cell_type": "code",
   "execution_count": 78,
   "id": "b3ec8c05-71d0-4f91-8eae-3224d19f6b42",
   "metadata": {},
   "outputs": [
    {
     "data": {
      "text/plain": [
       "['fur', 'piece']"
      ]
     },
     "execution_count": 78,
     "metadata": {},
     "output_type": "execute_result"
    }
   ],
   "source": [
    "# 하이픈, 어퍼스트로피 나눠보기\n",
    "'fur-piece'.split('-')"
   ]
  },
  {
   "cell_type": "code",
   "execution_count": 87,
   "id": "39e72edf-15d5-4ae8-8e05-725a89ac597b",
   "metadata": {},
   "outputs": [
    {
     "name": "stdout",
     "output_type": "stream",
     "text": [
      "['she']\n",
      "[\"'s\"]\n"
     ]
    },
    {
     "data": {
      "text/plain": [
       "['she', \"'s\"]"
      ]
     },
     "execution_count": 87,
     "metadata": {},
     "output_type": "execute_result"
    }
   ],
   "source": [
    "word = 'she\\'s'\n",
    "index = word.find('\\'')\n",
    "a = [word[:index]]\n",
    "b = [word[index:]]\n",
    "\n",
    "print(a)\n",
    "print(b)\n",
    "\n",
    "a.extend(b)\n",
    "a"
   ]
  },
  {
   "cell_type": "code",
   "execution_count": 76,
   "id": "45b39377-013c-4cfe-a17a-a50b02373cd3",
   "metadata": {
    "collapsed": true,
    "jupyter": {
     "outputs_hidden": true
    },
    "tags": []
   },
   "outputs": [
    {
     "ename": "SyntaxError",
     "evalue": "invalid syntax (CreatorTemp/ipykernel_2688/3370358369.py, line 2)",
     "output_type": "error",
     "traceback": [
      "\u001b[1;36m  File \u001b[1;32m\"C:\\Users\\Public\\Documents\\ESTsoft\\CreatorTemp/ipykernel_2688/3370358369.py\"\u001b[1;36m, line \u001b[1;32m2\u001b[0m\n\u001b[1;33m    for loop\u001b[0m\n\u001b[1;37m            ^\u001b[0m\n\u001b[1;31mSyntaxError\u001b[0m\u001b[1;31m:\u001b[0m invalid syntax\n"
     ]
    }
   ],
   "source": [
    "# 6. 하이픈 없애기\n",
    "for loop\n",
    "    if index:\n",
    "        # hyphen\n",
    "        # 's\n",
    "    # fur-piece's 처리"
   ]
  },
  {
   "cell_type": "markdown",
   "id": "9f887f77-f1cd-45bf-ab74-0a2ffcdf6128",
   "metadata": {},
   "source": [
    "### 불용어\n",
    "- 빈도수는 높으나 의미는 없는 단어\n",
    "- `stopwords`로 접근"
   ]
  },
  {
   "cell_type": "code",
   "execution_count": 93,
   "id": "9a58aae5-0376-476e-b5e2-39051505f6d0",
   "metadata": {},
   "outputs": [
    {
     "name": "stdout",
     "output_type": "stream",
     "text": [
      "['i', 'me', 'my', 'myself', 'we', 'our', 'ours', 'ourselves', 'you', \"you're\", \"you've\", \"you'll\", \"you'd\", 'your', 'yours', 'yourself', 'yourselves', 'he', 'him', 'his', 'himself', 'she', \"she's\", 'her', 'hers', 'herself', 'it', \"it's\", 'its', 'itself', 'they', 'them', 'their', 'theirs', 'themselves', 'what', 'which', 'who', 'whom', 'this', 'that', \"that'll\", 'these', 'those', 'am', 'is', 'are', 'was', 'were', 'be', 'been', 'being', 'have', 'has', 'had', 'having', 'do', 'does', 'did', 'doing', 'a', 'an', 'the', 'and', 'but', 'if', 'or', 'because', 'as', 'until', 'while', 'of', 'at', 'by', 'for', 'with', 'about', 'against', 'between', 'into', 'through', 'during', 'before', 'after', 'above', 'below', 'to', 'from', 'up', 'down', 'in', 'out', 'on', 'off', 'over', 'under', 'again', 'further', 'then', 'once', 'here', 'there', 'when', 'where', 'why', 'how', 'all', 'any', 'both', 'each', 'few', 'more', 'most', 'other', 'some', 'such', 'no', 'nor', 'not', 'only', 'own', 'same', 'so', 'than', 'too', 'very', 's', 't', 'can', 'will', 'just', 'don', \"don't\", 'should', \"should've\", 'now', 'd', 'll', 'm', 'o', 're', 've', 'y', 'ain', 'aren', \"aren't\", 'couldn', \"couldn't\", 'didn', \"didn't\", 'doesn', \"doesn't\", 'hadn', \"hadn't\", 'hasn', \"hasn't\", 'haven', \"haven't\", 'isn', \"isn't\", 'ma', 'mightn', \"mightn't\", 'mustn', \"mustn't\", 'needn', \"needn't\", 'shan', \"shan't\", 'shouldn', \"shouldn't\", 'wasn', \"wasn't\", 'weren', \"weren't\", 'won', \"won't\", 'wouldn', \"wouldn't\"]\n"
     ]
    }
   ],
   "source": [
    "stopwords = nltk.corpus.stopwords.words('english')\n",
    "print(stopwords)"
   ]
  }
 ],
 "metadata": {
  "kernelspec": {
   "display_name": "Python 3 (ipykernel)",
   "language": "python",
   "name": "python3"
  },
  "language_info": {
   "codemirror_mode": {
    "name": "ipython",
    "version": 3
   },
   "file_extension": ".py",
   "mimetype": "text/x-python",
   "name": "python",
   "nbconvert_exporter": "python",
   "pygments_lexer": "ipython3",
   "version": "3.9.7"
  }
 },
 "nbformat": 4,
 "nbformat_minor": 5
}
