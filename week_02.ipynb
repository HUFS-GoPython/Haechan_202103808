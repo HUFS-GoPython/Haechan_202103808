{
 "cells": [
  {
   "cell_type": "markdown",
   "id": "b4544e94-229d-4504-8c70-190538d42df1",
   "metadata": {},
   "source": [
    "### Ch2. Varables"
   ]
  },
  {
   "cell_type": "markdown",
   "id": "f1cb8588-4379-49dc-9b98-9b898a3e5999",
   "metadata": {},
   "source": [
    "#### 자료형 변환하기\n",
    "- `자료형 이름`(`원본`)"
   ]
  },
  {
   "cell_type": "code",
   "execution_count": 4,
   "id": "12cffba1-d912-45b6-8abd-814a14a770ee",
   "metadata": {},
   "outputs": [
    {
     "name": "stdout",
     "output_type": "stream",
     "text": [
      "10\n",
      "10\n",
      "True\n",
      "10.0\n"
     ]
    }
   ],
   "source": [
    "a = '10'\n",
    "print(int(a))\n",
    "print(str(a))\n",
    "print(bool(a))\n",
    "print(float(a))"
   ]
  },
  {
   "cell_type": "code",
   "execution_count": 6,
   "id": "c29bceff-54e0-4a7d-8434-49ea256090ba",
   "metadata": {},
   "outputs": [
    {
     "data": {
      "text/plain": [
       "10"
      ]
     },
     "execution_count": 6,
     "metadata": {},
     "output_type": "execute_result"
    }
   ],
   "source": [
    "# float에서 int 변환 시, 소수점 이하는 버림\n",
    "\n",
    "int(10.9)"
   ]
  },
  {
   "cell_type": "code",
   "execution_count": 8,
   "id": "e0f94503-bf7d-4137-8852-f45b08ee4e54",
   "metadata": {},
   "outputs": [
    {
     "name": "stdout",
     "output_type": "stream",
     "text": [
      "10\n",
      "10.9\n"
     ]
    }
   ],
   "source": [
    "# str에서 int나 float으로 변환 시, 숫자의 타입이 맞아야 함\n",
    "\n",
    "price = '10'\n",
    "print(int(price))\n",
    "\n",
    "price = '10.9'\n",
    "print(float(price))"
   ]
  },
  {
   "cell_type": "markdown",
   "id": "ebc269cd-8237-4499-8561-d3ae2f960f49",
   "metadata": {
    "tags": []
   },
   "source": [
    "## print()\n",
    "- 값을 출력하는 함수\n",
    "- 괄호 안의 요소들은 기본적으로 띄어짐\n",
    "- print 함수에서 여러 요소들을 출력하는 다양한 방법\n",
    "    - `+`로 연결\n",
    "    - `sep`, `end` 사용"
   ]
  },
  {
   "cell_type": "code",
   "execution_count": 13,
   "id": "f0faa3a7-ae09-4c04-8a61-8ff3e2ee30b5",
   "metadata": {},
   "outputs": [
    {
     "name": "stdout",
     "output_type": "stream",
     "text": [
      "1.broodwaterrijst\n",
      "2.1 brood water rijst\n",
      "2.2_brood_water_rijst\n"
     ]
    }
   ],
   "source": [
    "#print 함수에서 여러 요소들을 출력하는 다양한 방법\n",
    "\n",
    "bread = 'brood'\n",
    "water = 'water'\n",
    "rice = 'rijst'\n",
    "\n",
    "#1. `+`로 연결\n",
    "print('1.'+bread + water + rice)\n",
    "\n",
    "#2. `sep`, `end` 사용\n",
    "print('2.1', bread, water, rice, sep=' ', end='\\n')\n",
    "print('2.2', bread, water, rice, sep='_', end='\\n')"
   ]
  },
  {
   "cell_type": "code",
   "execution_count": 18,
   "id": "16cd3d56-2805-4340-ab8c-8880f0b12b98",
   "metadata": {},
   "outputs": [
    {
     "name": "stdout",
     "output_type": "stream",
     "text": [
      "brood water rijst\n"
     ]
    }
   ],
   "source": [
    "# 라인이 짧아서 여러 라인을 한 라인에 넣고 싶을 때 -> `;` 사용\n",
    "bread = 'brood'; water = 'water'; rice = 'rijst'\n",
    "print(bread, water, rice, sep=' ', end='\\n')"
   ]
  },
  {
   "cell_type": "markdown",
   "id": "043c7835-ac79-4f17-af20-e49ad63165f7",
   "metadata": {},
   "source": [
    "## input()\n",
    "- console에서 사용자에게 값을 입력 받는 함수\n",
    "- 입력 받는 값의 타입은 문자열(str)"
   ]
  },
  {
   "cell_type": "code",
   "execution_count": 19,
   "id": "4bd5a1ba-09a4-46d8-a66d-1fcef4423258",
   "metadata": {},
   "outputs": [
    {
     "name": "stdin",
     "output_type": "stream",
     "text": [
      "What's your name? Haechan\n"
     ]
    },
    {
     "data": {
      "text/plain": [
       "'Haechan'"
      ]
     },
     "execution_count": 19,
     "metadata": {},
     "output_type": "execute_result"
    }
   ],
   "source": [
    "# 괄호 안에 문자열을 넣으면 출력 후 입력 받음\n",
    "input(\"What's your name?\")"
   ]
  },
  {
   "cell_type": "code",
   "execution_count": 22,
   "id": "9b4fcf90-cc88-4e9b-bd29-39811b01aba0",
   "metadata": {},
   "outputs": [
    {
     "name": "stdin",
     "output_type": "stream",
     "text": [
      "How old are you? 21\n"
     ]
    },
    {
     "name": "stdout",
     "output_type": "stream",
     "text": [
      "<class 'int'>\n"
     ]
    }
   ],
   "source": [
    "# input을 str 외의 타입으로 사용하고 싶을 때는 input 함수에 형 변환을 해준다\n",
    "age = int(input(\"How old are you?\"))\n",
    "print(type(age))"
   ]
  },
  {
   "cell_type": "markdown",
   "id": "96f603ad-a913-491d-9ef7-61f46c04cb6c",
   "metadata": {},
   "source": [
    "## printing을 보기 좋게 하는 방법"
   ]
  },
  {
   "cell_type": "code",
   "execution_count": 28,
   "id": "ba2b84e7-5cd2-424c-84a4-24ddc3e793d1",
   "metadata": {},
   "outputs": [
    {
     "name": "stdin",
     "output_type": "stream",
     "text": [
      "How old are you? 21\n"
     ]
    },
    {
     "name": "stdout",
     "output_type": "stream",
     "text": [
      "당신이 태어난 해는 2002 년입니다!\n",
      "당신이 태어난 해는 2002년입니다!\n",
      "당신이 태어난 해는 2002년입니다!\n"
     ]
    }
   ],
   "source": [
    "age = int(input(\"How old are you?\"))\n",
    "print('당신이 태어난 해는', 2022 - age + 1, '년입니다!')\n",
    "\n",
    "# `print(f'{변수}')`\n",
    "print(f'당신이 태어난 해는 {2022 - age + 1}년입니다!')\n",
    "\n",
    "birth_year = 2022 - age + 1\n",
    "print(f'당신이 태어난 해는 {birth_year}년입니다!')"
   ]
  },
  {
   "cell_type": "markdown",
   "id": "66f0194c-ab5c-4708-9381-d5214fe534f7",
   "metadata": {},
   "source": [
    "## Quiz 1\n",
    "- 택배 정보를 입력 받고 무게에 따른 값 산정하기\n",
    "    - 수취인 성명:\n",
    "    - 수취인 주소:\n",
    "    - 배송비: 3000원\n",
    "    - 물건 비용: <계산된 값>원\n",
    "    - 총 합계: <계산된 값>원\n",
    "- 물건 비용은 무게(g) * 5\n",
    "- 입력 값 = 이름, 주소, 무게"
   ]
  },
  {
   "cell_type": "code",
   "execution_count": 29,
   "id": "261eb5ff-228c-4d8e-9929-76230683d5a6",
   "metadata": {},
   "outputs": [
    {
     "name": "stdout",
     "output_type": "stream",
     "text": [
      "이름\n"
     ]
    },
    {
     "name": "stdin",
     "output_type": "stream",
     "text": [
      " 황해찬\n"
     ]
    },
    {
     "name": "stdout",
     "output_type": "stream",
     "text": [
      "주소\n"
     ]
    },
    {
     "name": "stdin",
     "output_type": "stream",
     "text": [
      " 동대문구 이문동\n"
     ]
    },
    {
     "name": "stdout",
     "output_type": "stream",
     "text": [
      "무게(g)\n"
     ]
    },
    {
     "name": "stdin",
     "output_type": "stream",
     "text": [
      " 500\n"
     ]
    }
   ],
   "source": [
    "print('이름')\n",
    "name = str(input())\n",
    "\n",
    "print('주소')\n",
    "adress = str(input()) #교수님 피드백: `str` 생략 가능\n",
    "\n",
    "print('무게(g)')\n",
    "gram = float(input())"
   ]
  },
  {
   "cell_type": "code",
   "execution_count": 30,
   "id": "0fe97178-c145-4766-b683-16e98edb38cc",
   "metadata": {},
   "outputs": [],
   "source": [
    "delivery_charge = 3000\n",
    "weight_charge = gram * 5\n",
    "total_charge = int(delivery_charge + weight_charge)"
   ]
  },
  {
   "cell_type": "code",
   "execution_count": 31,
   "id": "02c0dd83-1a63-4aed-8c52-8e383c687b69",
   "metadata": {},
   "outputs": [
    {
     "name": "stdout",
     "output_type": "stream",
     "text": [
      "수취인 성명: 황해찬\n",
      "수취인 주소: 동대문구 이문동\n",
      "배송비: 3000원\n",
      "물건 비용: 2500.0원\n",
      "총 합계: 5500원\n"
     ]
    }
   ],
   "source": [
    "print(f'수취인 성명: {name}')\n",
    "print(f'수취인 주소: {adress}')\n",
    "print(f'배송비: {delivery_charge}원')\n",
    "print(f'물건 비용: {weight_charge}원')\n",
    "print(f'총 합계: {total_charge}원')"
   ]
  },
  {
   "cell_type": "markdown",
   "id": "54745c29-fe2c-4b43-b048-75620d15e911",
   "metadata": {},
   "source": [
    "## Ch03. Numbers"
   ]
  },
  {
   "cell_type": "markdown",
   "id": "3984bf4d-357c-4140-9352-3854d188ff2e",
   "metadata": {},
   "source": [
    "### boolean\n",
    "- `True` 혹은 `False`의 논리값\n",
    "- False인 경우\n",
    "    - 0\n",
    "    - 공백\n",
    "- if문(조건문): \"만약 어떤 값이 True면, ...\""
   ]
  },
  {
   "cell_type": "code",
   "execution_count": 35,
   "id": "e7fc51c8-667d-47ee-899e-85b3e9dd623e",
   "metadata": {},
   "outputs": [
    {
     "name": "stdout",
     "output_type": "stream",
     "text": [
      "True\n",
      "True\n",
      "False\n",
      "False\n",
      "False\n"
     ]
    }
   ],
   "source": [
    "print(bool(19))\n",
    "print(bool('황해찬'))\n",
    "\n",
    "print(bool(0))\n",
    "print(bool(''))\n",
    "print(bool(None))"
   ]
  },
  {
   "cell_type": "markdown",
   "id": "f565cd7d-0a8d-4f60-8740-59f1e4ae841a",
   "metadata": {},
   "source": [
    "### integer\n",
    "- 정수값\n",
    "- 음의 정수는 `-` 기호를 사용, 기호가 없으면 양의 정수\n",
    "- 숫자 앞에는 `0`을 쓰지 못함\n",
    "- 숫자 사이에는 `,`를 쓰지 못함\n",
    "- 숫자 사이의 `공백`이나 `_` 등은 인식하지 않음"
   ]
  },
  {
   "cell_type": "markdown",
   "id": "83330974-4b5e-4734-a3c0-3b689cc47dfc",
   "metadata": {},
   "source": [
    "### operator(연산자)\n",
    "\n",
    "형식: `요소` `연산자` `요소`\n",
    "\n",
    "- 더하기: `+`\n",
    "- 빼기: `-`\n",
    "- 곱하기: `*`\n",
    "- 나누기: `/`\n",
    "\n",
    "- 거듭제곱: `**`\n",
    "- 나누기(몫): `//`\n",
    "- 나누기(나머지): `%`"
   ]
  },
  {
   "cell_type": "code",
   "execution_count": 38,
   "id": "acc41569-506c-439b-b352-63efe0dd70e9",
   "metadata": {},
   "outputs": [
    {
     "name": "stdout",
     "output_type": "stream",
     "text": [
      "12\n",
      "6\n",
      "27\n",
      "3.0\n",
      "729\n",
      "3\n",
      "0\n"
     ]
    }
   ],
   "source": [
    "x = 9\n",
    "y = 3\n",
    "\n",
    "print(x + y)\n",
    "print(x - y)\n",
    "print(x * y)\n",
    "print(x / y)\n",
    "\n",
    "print(x ** y)\n",
    "print(x // y)\n",
    "print(x % y)"
   ]
  },
  {
   "cell_type": "code",
   "execution_count": 41,
   "id": "e66051b4-b983-44d1-942a-7711e1ab3940",
   "metadata": {},
   "outputs": [
    {
     "data": {
      "text/plain": [
       "(3, 0)"
      ]
     },
     "execution_count": 41,
     "metadata": {},
     "output_type": "execute_result"
    }
   ],
   "source": [
    "#몫과 나머지를 한번에 구하는 방법\n",
    "\n",
    "divmod(x, y)\n",
    "#출력: (몫, 나머지)"
   ]
  },
  {
   "cell_type": "markdown",
   "id": "a002d63a-3fa1-4011-8032-8e4138b7b33b",
   "metadata": {},
   "source": [
    "나누는 수가 `0`이 되지 않게 유의"
   ]
  },
  {
   "cell_type": "markdown",
   "id": "c5bb1845-faf9-4913-b9cf-e59a8e9a7463",
   "metadata": {},
   "source": [
    "#### 비교연산자\n",
    "- x < y\n",
    "- x > y\n",
    "- x >= y\n",
    "- x <= y\n",
    "- x == y (값이)\n",
    "- x != y\n",
    "- x is y (값, 메모리 주소)\n",
    "- x is not y"
   ]
  },
  {
   "cell_type": "markdown",
   "id": "bb3e5579-9bed-42c2-9fdf-e50383caaddb",
   "metadata": {
    "tags": []
   },
   "source": [
    "#### 복합 대입 연산자 \\ compound assignment operator\n",
    "\n",
    "- 형식 1: `요소` `=` `요소` `연산자` `요소`\n",
    "- 형식 2: `요소` `연산자=` `요소`\n",
    "\n",
    "##### 처리 과정\n",
    "- 1. 우변 계산값을 임시 변수에 할당\n",
    "- 2. 임시 변수의 값을 좌변에 할당\n",
    "\n",
    "- ex) x = x - 2\n",
    "    - 1. temp = x - 2\n",
    "    - 2. x = temp"
   ]
  },
  {
   "cell_type": "code",
   "execution_count": 50,
   "id": "5bbeaead-7769-4654-beb2-a68883ef6014",
   "metadata": {},
   "outputs": [
    {
     "name": "stdout",
     "output_type": "stream",
     "text": [
      "11\n",
      "11\n"
     ]
    }
   ],
   "source": [
    "x = 9\n",
    "x = x + 2\n",
    "print(x)\n",
    "\n",
    "x = 9\n",
    "x += 2\n",
    "print(x)"
   ]
  },
  {
   "cell_type": "markdown",
   "id": "43eb7e96-6b89-4ef2-a886-3af5b14d8783",
   "metadata": {},
   "source": [
    "### Quiz 1.\n",
    "- 반지름을 입력 받아서 원의 면적 구하기\n",
    "- 면적 = pi * r제곱"
   ]
  },
  {
   "cell_type": "code",
   "execution_count": 53,
   "id": "0c0335da-c247-4b64-9403-b3097c2450e9",
   "metadata": {},
   "outputs": [
    {
     "name": "stdin",
     "output_type": "stream",
     "text": [
      "반지름:  3\n"
     ]
    },
    {
     "name": "stdout",
     "output_type": "stream",
     "text": [
      "28.26\n"
     ]
    }
   ],
   "source": [
    "pi = 3.14 # 교수님 피드백: `pi` 값도 변수로 받기\n",
    "radius = float(input('반지름: ')) # 교수님 피드백: `r`이 아닌 의미가 있는 변수명으로 지정\n",
    "area = pi * (radius ** 2)\n",
    "\n",
    "print(area)"
   ]
  },
  {
   "cell_type": "markdown",
   "id": "2d580861-4d05-4937-9c6b-e6a3225cbc55",
   "metadata": {},
   "source": [
    "### Quiz 2.\n",
    "- 2-1. 숫자를 입력 받고 3의 배수인지 확인하기\n",
    "- 2-2. 숫자를 입력 받고 홀수인지 확인하기"
   ]
  },
  {
   "cell_type": "code",
   "execution_count": 54,
   "id": "cbdfd5e5-1350-4dbe-98b5-7a4522200d30",
   "metadata": {},
   "outputs": [
    {
     "name": "stdin",
     "output_type": "stream",
     "text": [
      "숫자를 입력하세요:  2\n"
     ]
    },
    {
     "data": {
      "text/plain": [
       "False"
      ]
     },
     "execution_count": 54,
     "metadata": {},
     "output_type": "execute_result"
    }
   ],
   "source": [
    "# 2-1.\n",
    "\n",
    "number = float(input('숫자를 입력하세요: '))\n",
    "bool(number % 3 == 0)"
   ]
  },
  {
   "cell_type": "code",
   "execution_count": 57,
   "id": "78070026-8a4e-473f-b4ff-3124227777d1",
   "metadata": {},
   "outputs": [
    {
     "name": "stdin",
     "output_type": "stream",
     "text": [
      "숫자를 입력하세요:  1\n"
     ]
    },
    {
     "data": {
      "text/plain": [
       "True"
      ]
     },
     "execution_count": 57,
     "metadata": {},
     "output_type": "execute_result"
    }
   ],
   "source": [
    "# 2-2.\n",
    "\n",
    "number = float(input('숫자를 입력하세요: '))\n",
    "bool(number % 2 != 0)"
   ]
  },
  {
   "cell_type": "markdown",
   "id": "136e1f69-e56b-4f14-bf68-bff5b97d0f3d",
   "metadata": {},
   "source": [
    "### 지수 표현\n",
    "- 예시: `1.0e-4`\n",
    "- e의 앞 부분은 소수, 정수 둘 다 됨\n",
    "- 뒷 부분은 정수여야 함\n",
    "- 뒷 부분이 음수면 소수점 자릿수를 의미함\n",
    "- e, E 모두 사용 가능"
   ]
  },
  {
   "cell_type": "code",
   "execution_count": 58,
   "id": "c3f1e1f2-a46e-42e1-8d06-e6041191fabf",
   "metadata": {},
   "outputs": [
    {
     "data": {
      "text/plain": [
       "0.0001"
      ]
     },
     "execution_count": 58,
     "metadata": {},
     "output_type": "execute_result"
    }
   ],
   "source": [
    "1.0e-4"
   ]
  },
  {
   "cell_type": "code",
   "execution_count": 59,
   "id": "aa5bac34-4b18-41c3-81e8-879e1c2e258f",
   "metadata": {},
   "outputs": [
    {
     "name": "stdout",
     "output_type": "stream",
     "text": [
      "0.0004005\n",
      "0.0004005\n"
     ]
    }
   ],
   "source": [
    "# `0.0004005`를 지수로 표현하기\n",
    "\n",
    "print(4005e-7)\n",
    "print(4.005e-4)"
   ]
  },
  {
   "cell_type": "markdown",
   "id": "ed967481-72a4-4ce4-86cf-b1bf0b8e2651",
   "metadata": {},
   "source": [
    "### if 조건문\n",
    "- `if <조건식>:\n",
    "    <실행할 코드>`\n",
    "- 조건문이 두 개라면: `if`, `else`\n",
    "- 조건문이 세 개 이상이라면: `if`, `elif`, ..., `else`"
   ]
  },
  {
   "cell_type": "code",
   "execution_count": 65,
   "id": "29cadfec-c9a9-4174-aca1-4c3a8bac9a48",
   "metadata": {},
   "outputs": [
    {
     "name": "stdout",
     "output_type": "stream",
     "text": [
      "두 수는 같지 않다\n"
     ]
    }
   ],
   "source": [
    "# 조건문이 1개\n",
    "\n",
    "if 3 != 1:\n",
    "    print(\"두 수는 같지 않다\")"
   ]
  },
  {
   "cell_type": "code",
   "execution_count": 64,
   "id": "e67fca8d-964d-4f52-92e8-2d48af22758f",
   "metadata": {},
   "outputs": [
    {
     "name": "stdout",
     "output_type": "stream",
     "text": [
      "두 수는 같지 않다\n"
     ]
    }
   ],
   "source": [
    "# 조건문이 2개\n",
    "if 3 != 1:\n",
    "    print(\"두 수는 같지 않다\")\n",
    "else:\n",
    "    print(\"두 수가 같다\")"
   ]
  },
  {
   "cell_type": "code",
   "execution_count": 68,
   "id": "cc264447-6686-4362-93db-1d097965deb9",
   "metadata": {},
   "outputs": [
    {
     "name": "stdout",
     "output_type": "stream",
     "text": [
      "3보다 크다\n"
     ]
    }
   ],
   "source": [
    "# 조건문이 3개\n",
    "\n",
    "a = 4\n",
    "\n",
    "if a < 3:\n",
    "    print(\"3보다 작다\")\n",
    "elif a == 3:\n",
    "    print(\"3이다\")\n",
    "else:\n",
    "    print(\"3보다 크다\")"
   ]
  },
  {
   "cell_type": "markdown",
   "id": "6f7a6f3b-8285-441c-ba50-a325cb8cd419",
   "metadata": {},
   "source": [
    "### 코드 짜는 팁\n",
    "- 주석 달기\n",
    "    - `#` hash, sharp, ..\n",
    "    - `#`시작 지점부터 라인 끝까지가 주석 처리됨, 라인이 바뀌면 코드로 인식\n",
    "    - \"\"\" \"\"\"\n",
    "    - 문자열 안에 있는 sharp는 부호로 인식한다\n",
    "    - 이유? 코드에 대한 설명은 최대한 하지 않는다. 의도를 나타내기 위해, 오류가 있다거나, ...\n",
    "\n",
    "- 라인 유지하기\n",
    "    - 들여쓰기 (default space 4개, Tab을 이용해서)\n",
    "    - 논리 구조를 나타내기 때문에 굉장히 중요함.\n",
    "    - 한 라인에 80자 정도 (백슬래시로 라인을 끊어준다 (\\))"
   ]
  },
  {
   "cell_type": "markdown",
   "id": "f9a49ebd-18ff-4513-8011-8bfee854a64e",
   "metadata": {},
   "source": [
    "### Quiz 1\n",
    "- 시험 점수를 입력 받고, 80점 이상이면 True, 아니면 False 반환하기"
   ]
  },
  {
   "cell_type": "code",
   "execution_count": 69,
   "id": "34bc8ce1-8524-42d7-82e1-06b45f62bf33",
   "metadata": {},
   "outputs": [
    {
     "name": "stdin",
     "output_type": "stream",
     "text": [
      "시험 점수를 입력하세요:  80\n"
     ]
    },
    {
     "name": "stdout",
     "output_type": "stream",
     "text": [
      "True\n"
     ]
    }
   ],
   "source": [
    "score = float(input(\"시험 점수를 입력하세요: \"))\n",
    "\n",
    "if score >= 80:\n",
    "    print(True)\n",
    "else:\n",
    "    print(False)"
   ]
  },
  {
   "cell_type": "markdown",
   "id": "2f4094fa-6aa5-4161-ae11-e6267bc1cc52",
   "metadata": {},
   "source": [
    "### Quiz 2\n",
    "- 시험 점수를 입력 받고, 95 이상 A+, 90 이상 A, 85 이상 B+, 나머지를 F로 출력하기"
   ]
  },
  {
   "cell_type": "code",
   "execution_count": 70,
   "id": "57b749ef-36fb-4185-b2e6-6fe4a87aa505",
   "metadata": {},
   "outputs": [
    {
     "name": "stdin",
     "output_type": "stream",
     "text": [
      "시험 점수를 입력하세요:  93\n"
     ]
    },
    {
     "name": "stdout",
     "output_type": "stream",
     "text": [
      "A\n"
     ]
    }
   ],
   "source": [
    "score = float(input(\"시험 점수를 입력하세요: \"))\n",
    "\n",
    "if score >= 95:\n",
    "    print('A+')\n",
    "elif score < 95 and score >= 90:\n",
    "    print('A')\n",
    "elif score < 90 and score >= 85:\n",
    "    print('B+')\n",
    "else:\n",
    "    print('F')"
   ]
  }
 ],
 "metadata": {
  "kernelspec": {
   "display_name": "Python 3 (ipykernel)",
   "language": "python",
   "name": "python3"
  },
  "language_info": {
   "codemirror_mode": {
    "name": "ipython",
    "version": 3
   },
   "file_extension": ".py",
   "mimetype": "text/x-python",
   "name": "python",
   "nbconvert_exporter": "python",
   "pygments_lexer": "ipython3",
   "version": "3.9.7"
  }
 },
 "nbformat": 4,
 "nbformat_minor": 5
}
