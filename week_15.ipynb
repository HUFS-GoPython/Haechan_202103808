{
 "cells": [
  {
   "cell_type": "markdown",
   "id": "04d60429-cd21-4910-bfcf-2b305170ac19",
   "metadata": {},
   "source": [
    "## 파일과 디렉터리\n",
    "- 파일: 컴퓨터를 실행할 때 가장 기본이 되는 단위\n",
    "    - 파일명 + 확장자(`.txt`, `.csv`, ...)\n",
    "- 디렉터리: 폴더, 파일을 논리적으로 묶어놓은 단위\n",
    "    - `직박구리`: fileA, fileB, ...\n",
    "- 바이너리, 텍스트\n",
    "    - `바이너리`: 이진 정보로 저장된 파일.\n",
    "        - e.g. 액셀, 워드, ...\n",
    "        - 내용 확인하려면 확장자에 해당하는 프로그램으로 열어야 함.\n",
    "    - `텍스트`: 바이너리가 문자로 변환된 파일.\n",
    "        - e.g. 메모장, python, html, ...\n",
    "        - 변환 기준: 아스키코드, 유니코드 제정\n",
    "        - 변환하는 것을 `인코딩`이라고 함.\n",
    "            - `utf-8` (한국어에서 가장 많이 사용하는 인코딩)\n",
    "            - cp494 (윈도우)"
   ]
  },
  {
   "cell_type": "markdown",
   "id": "67765461-9c4e-4af7-baf0-83b5f75b2a1d",
   "metadata": {},
   "source": [
    "### 파일 열기\n",
    "- `f = open(<파일명>, <모드>, encoding=<인코딩>)`\n",
    "    - `r` : `읽기` / read (default)\n",
    "    - `w` : `쓰기` (파일명이 없으면 새로 만들고 있으면 덮어쓰기) / write\n",
    "    - `x` : `쓰기` (파일명이 없을 때만 새로 만들기) / write\n",
    "    - `a` : `추가하기` (기존 파일 마지막에 추가) / add\n",
    "- 파일 형식에 따라\n",
    "    - `t` : `텍스트로 모드 사용` (default)\n",
    "    - `b` : `바이너리로 모드 사용`\n",
    "    - `<모드><형식>`\n",
    "        - e.g. `rb`, `rt`, ..."
   ]
  },
  {
   "cell_type": "code",
   "execution_count": 42,
   "id": "9e3f5ee7-4c5d-46fa-89cd-307e35e30982",
   "metadata": {},
   "outputs": [
    {
     "name": "stdout",
     "output_type": "stream",
     "text": [
      "<_io.TextIOWrapper name='test.txt' mode='r' encoding='cp949'>\n",
      "hello world\n",
      "I'm reading a book.\n"
     ]
    }
   ],
   "source": [
    "f = open('test.txt', 'r')\n",
    "print(f)\n",
    "print(f.read())"
   ]
  },
  {
   "cell_type": "code",
   "execution_count": 43,
   "id": "b5d51367-c7c8-4845-84b1-5d3bab4a7ebd",
   "metadata": {},
   "outputs": [
    {
     "data": {
      "text/plain": [
       "'hel'"
      ]
     },
     "execution_count": 43,
     "metadata": {},
     "output_type": "execute_result"
    }
   ],
   "source": [
    "f = open('test.txt', 'r')\n",
    "\n",
    "# 개수 지정도 가능\n",
    "f.read(3)"
   ]
  },
  {
   "cell_type": "markdown",
   "id": "d5a6cf5f-f5bc-486a-a5ce-e3f1e159b3f6",
   "metadata": {
    "tags": []
   },
   "source": [
    "#### 파일 경로\n",
    "- 같은 경로에 있을 때만 경로를 생략 가능함\n",
    "- `.` : 현재 디렉토리\n",
    "- `..` : 상위 디렉토리\n",
    "- `pwd` : print working directory"
   ]
  },
  {
   "cell_type": "code",
   "execution_count": 44,
   "id": "a3324f25-6fd1-4aa8-a571-9a4fe02e6ce2",
   "metadata": {},
   "outputs": [
    {
     "ename": "FileNotFoundError",
     "evalue": "[Errno 2] No such file or directory: 'test2.txt'",
     "output_type": "error",
     "traceback": [
      "\u001b[1;31m---------------------------------------------------------------------------\u001b[0m",
      "\u001b[1;31mFileNotFoundError\u001b[0m                         Traceback (most recent call last)",
      "\u001b[1;32mC:\\Users\\Public\\Documents\\ESTsoft\\CreatorTemp/ipykernel_14364/3750907626.py\u001b[0m in \u001b[0;36m<module>\u001b[1;34m\u001b[0m\n\u001b[0;32m      2\u001b[0m \u001b[0mfile\u001b[0m \u001b[1;33m=\u001b[0m \u001b[1;34m'test2.txt'\u001b[0m\u001b[1;33m\u001b[0m\u001b[1;33m\u001b[0m\u001b[0m\n\u001b[0;32m      3\u001b[0m \u001b[1;33m\u001b[0m\u001b[0m\n\u001b[1;32m----> 4\u001b[1;33m \u001b[1;32mwith\u001b[0m \u001b[0mopen\u001b[0m\u001b[1;33m(\u001b[0m\u001b[0mfile\u001b[0m\u001b[1;33m)\u001b[0m \u001b[1;32mas\u001b[0m \u001b[0mf\u001b[0m\u001b[1;33m:\u001b[0m\u001b[1;33m\u001b[0m\u001b[1;33m\u001b[0m\u001b[0m\n\u001b[0m\u001b[0;32m      5\u001b[0m     \u001b[0mf\u001b[0m\u001b[1;33m.\u001b[0m\u001b[0mread\u001b[0m\u001b[1;33m(\u001b[0m\u001b[1;33m)\u001b[0m\u001b[1;33m\u001b[0m\u001b[1;33m\u001b[0m\u001b[0m\n",
      "\u001b[1;31mFileNotFoundError\u001b[0m: [Errno 2] No such file or directory: 'test2.txt'"
     ]
    }
   ],
   "source": [
    "# 상위 경로에 있는 파일 불러오기 --> Error\n",
    "file = 'test2.txt'\n",
    "\n",
    "with open(file) as f:\n",
    "    f.read()"
   ]
  },
  {
   "cell_type": "code",
   "execution_count": 45,
   "id": "1bb2b579-b2bb-4b64-941f-90bfc0fe122c",
   "metadata": {},
   "outputs": [
    {
     "data": {
      "text/plain": [
       "\"hello world\\nI'm reading a book.\""
      ]
     },
     "execution_count": 45,
     "metadata": {},
     "output_type": "execute_result"
    }
   ],
   "source": [
    "file = '../test2.txt'\n",
    "\n",
    "with open(file) as f:\n",
    "    data = f.read()\n",
    "\n",
    "data"
   ]
  },
  {
   "cell_type": "code",
   "execution_count": 46,
   "id": "d7e3166d-7924-467c-9882-3c564442036b",
   "metadata": {},
   "outputs": [
    {
     "data": {
      "text/plain": [
       "'C:\\\\Users\\\\bingo\\\\week_assignment'"
      ]
     },
     "execution_count": 46,
     "metadata": {},
     "output_type": "execute_result"
    }
   ],
   "source": [
    "pwd"
   ]
  },
  {
   "cell_type": "markdown",
   "id": "02d23693-95d0-42e7-9d8f-72012ca0df76",
   "metadata": {},
   "source": [
    "### 파일 닫기\n",
    "- `<파일 변수>.close()`\n",
    "- 자원 해제의 역할\n",
    "    - 메모리 펜딩 방지\n",
    "    - 다른 프로그램에서 호출 에러 방지\n",
    "- 여는 즉시 닫는 습관이 필요함."
   ]
  },
  {
   "cell_type": "code",
   "execution_count": 47,
   "id": "adb1f312-4437-45d6-9ace-951efe119b9e",
   "metadata": {},
   "outputs": [],
   "source": [
    "f.close()"
   ]
  },
  {
   "cell_type": "code",
   "execution_count": 48,
   "id": "31a472c2-f34a-42a9-b9c2-91f203599aa7",
   "metadata": {},
   "outputs": [
    {
     "data": {
      "text/plain": [
       "\"hello world\\nI'm reading a book.\""
      ]
     },
     "execution_count": 48,
     "metadata": {},
     "output_type": "execute_result"
    }
   ],
   "source": [
    "# 변수에 담아놓기\n",
    "f = open('test.txt', 'r')\n",
    "data = f.read()\n",
    "f.close()\n",
    "\n",
    "data"
   ]
  },
  {
   "cell_type": "markdown",
   "id": "3247e149-f8a8-4d7c-8a5d-ee26be59288e",
   "metadata": {
    "tags": []
   },
   "source": [
    "### 임시적으로 열고 닫기\n",
    "- `with open(<파일>, <모드>) as <변수명>:`\n",
    "- 들여쓰기를 한 부분은 임시적으로 사용되고 자동으로 자원해제됨"
   ]
  },
  {
   "cell_type": "code",
   "execution_count": 51,
   "id": "4518483c-b4f4-4ff4-888c-20c6383a3bbf",
   "metadata": {},
   "outputs": [
    {
     "data": {
      "text/plain": [
       "\"hello world\\nI'm reading a book.\""
      ]
     },
     "execution_count": 51,
     "metadata": {},
     "output_type": "execute_result"
    }
   ],
   "source": [
    "with open('test.txt', 'r') as f:\n",
    "    data = f.read()\n",
    "    # (자동) 자원해제\n",
    "\n",
    "data"
   ]
  },
  {
   "cell_type": "markdown",
   "id": "1776d13e-6596-4337-87fb-39a9aca2b0a8",
   "metadata": {},
   "source": [
    "### 파일 함수\n",
    "- `.read()` : `str`으로 읽어들임\n",
    "- `.readline()`: `한 줄씩`, 읽어들임\n",
    "- `.readlines()`: `한 줄씩`, `str`으로 `리스트` 담기"
   ]
  },
  {
   "cell_type": "code",
   "execution_count": 22,
   "id": "ca29ba6c-5c82-450e-b3ff-2529be29bf20",
   "metadata": {},
   "outputs": [
    {
     "data": {
      "text/plain": [
       "'hello world\\n'"
      ]
     },
     "execution_count": 22,
     "metadata": {},
     "output_type": "execute_result"
    }
   ],
   "source": [
    "# readline\n",
    "with open('test.txt', 'r') as f:\n",
    "    data = f.readline()\n",
    "\n",
    "data"
   ]
  },
  {
   "cell_type": "code",
   "execution_count": 23,
   "id": "9bf4b1eb-5b8e-40e9-971b-920655b9d7d4",
   "metadata": {},
   "outputs": [
    {
     "data": {
      "text/plain": [
       "['hello world\\n', \"I'm reading a book.\"]"
      ]
     },
     "execution_count": 23,
     "metadata": {},
     "output_type": "execute_result"
    }
   ],
   "source": [
    "# realines\n",
    "with open('test.txt', 'r') as f:\n",
    "    data = f.readlines()\n",
    "\n",
    "data"
   ]
  },
  {
   "cell_type": "code",
   "execution_count": 24,
   "id": "c70806ce-cdcb-4960-8059-f21749e74b21",
   "metadata": {},
   "outputs": [
    {
     "data": {
      "text/plain": [
       "['hello world', \"I'm reading a book.\"]"
      ]
     },
     "execution_count": 24,
     "metadata": {},
     "output_type": "execute_result"
    }
   ],
   "source": [
    "with open('test.txt', 'r') as f:\n",
    "    data = f.readlines()\n",
    "    # 텍스트 정제\n",
    "    data = [line.strip() for line in data]\n",
    "\n",
    "data"
   ]
  },
  {
   "cell_type": "markdown",
   "id": "d760ab4a-bc0b-4aec-991e-d5aa37eb13d3",
   "metadata": {},
   "source": [
    "### 파일 쓰기\n",
    "- open에서 `w` 모드로 열기\n",
    "- open에서 `a` 모드로 파일 변수에 담기, `print(<str>, file=<파일 변수>)`"
   ]
  },
  {
   "cell_type": "code",
   "execution_count": 75,
   "id": "63541c2f-f72b-42fa-be6e-191613ba0a12",
   "metadata": {},
   "outputs": [],
   "source": [
    "file = 'test3.txt'\n",
    "\n",
    "f = open(file, 'w', encoding='utf-8')\n",
    "\n",
    "for i in range(10):\n",
    "    data = f'{i}번째 줄입니다.\\n'\n",
    "    f.write(data)\n",
    "\n",
    "f.close()"
   ]
  },
  {
   "cell_type": "code",
   "execution_count": 76,
   "id": "25f8efa1-a192-44eb-9104-e98eb35aa0a8",
   "metadata": {},
   "outputs": [],
   "source": [
    "f = open(file, 'a', encoding='utf-8')\n",
    "print('새로운 줄 추가', file=f)\n",
    "\n",
    "f.close()"
   ]
  },
  {
   "cell_type": "markdown",
   "id": "0dfe03ba-4abf-4610-a856-2cb6a98ba3a2",
   "metadata": {},
   "source": [
    "#### os로 폴더, 파일 만들기\n",
    "- `import os` : os 불러오기\n",
    "- 디렉토리 다루기\n",
    "    - `os.getcwd()` : 현재 작업 디렉토리 get\n",
    "    - `os.chdir('..')` : 상위 디렉토리로 옮겨가기\n",
    "- 폴더 다루기\n",
    "    - `os.mkdir(<폴더명>)` : 폴더 만들기\n",
    "    - `os.path.isdir(<폴더명>)` : 폴더 유무를 확인\n",
    "    - `os.rmdir(<폴더명>)` : 폴더 지우기\n",
    "- 파일 다루기\n",
    "    - `os.path.exists(<파일 디렉토리>)` : 파일 유무를 확인\n",
    "    - `os.remove(<파일 디렉토리>)` : 파일 지우기"
   ]
  },
  {
   "cell_type": "code",
   "execution_count": 88,
   "id": "a9f1b6e2-cc10-4b07-b1e9-46da3e294fe5",
   "metadata": {},
   "outputs": [],
   "source": [
    "import os"
   ]
  },
  {
   "cell_type": "code",
   "execution_count": 89,
   "id": "9b477e53-585b-416c-8c54-6a7ef22a5d7b",
   "metadata": {},
   "outputs": [],
   "source": [
    "os.mkdir('folder1')"
   ]
  },
  {
   "cell_type": "code",
   "execution_count": 90,
   "id": "422ee60a-fa56-4660-9acb-ac655f453d36",
   "metadata": {},
   "outputs": [],
   "source": [
    "file = './folder1/test4.txt'\n",
    "\n",
    "f = open(file, 'w', encoding='utf-8')\n",
    "f.close()"
   ]
  },
  {
   "cell_type": "code",
   "execution_count": 91,
   "id": "613412c6-eb69-480f-9a0f-6cca9c9d0600",
   "metadata": {},
   "outputs": [],
   "source": [
    "# 없을 때는 만들어라\n",
    "if not os.path.isdir('folder2'):\n",
    "    os.mkdir('folder2')"
   ]
  },
  {
   "cell_type": "code",
   "execution_count": 92,
   "id": "7a094e36-d3ce-4339-8ba4-651c20d8ce28",
   "metadata": {},
   "outputs": [
    {
     "name": "stdout",
     "output_type": "stream",
     "text": [
      "True\n",
      "False\n"
     ]
    }
   ],
   "source": [
    "print(os.path.exists(file))\n",
    "print(os.path.exists('./folder2/test4'))"
   ]
  },
  {
   "cell_type": "code",
   "execution_count": 93,
   "id": "cf6dc325-fe7b-494e-9c37-0911933f3303",
   "metadata": {},
   "outputs": [],
   "source": [
    "os.remove(file)\n",
    "os.rmdir('folder2')"
   ]
  },
  {
   "cell_type": "code",
   "execution_count": 94,
   "id": "4bb57d91-5fec-4c94-84b2-8188f93f93f3",
   "metadata": {},
   "outputs": [
    {
     "data": {
      "text/plain": [
       "False"
      ]
     },
     "execution_count": 94,
     "metadata": {},
     "output_type": "execute_result"
    }
   ],
   "source": [
    "os.path.isdir('folder2')"
   ]
  },
  {
   "cell_type": "markdown",
   "id": "9de9bf1a-1f22-470e-b714-a638f90bd4a5",
   "metadata": {},
   "source": [
    "##### 연습 문제\n",
    "- 하위 폴더 새로 만들기\n",
    "- 내용 아무거나 쓰기\n",
    "- 열기"
   ]
  },
  {
   "cell_type": "code",
   "execution_count": 96,
   "id": "8c9ec0f3-2f3f-4bd3-9d03-e8ac9cb24557",
   "metadata": {},
   "outputs": [
    {
     "data": {
      "text/plain": [
       "'C:\\\\Users\\\\bingo\\\\week_assignment'"
      ]
     },
     "execution_count": 96,
     "metadata": {},
     "output_type": "execute_result"
    }
   ],
   "source": [
    "os.getcwd()"
   ]
  },
  {
   "cell_type": "code",
   "execution_count": 97,
   "id": "ad092f2f-4b31-4f03-b803-b23b832bbb85",
   "metadata": {},
   "outputs": [],
   "source": [
    "# folder: 하위폴더 새로 만들고\n",
    "if not os.path.isdir('test_folder'):\n",
    "    os.mkdir('test_folder')\n",
    "\n",
    "# 파일 쓰기: 내용 아무거나\n",
    "with open('./test_folder/test5.txt', 'w') as f:\n",
    "    f.write('hello again')\n",
    "\n",
    "# 열기"
   ]
  },
  {
   "cell_type": "markdown",
   "id": "3aa2fc13-48d8-4899-9132-16bca3baa368",
   "metadata": {},
   "source": [
    "### pickle\n",
    "- 객체를 `저장하기`, `열기` 할 수 있다.\n",
    "- `저장`: `.dump(<객체>, <파일명>)`\n",
    "- `열기`: `<변수명> = pickle.load(<파일명>)`"
   ]
  },
  {
   "cell_type": "code",
   "execution_count": 98,
   "id": "bd075553-5aa9-4aac-a558-7f99b0b0ea34",
   "metadata": {},
   "outputs": [],
   "source": [
    "import pickle"
   ]
  },
  {
   "cell_type": "code",
   "execution_count": 99,
   "id": "1a1d7961-44f1-4886-b56c-4efa4523ccad",
   "metadata": {},
   "outputs": [
    {
     "data": {
      "text/plain": [
       "[0, 1, 2, 3, 4, 5, 6, 7, 8, 9]"
      ]
     },
     "execution_count": 99,
     "metadata": {},
     "output_type": "execute_result"
    }
   ],
   "source": [
    "num = list(range(10))\n",
    "num"
   ]
  },
  {
   "cell_type": "code",
   "execution_count": 101,
   "id": "2fbbd8ff-196c-4828-85ee-bea2e9d667cc",
   "metadata": {},
   "outputs": [],
   "source": [
    "f = open('test.pickle', 'wb')\n",
    "pickle.dump(num, f)\n",
    "f.close()"
   ]
  },
  {
   "cell_type": "code",
   "execution_count": 102,
   "id": "ce1c32ac-ce1e-439c-bdb7-35548282cb56",
   "metadata": {},
   "outputs": [],
   "source": [
    "with open('test.pickle', 'rb') as f:\n",
    "    number = pickle.load(f)"
   ]
  },
  {
   "cell_type": "code",
   "execution_count": 103,
   "id": "fb55fe63-e767-4c81-b4fa-c176d5dfc2fa",
   "metadata": {},
   "outputs": [
    {
     "data": {
      "text/plain": [
       "[0, 1, 2, 3, 4, 5, 6, 7, 8, 9]"
      ]
     },
     "execution_count": 103,
     "metadata": {},
     "output_type": "execute_result"
    }
   ],
   "source": [
    "number"
   ]
  }
 ],
 "metadata": {
  "kernelspec": {
   "display_name": "Python 3 (ipykernel)",
   "language": "python",
   "name": "python3"
  },
  "language_info": {
   "codemirror_mode": {
    "name": "ipython",
    "version": 3
   },
   "file_extension": ".py",
   "mimetype": "text/x-python",
   "name": "python",
   "nbconvert_exporter": "python",
   "pygments_lexer": "ipython3",
   "version": "3.9.7"
  }
 },
 "nbformat": 4,
 "nbformat_minor": 5
}
